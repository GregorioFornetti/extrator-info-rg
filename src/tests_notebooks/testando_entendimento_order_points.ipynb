{
 "cells": [
  {
   "cell_type": "markdown",
   "metadata": {},
   "source": [
    "# Testes para verificar o entendimento da função order points"
   ]
  },
  {
   "cell_type": "code",
   "execution_count": 8,
   "metadata": {},
   "outputs": [],
   "source": [
    "import numpy as np"
   ]
  },
  {
   "cell_type": "code",
   "execution_count": 9,
   "metadata": {},
   "outputs": [],
   "source": [
    "def order_points(pts):\n",
    "   # initializing the list of coordinates to be ordered\n",
    "   rect = np.zeros((4, 2), dtype = \"float32\")\n",
    "\n",
    "   s = pts.sum(axis = 1)\n",
    "\n",
    "   # top-left point will have the smallest sum\n",
    "   rect[0] = pts[np.argmin(s)]\n",
    "\n",
    "   # bottom-right point will have the largest sum\n",
    "   rect[2] = pts[np.argmax(s)]\n",
    "\n",
    "   '''computing the difference between the points, the\n",
    "   top-right point will have the smallest difference,\n",
    "   whereas the bottom-left will have the largest difference'''\n",
    "   diff = np.diff(pts, axis = 1)\n",
    "   print(diff)\n",
    "   rect[1] = pts[np.argmin(diff)]\n",
    "   rect[3] = pts[np.argmax(diff)]\n",
    "\n",
    "   # returns ordered coordinates\n",
    "   return rect"
   ]
  },
  {
   "cell_type": "code",
   "execution_count": 10,
   "metadata": {},
   "outputs": [
    {
     "name": "stdout",
     "output_type": "stream",
     "text": [
      "[[   0]\n",
      " [ 150]\n",
      " [  50]\n",
      " [-100]]\n",
      "[[  0.   0.]\n",
      " [100.   0.]\n",
      " [100. 150.]\n",
      " [  0. 150.]]\n"
     ]
    }
   ],
   "source": [
    "rect_vertical = np.array([\n",
    "    [0, 0],\n",
    "    [0, 150],\n",
    "    [100, 150],\n",
    "    [100, 0]\n",
    "])\n",
    "print(order_points(rect_vertical))"
   ]
  },
  {
   "cell_type": "code",
   "execution_count": 12,
   "metadata": {},
   "outputs": [
    {
     "name": "stdout",
     "output_type": "stream",
     "text": [
      "[[   0]\n",
      " [-150]\n",
      " [ -50]\n",
      " [ 100]]\n",
      "[[  0.   0.]\n",
      " [150.   0.]\n",
      " [150. 100.]\n",
      " [  0. 100.]]\n"
     ]
    }
   ],
   "source": [
    "rect_horizontal = np.array([\n",
    "    [0, 0],\n",
    "    [150, 0],\n",
    "    [150, 100],\n",
    "    [0, 100]\n",
    "])\n",
    "print(order_points(rect_horizontal))"
   ]
  }
 ],
 "metadata": {
  "kernelspec": {
   "display_name": "PI",
   "language": "python",
   "name": "python3"
  },
  "language_info": {
   "codemirror_mode": {
    "name": "ipython",
    "version": 3
   },
   "file_extension": ".py",
   "mimetype": "text/x-python",
   "name": "python",
   "nbconvert_exporter": "python",
   "pygments_lexer": "ipython3",
   "version": "3.8.16"
  },
  "orig_nbformat": 4
 },
 "nbformat": 4,
 "nbformat_minor": 2
}
