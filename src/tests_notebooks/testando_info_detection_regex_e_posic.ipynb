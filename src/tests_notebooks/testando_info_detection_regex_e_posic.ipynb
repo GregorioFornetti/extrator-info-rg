{
 "cells": [
  {
   "attachments": {},
   "cell_type": "markdown",
   "metadata": {},
   "source": [
    "# Construindo algoritmos para identificar informações importantes do documento"
   ]
  },
  {
   "cell_type": "markdown",
   "metadata": {},
   "source": [
    "No notebook `testando_regex.ipynb` estão implementados os algoritmos sem a utilização da posição para identificar as informações importantes. É possível utilizar a posição dos textos identificados para desvendar informações relevantes de forma mais eficiente."
   ]
  },
  {
   "cell_type": "code",
   "execution_count": null,
   "metadata": {},
   "outputs": [],
   "source": [
    "%pip ins'tall ipywidgets"
   ]
  },
  {
   "cell_type": "code",
   "execution_count": null,
   "metadata": {},
   "outputs": [],
   "source": [
    "import re"
   ]
  },
  {
   "attachments": {},
   "cell_type": "markdown",
   "metadata": {},
   "source": [
    "## Exemplos de texto que podem ser fornecidos"
   ]
  },
  {
   "cell_type": "code",
   "execution_count": null,
   "metadata": {},
   "outputs": [],
   "source": [
    "texto_1 = '''\n",
    "VALIDO EM TODO TERRITORIO NACIONAL\n",
    "07.116.299-9 expevis 20/09/1976\n",
    "NOME\n",
    "SANDLER CAFFARO\n",
    "FILIACAO\n",
    "GABRIELA AUDI LUCARELLI\n",
    "NATURALIDADE N DATA DE NASCIMENTO\n",
    "BORBA-AM É Do 20/08/1999\n",
    "Doc ongem C.NAS=116 LV=291 FL=Sd3\n",
    "CURITIBA-PR\n",
    "CPF 025.762.835-51 71695/9247\n",
    "\n",
    "TONELOTITEYTAN ROSANTE\n",
    "NH 94 ASSINATURA DO DIRETOR\n",
    "'''"
   ]
  },
  {
   "cell_type": "code",
   "execution_count": null,
   "metadata": {},
   "outputs": [],
   "source": [
    "%matplotlib inline\n",
    "\n",
    "import pytesseract\n",
    "import cv2\n",
    "\n",
    "import pandas as pd\n",
    "from matplotlib import pyplot as plt\n",
    "\n",
    "pytesseract.pytesseract.tesseract_cmd = r'C:/Program Files/Tesseract-OCR/tesseract.exe'"
   ]
  },
  {
   "cell_type": "code",
   "execution_count": null,
   "metadata": {},
   "outputs": [],
   "source": [
    "img_path = \"../../BID Dataset/RG_Verso/00025928_in.jpg\""
   ]
  },
  {
   "cell_type": "code",
   "execution_count": null,
   "metadata": {},
   "outputs": [],
   "source": [
    "image = cv2.imread(img_path)"
   ]
  },
  {
   "cell_type": "code",
   "execution_count": null,
   "metadata": {},
   "outputs": [],
   "source": [
    "df = pytesseract.image_to_data(image, lang='por', output_type='data.frame')"
   ]
  },
  {
   "attachments": {},
   "cell_type": "markdown",
   "metadata": {},
   "source": [
    "## Criando e testando Regex/ identificação de padrões"
   ]
  },
  {
   "cell_type": "code",
   "execution_count": null,
   "metadata": {},
   "outputs": [],
   "source": [
    "def create_info_dict_from_row(row, name):\n",
    "    return {\n",
    "        'left': row['left'],\n",
    "        'top': row['top'],\n",
    "        'width': row['width'],\n",
    "        'height': row['height'],\n",
    "        'name': name\n",
    "    }"
   ]
  },
  {
   "attachments": {},
   "cell_type": "markdown",
   "metadata": {},
   "source": [
    "### Identificação CPF"
   ]
  },
  {
   "cell_type": "code",
   "execution_count": null,
   "metadata": {},
   "outputs": [],
   "source": [
    "cpf_regex = r'^\\d{3}[\\,\\.]?\\d{3}[\\,\\.]?\\d{3}[\\,\\.\\-\\/]?\\d{2}$'\n",
    "\n",
    "# O padrão do CPF é bem definido, então não é necessário usar posições para identificar o CPF\n",
    "def find_cpf(identified_texts_df):\n",
    "    for i, row in identified_texts_df.iterrows():\n",
    "        if is_cpf(row['text']):\n",
    "            return format_cpf(row['text']), create_info_dict_from_row(row, 'cpf')\n",
    "    return False\n",
    "\n",
    "def is_cpf(text):\n",
    "    if not isinstance(text, str):\n",
    "        return False\n",
    "    return bool(re.search(cpf_regex, text))\n",
    "\n",
    "def format_cpf(unformated_cpf):\n",
    "    # Remove todas pontuações da regex, mantendo apenas os digitos\n",
    "    cpf = re.sub(r'[\\-\\,\\.\\/]', '', unformated_cpf)\n",
    "    # Retorna o CPF com o seu padrão correto\n",
    "    return f'{cpf[0:3]}.{cpf[3:6]}.{cpf[6:9]}-{cpf[9:11]}'\n",
    "    "
   ]
  },
  {
   "cell_type": "code",
   "execution_count": null,
   "metadata": {},
   "outputs": [],
   "source": [
    "print(is_cpf('123.456.789-10'))"
   ]
  },
  {
   "cell_type": "code",
   "execution_count": null,
   "metadata": {},
   "outputs": [],
   "source": [
    "find_cpf(df)"
   ]
  },
  {
   "attachments": {},
   "cell_type": "markdown",
   "metadata": {},
   "source": [
    "### Identificação RG"
   ]
  },
  {
   "cell_type": "code",
   "execution_count": null,
   "metadata": {},
   "outputs": [],
   "source": [
    "rg_regex = r'^\\d{2}[\\,\\.]?\\d{3}[\\,\\.]?\\d{3}[\\,\\.\\-]?\\d$'\n",
    "\n",
    "# O padrão do RG é bem definido, então não é necessário usar posições para identificar o RG\n",
    "def find_rg(identified_texts_df):\n",
    "    for i, row in identified_texts_df.iterrows():\n",
    "        if is_rg(row['text']):\n",
    "            return format_rg(row['text']), create_info_dict_from_row(row, 'rg')\n",
    "    return False\n",
    "    \n",
    "def is_rg(text):\n",
    "    if not isinstance(text, str):\n",
    "        return False\n",
    "    return bool(re.search(rg_regex, text))\n",
    "\n",
    "def format_rg(unformated_rg):\n",
    "    # Remove todas pontuações da regex, mantendo apenas os digitos\n",
    "    rg = re.sub(r'[\\-\\,\\.]', '', unformated_rg)\n",
    "    # Retorna o RG com o seu padrão correto\n",
    "    return f'{rg[0:2]}.{rg[2:5]}.{rg[5:8]}-{rg[8:9]}'"
   ]
  },
  {
   "attachments": {},
   "cell_type": "markdown",
   "metadata": {},
   "source": [
    "### Identificação data de nascimento"
   ]
  },
  {
   "cell_type": "code",
   "execution_count": null,
   "metadata": {},
   "outputs": [],
   "source": [
    "date_regex = r'^\\d{2}[\\/]?\\d{2}[\\/]?\\d{4}$'\n",
    "\n",
    "def find_birthdate(identified_texts_df):\n",
    "    expedicao_found = False\n",
    "    \n",
    "    for i, row in identified_texts_df.iterrows():\n",
    "        if isinstance(row['text'], str):\n",
    "            if expedicao_found and is_date(row['text']):\n",
    "                return format_date(row['text']), create_info_dict_from_row(row, 'nasc.')\n",
    "\n",
    "            if is_date(row['text']):\n",
    "                expedicao_found = True        \n",
    "    return False\n",
    "\n",
    "def is_date(text):\n",
    "    if not isinstance(text, str):\n",
    "        return False\n",
    "    return bool(re.search(date_regex, text))\n",
    "\n",
    "def format_date(unformated_date):\n",
    "    # Remove todas pontuações da regex, mantendo apenas os digitos\n",
    "    date = re.sub(r'[\\/]', '', unformated_date)\n",
    "    # Retorna a data formatada com o seu padrão correto\n",
    "    return {\n",
    "        'formated_date': f'{date[0:2]}/{date[3:4]}/{date[5:]}',\n",
    "        'day': int(date[0:1]),\n",
    "        'month': int(date[2:3]),\n",
    "        'year': int(date[4:])\n",
    "    }"
   ]
  },
  {
   "attachments": {},
   "cell_type": "markdown",
   "metadata": {},
   "source": [
    "### Identificação nome"
   ]
  },
  {
   "cell_type": "code",
   "execution_count": null,
   "metadata": {},
   "outputs": [],
   "source": [
    "def find_name(identified_texts_df):\n",
    "    nome_found = False\n",
    "\n",
    "    name = ''\n",
    "    info_dict = {\n",
    "        'left': None,\n",
    "        'top': None,\n",
    "        'width': 0,\n",
    "        'height': 0,\n",
    "        'name': 'nome'\n",
    "    }\n",
    "    space_width = 6\n",
    "    for i, row in identified_texts_df.iterrows():\n",
    "        if isinstance(row['text'], str):\n",
    "            if row['text'].lower() == 'filiação' or row['text'].lower() == 'filiacao' or (info_dict['top'] and info_dict['top'] + 10 < row['top']):\n",
    "                if name == '':\n",
    "                    return False\n",
    "                info_dict['width'] -= space_width\n",
    "                return format_name(name), info_dict\n",
    "\n",
    "            if nome_found and len(row['text']) > 0:\n",
    "                name += row['text'] + ' '\n",
    "                if info_dict['left'] is None:\n",
    "                    info_dict['left'] = row['left']\n",
    "                    info_dict['top'] = row['top']\n",
    "                    info_dict['height'] = row['height']\n",
    "                info_dict['width'] += row['width'] + space_width\n",
    "            \n",
    "            if row['text'].lower() == 'nome':\n",
    "                nome_found = True\n",
    "    return False\n",
    "\n",
    "def format_name(text):\n",
    "    if not isinstance(text, str):\n",
    "        return False\n",
    "    return text.strip().title()"
   ]
  },
  {
   "attachments": {},
   "cell_type": "markdown",
   "metadata": {},
   "source": [
    "## Teste camera"
   ]
  },
  {
   "cell_type": "code",
   "execution_count": null,
   "metadata": {},
   "outputs": [],
   "source": [
    "# init camera\n",
    "camera = cv2.VideoCapture(0)"
   ]
  },
  {
   "cell_type": "code",
   "execution_count": null,
   "metadata": {},
   "outputs": [],
   "source": [
    "ret, frame = camera.read()"
   ]
  },
  {
   "cell_type": "code",
   "execution_count": null,
   "metadata": {},
   "outputs": [],
   "source": [
    "# show camera frame\n",
    "from time import sleep\n",
    "from IPython.display import display, Image\n",
    "\n",
    "display_handle=display(None, display_id=True)\n",
    "for i in range(10):\n",
    "    ret, frame = camera.read()\n",
    "    _, frame = cv2.imencode('.jpeg', frame)\n",
    "    display_handle.update(Image(data=frame.tobytes()))"
   ]
  },
  {
   "cell_type": "code",
   "execution_count": null,
   "metadata": {},
   "outputs": [],
   "source": [
    "camera.release()\n",
    "display_handle.update(None)"
   ]
  },
  {
   "attachments": {},
   "cell_type": "markdown",
   "metadata": {},
   "source": [
    "## Codigo geral"
   ]
  },
  {
   "cell_type": "code",
   "execution_count": null,
   "metadata": {},
   "outputs": [],
   "source": [
    "def key_function(rows):\n",
    "    def get_key(value):\n",
    "        if isinstance(value, int):\n",
    "            return value\n",
    "        else:\n",
    "            return value[0]\n",
    "    \n",
    "    return rows.map(get_key)"
   ]
  },
  {
   "cell_type": "code",
   "execution_count": null,
   "metadata": {},
   "outputs": [],
   "source": [
    "def get_document_info(document_image):\n",
    "    document_dict = {}\n",
    "    document_bounding_boxes = []\n",
    "\n",
    "    identified_texts_df = pytesseract.image_to_data(document_image, lang='por', output_type='data.frame')\n",
    "    identified_texts_df = identified_texts_df.sort_values(by=['top', 'left'], key=key_function).reset_index(drop=True)\n",
    "\n",
    "    name_response = find_name(identified_texts_df)\n",
    "    if name_response:\n",
    "        document_dict['nome'] = name_response[0]\n",
    "        document_bounding_boxes.append(name_response[1])\n",
    "\n",
    "    cpf_response = find_cpf(identified_texts_df)\n",
    "    if cpf_response:\n",
    "        document_dict['cpf'] = cpf_response[0]\n",
    "        document_bounding_boxes.append(cpf_response[1])\n",
    "    \n",
    "    name_response = find_name(identified_texts_df)\n",
    "    if name_response:\n",
    "        document_dict['nome'] = name_response[0]\n",
    "        document_bounding_boxes.append(name_response[1])\n",
    "    \n",
    "    rg_response = find_rg(identified_texts_df)\n",
    "    if rg_response:\n",
    "        document_dict['rg'] = rg_response[0]\n",
    "        document_bounding_boxes.append(rg_response[1])\n",
    "    \n",
    "    birthdate_response = find_birthdate(identified_texts_df)\n",
    "    if birthdate_response:\n",
    "        document_dict['data de nascimento'] = birthdate_response[0]\n",
    "        document_bounding_boxes.append(birthdate_response[1])\n",
    "    \n",
    "    return document_dict, pd.DataFrame(document_bounding_boxes)"
   ]
  },
  {
   "cell_type": "code",
   "execution_count": null,
   "metadata": {},
   "outputs": [],
   "source": [
    "def add_bounding_boxes(document_image, bounding_boxes, padding=5, color=(0, 255, 0)):\n",
    "    for i, row in bounding_boxes.iterrows():\n",
    "        (x, y, w, h) = (row['left'], row['top'], row['width'], row['height'])\n",
    "\n",
    "        x -= padding\n",
    "        y -= padding\n",
    "        w += padding * 2\n",
    "        h += padding * 2\n",
    "\n",
    "        cv2.rectangle(\n",
    "            img=document_image, \n",
    "            pt1=(x, y),\n",
    "            pt2=(x + w, y + h), \n",
    "            color=color, \n",
    "            thickness=2\n",
    "        )\n",
    "        cv2.putText(\n",
    "            img=document_image,\n",
    "            text=row['name'], \n",
    "            org=(x + w + 10, y + h), \n",
    "            fontFace=cv2.FONT_HERSHEY_SIMPLEX, \n",
    "            fontScale=2,\n",
    "            color=color,\n",
    "            thickness=2,\n",
    "            lineType=cv2.LINE_AA\n",
    "        )\n",
    "    return document_image"
   ]
  },
  {
   "cell_type": "code",
   "execution_count": null,
   "metadata": {},
   "outputs": [],
   "source": [
    "document_dict, document_bounding_boxes = get_document_info(image)"
   ]
  },
  {
   "cell_type": "code",
   "execution_count": null,
   "metadata": {},
   "outputs": [],
   "source": [
    "add_bounding_boxes(image, document_bounding_boxes)\n",
    "plt.imshow(image)\n",
    "plt.show()"
   ]
  },
  {
   "attachments": {},
   "cell_type": "markdown",
   "metadata": {},
   "source": [
    "## Detecção em tempo real"
   ]
  },
  {
   "cell_type": "code",
   "execution_count": null,
   "metadata": {},
   "outputs": [],
   "source": [
    "def all_info_collected(document_dict):\n",
    "    necessary_keys = ['cpf', 'rg', 'data de nascimento', 'nome']\n",
    "    document_keys = list(document_dict.keys())\n",
    "    for necessary_key in necessary_keys:\n",
    "        if necessary_key not in document_keys:\n",
    "            return False\n",
    "    return True\n",
    "\n",
    "camera = cv2.VideoCapture(0)"
   ]
  },
  {
   "cell_type": "code",
   "execution_count": null,
   "metadata": {},
   "outputs": [],
   "source": [
    "camera = cv2.VideoCapture(0)\n",
    "\n",
    "display_handle = display(None, display_id=True)\n",
    "document_dict = {}\n",
    "document_bounding_boxes = None\n",
    "\n",
    "while not all_info_collected(document_dict):\n",
    "    ret, frame = camera.read()\n",
    "\n",
    "    document_dict, document_bounding_boxes = get_document_info(frame)\n",
    "\n",
    "    # frame = cv2.flip(frame, 1) # if your camera reverses your image\n",
    "    frame = add_bounding_boxes(frame, document_bounding_boxes)\n",
    "\n",
    "    _, frame = cv2.imencode('.jpg', frame)\n",
    "    display_handle.update(Image(data=frame.tobytes()))\n"
   ]
  },
  {
   "cell_type": "code",
   "execution_count": null,
   "metadata": {},
   "outputs": [],
   "source": [
    "camera.release()\n",
    "display_handle.update(None)"
   ]
  }
 ],
 "metadata": {
  "kernelspec": {
   "display_name": "PI",
   "language": "python",
   "name": "python3"
  },
  "language_info": {
   "codemirror_mode": {
    "name": "ipython",
    "version": 3
   },
   "file_extension": ".py",
   "mimetype": "text/x-python",
   "name": "python",
   "nbconvert_exporter": "python",
   "pygments_lexer": "ipython3",
   "version": "3.8.16"
  },
  "orig_nbformat": 4
 },
 "nbformat": 4,
 "nbformat_minor": 2
}
