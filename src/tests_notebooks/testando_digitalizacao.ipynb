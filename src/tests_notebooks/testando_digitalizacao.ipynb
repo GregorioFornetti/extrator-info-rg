{
 "cells": [
  {
   "cell_type": "markdown",
   "metadata": {},
   "source": [
    "# Tentando digitalizar documentos a partir de fotos do mesmo"
   ]
  },
  {
   "cell_type": "markdown",
   "metadata": {},
   "source": [
    "Para isso, está sendo usado como base [esse tutorial](https://www.makeuseof.com/python-create-document-scanner/)"
   ]
  },
  {
   "cell_type": "markdown",
   "metadata": {},
   "source": [
    "## Instalando bibliotecas necessárias"
   ]
  },
  {
   "cell_type": "code",
   "execution_count": null,
   "metadata": {},
   "outputs": [],
   "source": [
    "%pip install OpenCV-Python imutils scikit-image NumPy"
   ]
  },
  {
   "cell_type": "markdown",
   "metadata": {},
   "source": [
    "## Importando bibliotecas necessárias"
   ]
  },
  {
   "cell_type": "code",
   "execution_count": null,
   "metadata": {},
   "outputs": [],
   "source": [
    "import cv2\n",
    "import imutils\n",
    "from skimage.filters import threshold_local\n",
    "from matplotlib import pyplot as plt\n",
    "import ipywidgets as widgets\n",
    "from time import sleep\n",
    "import asyncio\n",
    "\n",
    "import numpy as np\n",
    "# from transform import perspective_transform"
   ]
  },
  {
   "cell_type": "markdown",
   "metadata": {},
   "source": [
    "## Lendo imagem"
   ]
  },
  {
   "cell_type": "code",
   "execution_count": null,
   "metadata": {},
   "outputs": [],
   "source": [
    "\n",
    "original_img = cv2.imread('../../imgs_teste/4.jpeg')\n",
    "copy = original_img.copy()\n",
    "\n",
    "\n",
    "ratio = original_img.shape[0] / 500.0\n",
    "img_resize = imutils.resize(original_img, height=500)\n",
    "plt.imshow(img_resize)\n",
    "\n",
    "plt.show()\n"
   ]
  },
  {
   "cell_type": "code",
   "execution_count": null,
   "metadata": {},
   "outputs": [],
   "source": [
    "\n",
    "gray_image = cv2.cvtColor(img_resize, cv2.COLOR_BGR2GRAY)\n",
    "plt.imshow(gray_image, cmap='gray')\n",
    "plt.show()"
   ]
  },
  {
   "cell_type": "markdown",
   "metadata": {},
   "source": [
    "## Aplicando o detector de cantos"
   ]
  },
  {
   "cell_type": "code",
   "execution_count": null,
   "metadata": {},
   "outputs": [],
   "source": [
    "blurred_image = cv2.GaussianBlur(gray_image, (5, 5), 0)\n",
    "\n",
    "edged_img = cv2.Canny(blurred_image, 75, 200)\n",
    "\n",
    "plt.imshow(edged_img, cmap='gray')\n",
    "plt.show()"
   ]
  },
  {
   "cell_type": "code",
   "execution_count": null,
   "metadata": {},
   "outputs": [],
   "source": [
    "cnts, _ = cv2.findContours(edged_img, cv2.RETR_LIST, cv2.CHAIN_APPROX_SIMPLE)\n",
    "cnts = sorted(cnts, key=cv2.contourArea, reverse=True)[:5]\n",
    "\n",
    "for c in cnts:\n",
    "    peri = cv2.arcLength(c, True)\n",
    "    approx = cv2.approxPolyDP(c, 0.02 * peri, True)\n",
    "\n",
    "    if len(approx) == 4:\n",
    "        doc = approx\n",
    "        break"
   ]
  },
  {
   "cell_type": "code",
   "execution_count": null,
   "metadata": {},
   "outputs": [],
   "source": [
    "p = []\n",
    "\n",
    "for d in doc:\n",
    "    tuple_point = tuple(d[0])\n",
    "    cv2.circle(img_resize, tuple_point, 3, (0, 0, 255), 4)\n",
    "    p.append(tuple_point)\n",
    "\n",
    "plt.imshow(img_resize)\n",
    "plt.show()"
   ]
  },
  {
   "cell_type": "markdown",
   "metadata": {},
   "source": [
    "## Transformando a imagem (digitalização)"
   ]
  },
  {
   "cell_type": "code",
   "execution_count": null,
   "metadata": {},
   "outputs": [],
   "source": [
    "def order_points(pts):\n",
    "   # initializing the list of coordinates to be ordered\n",
    "   rect = np.zeros((4, 2), dtype = \"float32\")\n",
    "\n",
    "   s = pts.sum(axis = 1)\n",
    "\n",
    "   # top-left point will have the smallest sum\n",
    "   rect[0] = pts[np.argmin(s)]\n",
    "\n",
    "   # bottom-right point will have the largest sum\n",
    "   rect[2] = pts[np.argmax(s)]\n",
    "\n",
    "   '''computing the difference between the points, the\n",
    "   top-right point will have the smallest difference,\n",
    "   whereas the bottom-left will have the largest difference'''\n",
    "   diff = np.diff(pts, axis = 1)\n",
    "   rect[1] = pts[np.argmin(diff)]\n",
    "   rect[3] = pts[np.argmax(diff)]\n",
    "\n",
    "   # returns ordered coordinates\n",
    "   return rect"
   ]
  },
  {
   "cell_type": "code",
   "execution_count": null,
   "metadata": {},
   "outputs": [],
   "source": [
    "def perspective_transform(image, pts):\n",
    "   # unpack the ordered coordinates individually\n",
    "   rect = order_points(pts)\n",
    "   (tl, tr, br, bl) = rect\n",
    "\n",
    "   '''compute the width of the new image, which will be the\n",
    "   maximum distance between bottom-right and bottom-left\n",
    "   x-coordinates or the top-right and top-left x-coordinates'''\n",
    "   widthA = np.sqrt(((br[0] - bl[0]) ** 2) + ((br[1] - bl[1]) ** 2))\n",
    "   widthB = np.sqrt(((tr[0] - tl[0]) ** 2) + ((tr[1] - tl[1]) ** 2))\n",
    "   maxWidth = max(int(widthA), int(widthB))\n",
    "\n",
    "   '''compute the height of the new image, which will be the\n",
    "   maximum distance between the top-left and bottom-left y-coordinates'''\n",
    "   heightA = np.sqrt(((tr[0] - br[0]) ** 2) + ((tr[1] - br[1]) ** 2))\n",
    "   heightB = np.sqrt(((tl[0] - bl[0]) ** 2) + ((tl[1] - bl[1]) ** 2))\n",
    "   maxHeight = max(int(heightA), int(heightB))\n",
    "\n",
    "   '''construct the set of destination points to obtain an overhead shot'''\n",
    "   dst = np.array([\n",
    "      [0, 0],\n",
    "      [maxWidth - 1, 0],\n",
    "      [maxWidth - 1, maxHeight - 1],\n",
    "      [0, maxHeight - 1]], dtype = \"float32\")\n",
    "\n",
    "   # compute the perspective transform matrix\n",
    "   transform_matrix = cv2.getPerspectiveTransform(rect, dst)\n",
    "\n",
    "   # Apply the transform matrix\n",
    "   warped = cv2.warpPerspective(image, transform_matrix, (maxWidth, maxHeight))\n",
    "\n",
    "   # return the warped image\n",
    "   return warped"
   ]
  },
  {
   "cell_type": "markdown",
   "metadata": {},
   "source": [
    "## Aplicando a digitalização"
   ]
  },
  {
   "cell_type": "code",
   "execution_count": null,
   "metadata": {},
   "outputs": [],
   "source": [
    "warped_image = perspective_transform(copy, doc.reshape(4, 2) * ratio)\n",
    "warped_image = cv2.cvtColor(warped_image, cv2.COLOR_BGR2GRAY)\n",
    "\n",
    "plt.imshow(imutils.resize(warped_image, height=650), cmap='gray')\n",
    "plt.show()"
   ]
  },
  {
   "cell_type": "markdown",
   "metadata": {},
   "source": [
    "## Aplicando digitalização em tempo real"
   ]
  },
  {
   "cell_type": "markdown",
   "metadata": {},
   "source": [
    "### Transformando em funções"
   ]
  },
  {
   "cell_type": "code",
   "execution_count": null,
   "metadata": {},
   "outputs": [],
   "source": [
    "def find_points(img):\n",
    "    doc = None\n",
    "    gray_image = cv2.cvtColor(img, cv2.COLOR_BGR2GRAY)\n",
    "    \n",
    "    blurred_image = cv2.GaussianBlur(gray_image, (5, 5), 0)\n",
    "\n",
    "    edged_img = cv2.Canny(blurred_image, 75, 200)\n",
    "\n",
    "    cnts, _ = cv2.findContours(edged_img, cv2.RETR_LIST, cv2.CHAIN_APPROX_SIMPLE)\n",
    "    cnts = sorted(cnts, key=cv2.contourArea, reverse=True)[:5]\n",
    "\n",
    "    for c in cnts:\n",
    "        peri = cv2.arcLength(c, True)\n",
    "        approx = cv2.approxPolyDP(c, 0.02 * peri, True)\n",
    "\n",
    "        if len(approx) == 4:\n",
    "            doc = approx\n",
    "            break\n",
    "    \n",
    "    if doc is not None:\n",
    "        p = []\n",
    "\n",
    "        for d in doc:\n",
    "            tuple_point = tuple(d[0])\n",
    "            cv2.circle(img, tuple_point, 3, (0, 0, 255), 4)\n",
    "            p.append(tuple_point)\n",
    "\n",
    "        return np.array(p)\n",
    "    else:\n",
    "        return False"
   ]
  },
  {
   "cell_type": "markdown",
   "metadata": {},
   "source": [
    "### Criando interface para digitalização em tempo real"
   ]
  },
  {
   "cell_type": "code",
   "execution_count": null,
   "metadata": {},
   "outputs": [],
   "source": [
    "raw_img_widget = widgets.Image(\n",
    "    format='jpg',\n",
    "    width=600,\n",
    "    height=400\n",
    ")\n",
    "\n",
    "digitalizar_btn = widgets.Button(\n",
    "    description='Digitalizar',\n",
    "    button_style='success',\n",
    "    icon='check'\n",
    ")\n",
    "\n",
    "stop_btn = widgets.Button(\n",
    "    description='Parar',\n",
    "    button_style='danger',\n",
    "    icon='times'\n",
    ")\n",
    "\n",
    "digitalized_img_widget = widgets.Image(\n",
    "    format='jpg',\n",
    "    width=600,\n",
    "    height=400\n",
    ")\n",
    "\n",
    "points = False\n",
    "frame = False\n",
    "\n",
    "def on_digitalizar_btn_click():\n",
    "    global frame\n",
    "    global points\n",
    "    if isinstance(points, np.ndarray):\n",
    "        warped_image = perspective_transform(frame, points.reshape(4, 2))\n",
    "        warped_image = cv2.cvtColor(warped_image, cv2.COLOR_BGR2GRAY)\n",
    "\n",
    "        digitalized_img_widget.value = cv2.imencode('.jpg', warped_image)[1].tobytes()\n",
    "\n",
    "\n",
    "digitalizar_btn.on_click(lambda _: on_digitalizar_btn_click())"
   ]
  },
  {
   "cell_type": "code",
   "execution_count": null,
   "metadata": {},
   "outputs": [],
   "source": [
    "display(raw_img_widget)\n",
    "display(widgets.HBox([\n",
    "    digitalizar_btn,\n",
    "    stop_btn\n",
    "]))\n",
    "display(digitalized_img_widget)\n",
    "\n",
    "delay_in_seconds = 0.1\n",
    "\n",
    "camera = cv2.VideoCapture(0)\n",
    "async def read_image_real_time():\n",
    "    global points\n",
    "    global frame\n",
    "    while True:\n",
    "        ret, frame = camera.read()\n",
    "        frame_copy = frame.copy()\n",
    "        points = find_points(frame_copy)\n",
    "        raw_img_widget.value = cv2.imencode('.jpg', frame_copy)[1].tobytes()\n",
    "        await asyncio.sleep(delay_in_seconds)\n",
    "\n",
    "loop = asyncio.get_event_loop()\n",
    "task = loop.create_task(read_image_real_time())\n",
    "\n",
    "def on_stop_btn_click():\n",
    "    task.cancel()\n",
    "    camera.release()\n",
    "\n",
    "stop_btn.on_click(lambda _: on_stop_btn_click())"
   ]
  }
 ],
 "metadata": {
  "kernelspec": {
   "display_name": "PI",
   "language": "python",
   "name": "python3"
  },
  "language_info": {
   "codemirror_mode": {
    "name": "ipython",
    "version": 3
   },
   "file_extension": ".py",
   "mimetype": "text/x-python",
   "name": "python",
   "nbconvert_exporter": "python",
   "pygments_lexer": "ipython3",
   "version": "3.8.16"
  },
  "orig_nbformat": 4
 },
 "nbformat": 4,
 "nbformat_minor": 2
}
