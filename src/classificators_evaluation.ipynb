{
 "cells": [
  {
   "cell_type": "markdown",
   "metadata": {},
   "source": [
    "# Avaliando os classificadores"
   ]
  },
  {
   "cell_type": "markdown",
   "metadata": {},
   "source": [
    "## Constantes"
   ]
  },
  {
   "cell_type": "code",
   "execution_count": 1,
   "metadata": {},
   "outputs": [],
   "source": [
    "rg_folder = '../RG-Dataset'\n",
    "BID_folder = '../BID Dataset'\n",
    "\n",
    "img_size = (300, 224)"
   ]
  },
  {
   "cell_type": "markdown",
   "metadata": {},
   "source": [
    "## Importações"
   ]
  },
  {
   "cell_type": "code",
   "execution_count": 2,
   "metadata": {},
   "outputs": [],
   "source": [
    "import cv2\n",
    "\n",
    "from image_preprocessing.filters import to_gray, decrease_noise\n",
    "from image_preprocessing.rotations import rotate_90_if_vertical_rectangle\n",
    "\n",
    "import matplotlib.pyplot as plt\n",
    "import numpy as np\n",
    "\n",
    "import os"
   ]
  },
  {
   "cell_type": "markdown",
   "metadata": {},
   "source": [
    "## Funções"
   ]
  },
  {
   "cell_type": "code",
   "execution_count": 3,
   "metadata": {},
   "outputs": [],
   "source": [
    "def load_image(path):\n",
    "    img = cv2.imread(path)\n",
    "    img_gray = to_gray(img)\n",
    "    filtered_image = decrease_noise(img_gray)\n",
    "    filtered_image = rotate_90_if_vertical_rectangle(filtered_image)\n",
    "    resized_image = cv2.resize(filtered_image, img_size)\n",
    "    return resized_image\n",
    "\n",
    "def load_dataset():\n",
    "    X = []\n",
    "    y = []\n",
    "    rg_files_path = f'{rg_folder}/files'\n",
    "    rg_files = os.listdir(rg_files_path)\n",
    "\n",
    "    for file_path in rg_files:\n",
    "        if 'in.jpg' in file_path:\n",
    "            X.append(load_image(f'{rg_files_path}/{file_path}').flatten())\n",
    "            y.append(1)\n",
    "    \n",
    "    for folder in ['CNH_Aberta', 'CNH_Frente', 'CNH_Verso', 'CPF_Frente', 'CPF_Verso']:\n",
    "        folder_path = f'{BID_folder}/{folder}'\n",
    "        document_files = os.listdir(folder_path)\n",
    "        for document_path in document_files:\n",
    "            if 'in.jpg' in document_path:\n",
    "                X.append(load_image(f'{folder_path}/{document_path}').flatten())\n",
    "                y.append(0)\n",
    "    \n",
    "    return np.array(X), np.array(y)\n",
    "\n",
    "\n",
    "X, y = load_dataset()"
   ]
  }
 ],
 "metadata": {
  "kernelspec": {
   "display_name": "PI",
   "language": "python",
   "name": "python3"
  },
  "language_info": {
   "codemirror_mode": {
    "name": "ipython",
    "version": 3
   },
   "file_extension": ".py",
   "mimetype": "text/x-python",
   "name": "python",
   "nbconvert_exporter": "python",
   "pygments_lexer": "ipython3",
   "version": "3.8.16"
  },
  "orig_nbformat": 4
 },
 "nbformat": 4,
 "nbformat_minor": 2
}
