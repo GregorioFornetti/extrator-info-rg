{
 "cells": [
  {
   "cell_type": "markdown",
   "metadata": {},
   "source": [
    "# Avaliando os classificadores"
   ]
  },
  {
   "cell_type": "markdown",
   "metadata": {},
   "source": [
    "## Constantes"
   ]
  },
  {
   "cell_type": "code",
   "execution_count": 1,
   "metadata": {},
   "outputs": [],
   "source": [
    "rg_folder = '../RG-Dataset'\n",
    "BID_folder = '../BID Dataset'\n",
    "\n",
    "img_size = (150, 112)"
   ]
  },
  {
   "cell_type": "markdown",
   "metadata": {},
   "source": [
    "## Importações"
   ]
  },
  {
   "cell_type": "code",
   "execution_count": 17,
   "metadata": {},
   "outputs": [],
   "source": [
    "from image_preprocessing.filters import to_gray, decrease_noise\n",
    "from image_preprocessing.rotations import rotate_90_if_vertical_rectangle\n",
    "\n",
    "import cv2\n",
    "import matplotlib.pyplot as plt\n",
    "import numpy as np\n",
    "from sklearn.model_selection import train_test_split\n",
    "from sklearn.metrics import accuracy_score, precision, recall, f1\n",
    "\n",
    "import os"
   ]
  },
  {
   "cell_type": "markdown",
   "metadata": {},
   "source": [
    "## Funções"
   ]
  },
  {
   "cell_type": "code",
   "execution_count": 3,
   "metadata": {},
   "outputs": [],
   "source": [
    "def load_image(path):\n",
    "    img = cv2.imread(path)\n",
    "    img_gray = to_gray(img)\n",
    "    filtered_image = decrease_noise(img_gray)\n",
    "    filtered_image = rotate_90_if_vertical_rectangle(filtered_image)\n",
    "    resized_image = cv2.resize(filtered_image, img_size)\n",
    "    return resized_image\n",
    "\n",
    "def load_dataset():\n",
    "    X = []\n",
    "    y = []\n",
    "    rg_files_path = f'{rg_folder}/files'\n",
    "    rg_files = os.listdir(rg_files_path)\n",
    "\n",
    "    for file_path in rg_files:\n",
    "        if 'in.jpg' in file_path:\n",
    "            X.append(load_image(f'{rg_files_path}/{file_path}').flatten())\n",
    "            y.append(1)\n",
    "    \n",
    "    for folder in ['CNH_Aberta', 'CNH_Frente', 'CNH_Verso', 'CPF_Frente', 'CPF_Verso']:\n",
    "        folder_path = f'{BID_folder}/{folder}'\n",
    "        document_files = os.listdir(folder_path)\n",
    "        for document_path in document_files:\n",
    "            if 'in.jpg' in document_path:\n",
    "                X.append(load_image(f'{folder_path}/{document_path}').flatten())\n",
    "                y.append(0)\n",
    "    \n",
    "    return np.array(X), np.array(y)\n",
    "\n",
    "def evaluate_model(model, X_test, y_test):\n",
    "    y_pred = model.predict(X_test)\n",
    "    return {\n",
    "        'acurácia': accuracy_score(y_test, y_pred),\n",
    "        'precisão': precision(y_test, y_pred),\n",
    "        'revocação': recall(y_test, y_pred),\n",
    "        'f-medida': f1(y_test, y_pred)\n",
    "    }\n"
   ]
  },
  {
   "cell_type": "code",
   "execution_count": 5,
   "metadata": {},
   "outputs": [],
   "source": [
    "X, y = load_dataset()\n",
    "\n",
    "X = np.array(X)\n",
    "y = np.array(y)"
   ]
  },
  {
   "cell_type": "code",
   "execution_count": 13,
   "metadata": {},
   "outputs": [],
   "source": [
    "X_train, X_test, y_train, y_test = train_test_split(X, y, test_size=0.1, random_state=1, stratify=y)"
   ]
  },
  {
   "cell_type": "markdown",
   "metadata": {},
   "source": [
    "## Testando modelos"
   ]
  },
  {
   "cell_type": "markdown",
   "metadata": {},
   "source": [
    "### SVM One Class"
   ]
  }
 ],
 "metadata": {
  "kernelspec": {
   "display_name": "PI",
   "language": "python",
   "name": "python3"
  },
  "language_info": {
   "codemirror_mode": {
    "name": "ipython",
    "version": 3
   },
   "file_extension": ".py",
   "mimetype": "text/x-python",
   "name": "python",
   "nbconvert_exporter": "python",
   "pygments_lexer": "ipython3",
   "version": "3.8.16"
  },
  "orig_nbformat": 4
 },
 "nbformat": 4,
 "nbformat_minor": 2
}
