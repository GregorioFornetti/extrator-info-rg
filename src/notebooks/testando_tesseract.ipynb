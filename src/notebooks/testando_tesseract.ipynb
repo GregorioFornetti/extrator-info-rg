{
 "cells": [
  {
   "attachments": {},
   "cell_type": "markdown",
   "metadata": {},
   "source": [
    "# Testando Tesseract para OCR"
   ]
  },
  {
   "attachments": {},
   "cell_type": "markdown",
   "metadata": {},
   "source": [
    "## Instalações e imports"
   ]
  },
  {
   "cell_type": "code",
   "execution_count": 6,
   "metadata": {},
   "outputs": [
    {
     "name": "stdout",
     "output_type": "stream",
     "text": [
      "Requirement already satisfied: pytesseract in c:\\users\\gregf\\anaconda3\\envs\\pi\\lib\\site-packages (0.3.10)\n",
      "Requirement already satisfied: packaging>=21.3 in c:\\users\\gregf\\anaconda3\\envs\\pi\\lib\\site-packages (from pytesseract) (23.0)\n",
      "Requirement already satisfied: Pillow>=8.0.0 in c:\\users\\gregf\\anaconda3\\envs\\pi\\lib\\site-packages (from pytesseract) (9.4.0)\n",
      "Note: you may need to restart the kernel to use updated packages.\n",
      "Collecting opencv-python\n",
      "  Downloading opencv_python-4.7.0.72-cp37-abi3-win_amd64.whl (38.2 MB)\n",
      "     ---------------------------------------- 38.2/38.2 MB 2.0 MB/s eta 0:00:00\n",
      "Requirement already satisfied: numpy>=1.17.0 in c:\\users\\gregf\\anaconda3\\envs\\pi\\lib\\site-packages (from opencv-python) (1.23.4)\n",
      "Installing collected packages: opencv-python\n",
      "Successfully installed opencv-python-4.7.0.72\n",
      "Note: you may need to restart the kernel to use updated packages.\n"
     ]
    }
   ],
   "source": [
    "%pip install pytesseract\n",
    "%pip install opencv-python"
   ]
  },
  {
   "cell_type": "code",
   "execution_count": 7,
   "metadata": {},
   "outputs": [],
   "source": [
    "import pytesseract\n",
    "import cv2"
   ]
  },
  {
   "cell_type": "code",
   "execution_count": 13,
   "metadata": {},
   "outputs": [],
   "source": [
    "pytesseract.pytesseract.tesseract_cmd = r'C:/Program Files/Tesseract-OCR/tesseract.exe'"
   ]
  },
  {
   "attachments": {},
   "cell_type": "markdown",
   "metadata": {},
   "source": [
    "## Carregando uma imagem de teste"
   ]
  },
  {
   "attachments": {},
   "cell_type": "markdown",
   "metadata": {},
   "source": [
    "### Imagem que será testada"
   ]
  },
  {
   "attachments": {},
   "cell_type": "markdown",
   "metadata": {},
   "source": [
    "<img src=\"../../BID Dataset/RG_Verso/00025928_in.jpg\">"
   ]
  },
  {
   "attachments": {},
   "cell_type": "markdown",
   "metadata": {},
   "source": [
    "### Lendo a imagem"
   ]
  },
  {
   "cell_type": "code",
   "execution_count": 9,
   "metadata": {},
   "outputs": [],
   "source": [
    "img_path = \"../../BID Dataset/RG_Verso/00025928_in.jpg\""
   ]
  },
  {
   "cell_type": "code",
   "execution_count": 10,
   "metadata": {},
   "outputs": [],
   "source": [
    "image = cv2.imread(img_path)"
   ]
  },
  {
   "cell_type": "code",
   "execution_count": 19,
   "metadata": {},
   "outputs": [],
   "source": [
    "# C:\\Program Files\\Tesseract-OCR\n",
    "text = pytesseract.image_to_string(image)"
   ]
  },
  {
   "cell_type": "code",
   "execution_count": 21,
   "metadata": {},
   "outputs": [
    {
     "name": "stdout",
     "output_type": "stream",
     "text": [
      "['afr', 'amh', 'ara', 'asm', 'aze', 'aze_cyrl', 'bel', 'ben', 'bod', 'bos', 'bre', 'bul', 'cat', 'ceb', 'ces', 'chi_sim', 'chi_sim_vert', 'chi_tra', 'chi_tra_vert', 'cos', 'cym', 'dan', 'deu', 'div', 'dzo', 'ell', 'eng', 'enm', 'epo', 'equ', 'est', 'eus', 'fao', 'fas', 'fil', 'fin', 'fra', 'frk', 'frm', 'fry', 'gla', 'gle', 'glg', 'grc', 'guj', 'hat', 'heb', 'hin', 'hrv', 'hun', 'hye', 'iku', 'ind', 'isl', 'ita', 'ita_old', 'jav', 'jpn', 'jpn_vert', 'kan', 'kat', 'kat_old', 'kaz', 'khm', 'kir', 'kmr', 'kor', 'lao', 'lat', 'lav', 'lit', 'ltz', 'mal', 'mar', 'mkd', 'mlt', 'mon', 'mri', 'msa', 'mya', 'nep', 'nld', 'nor', 'oci', 'ori', 'osd', 'pan', 'pol', 'por', 'pus', 'que', 'ron', 'rus', 'san', 'sin', 'slk', 'slv', 'snd', 'spa', 'spa_old', 'sqi', 'srp', 'srp_latn', 'sun', 'swa', 'swe', 'syr', 'tam', 'tat', 'tel', 'tgk', 'tha', 'tir', 'ton', 'tur', 'uig', 'ukr', 'urd', 'uzb', 'uzb_cyrl', 'vie', 'yid', 'yor']\n"
     ]
    }
   ],
   "source": [
    "print(pytesseract.get_languages(config=''))"
   ]
  },
  {
   "cell_type": "code",
   "execution_count": 20,
   "metadata": {},
   "outputs": [
    {
     "name": "stdout",
     "output_type": "stream",
     "text": [
      "c VALIDA EM TODO O TERRITORIO NACIONAL\n",
      "BERT\"? 07.116.299-9 exreurcao 20/09/1976\n",
      "NOME\n",
      "\n",
      "SANDLER CAFFARO\n",
      "\n",
      "FILIACAO\n",
      "\n",
      "GABRIELA AUDI LUCARELLI\n",
      "\n",
      "NATURALIDADE N DATA DE NASCIMENTO.\n",
      "BORBA-AM Z - 201081998\n",
      "\n",
      "oc oniem C.NAS=116 LV=291 FL=d3°°\n",
      "\n",
      "‘CURITIBA-PR\n",
      "\n",
      "cpr 025,762.835-51 71695/9247\n",
      "\n",
      "FONELOTTTEYTAN ROSANTE\n",
      "NH 94 ASSINATURA D0 DIRETOR\n",
      "\n",
      "\n"
     ]
    }
   ],
   "source": [
    "print(text)"
   ]
  },
  {
   "cell_type": "code",
   "execution_count": 24,
   "metadata": {},
   "outputs": [
    {
     "data": {
      "text/plain": [
       "'~ 216 518 609 522 0\\nc 91 504 93 508 0\\nV 231 502 240 514 0\\nA 242 502 253 514 0\\nL 255 501 262 514 0\\nI 265 502 267 514 0\\nD 270 501 281 515 0\\nA 282 501 293 514 0\\nE 298 501 307 515 0\\nM 309 502 322 515 0\\nT 327 502 336 515 0\\nO 337 501 350 515 0\\nD 351 501 362 515 0\\nO 363 501 375 515 0\\nO 380 501 392 515 0\\nT 397 502 405 514 0\\nE 408 501 416 514 0\\nR 418 501 428 514 0\\nR 430 501 441 514 0\\nI 443 501 445 514 0\\nT 447 501 456 514 0\\nO 457 500 469 515 0\\nR 470 501 481 514 0\\nI 483 501 486 513 0\\nO 487 500 500 514 0\\nN 505 500 516 514 0\\nA 518 501 528 513 0\\nC 530 500 541 514 0\\nI 543 500 546 513 0\\nO 547 500 560 514 0\\nN 561 500 574 514 0\\nA 574 500 585 514 0\\nL 587 500 595 513 0\\nB 77 454 86 481 0\\nE 86 454 96 481 0\\nR 77 454 133 480 0\\nT 112 454 125 481 0\\n\" 125 454 132 481 0\\n? 134 470 144 481 0\\n0 155 457 167 476 0\\n7 169 457 181 476 0\\n. 184 457 187 461 0\\n1 191 457 199 476 0\\n1 205 457 213 476 0\\n6 218 457 230 476 0\\n. 233 457 236 461 0\\n2 239 457 251 476 0\\n9 253 457 265 476 0\\n9 267 457 279 476 0\\n- 281 462 288 466 0\\n9 290 457 302 476 0\\ne 467 454 477 480 0\\nx 475 455 486 479 0\\nr 485 455 494 480 0\\ne 493 454 502 479 0\\nu 501 454 515 479 0\\nr 509 454 517 480 0\\nc 515 454 523 479 0\\na 525 454 533 466 0\\no 534 454 544 464 0\\n2 554 457 566 475 0\\n0 568 457 580 475 0\\n/ 581 457 588 475 0\\n0 589 457 601 475 0\\n9 603 457 615 475 0\\n/ 616 457 622 475 0\\n1 625 457 633 475 0\\n9 638 457 650 475 0\\n7 652 457 664 475 0\\n6 666 457 678 475 0\\nN 77 425 86 436 0\\nO 87 425 97 436 0\\nM 87 425 110 436 0\\nE 111 425 118 436 0\\nS 76 391 90 409 0\\nA 91 391 108 409 0\\nN 110 391 123 409 0\\nD 127 391 141 409 0\\nL 144 391 156 409 0\\nE 159 391 172 409 0\\nR 175 391 190 409 0\\nC 198 391 213 409 0\\nA 215 391 231 409 0\\nF 233 391 244 409 0\\nF 248 391 259 409 0\\nA 262 391 278 409 0\\nR 280 391 295 409 0\\nO 296 391 312 409 0\\nF 77 360 82 370 0\\nI 84 360 91 369 0\\nL 90 359 97 372 0\\nI 96 360 98 369 0\\nA 99 360 108 369 0\\nC 109 359 117 370 0\\nA 119 360 128 372 0\\nO 128 359 138 370 0\\nG 78 292 95 310 0\\nA 96 292 113 310 0\\nB 116 292 131 310 0\\nR 134 292 149 310 0\\nI 152 292 155 310 0\\nE 159 292 172 310 0\\nL 176 292 188 310 0\\nA 189 292 207 310 0\\nA 214 292 232 310 0\\nU 234 292 248 310 0\\nD 252 292 267 310 0\\nI 270 292 273 310 0\\nL 284 292 296 310 0\\nU 299 292 313 310 0\\nC 316 292 331 310 0\\nA 333 292 351 310 0\\nR 353 292 368 310 0\\nE 371 292 384 310 0\\nL 379 292 394 310 0\\nL 388 292 400 310 0\\nI 403 292 421 310 0\\nN 77 261 85 271 0\\nA 87 261 95 271 0\\nT 93 254 103 276 0\\nU 95 261 113 272 0\\nR 114 261 122 271 0\\nA 123 261 132 271 0\\nL 133 260 140 271 0\\nI 141 261 143 271 0\\nD 144 261 153 271 0\\nA 154 262 163 271 0\\nD 164 261 174 271 0\\nE 175 261 181 272 0\\nN 368 260 369 263 0\\nD 576 259 585 269 0\\nA 586 259 595 269 0\\nT 596 260 602 269 0\\nA 602 259 611 269 0\\nD 616 259 624 269 0\\nE 626 259 632 269 0\\nN 637 259 646 269 0\\nA 647 259 656 269 0\\nS 657 259 665 270 0\\nC 666 259 674 269 0\\nI 676 260 678 269 0\\nM 679 259 691 269 0\\nE 693 259 699 269 0\\nN 701 259 709 269 0\\nT 711 260 717 269 0\\nO 719 259 727 269 0\\n. 726 259 727 270 0\\nB 77 227 91 245 0\\nO 93 227 110 245 0\\nR 113 227 128 245 0\\nB 130 227 144 245 0\\nA 145 227 162 245 0\\n- 163 232 169 235 0\\nA 170 227 187 245 0\\nM 189 227 205 245 0\\nZ 372 219 392 226 0\\n- 472 220 477 226 0\\n2 527 219 561 245 0\\n0 564 231 573 245 0\\n1 574 231 579 245 0\\n0 580 231 589 245 0\\n8 591 231 600 245 0\\n1 601 231 613 245 0\\n9 618 231 627 245 0\\n9 629 231 638 246 0\\n8 640 231 648 245 0\\no 76 194 96 205 0\\nc 97 195 105 205 0\\no 112 195 122 205 0\\nn 123 195 131 206 0\\ni 132 195 145 205 0\\ne 146 195 152 206 0\\nm 154 196 165 205 0\\nC 175 197 186 211 0\\n. 190 197 192 199 0\\nN 195 197 205 211 0\\nA 208 197 220 211 0\\nS 222 197 233 211 0\\n= 235 201 244 207 0\\n1 247 197 252 211 0\\n1 258 197 263 211 0\\n6 268 197 277 211 0\\nL 285 197 294 211 0\\nV 295 197 307 211 0\\n= 309 201 318 207 0\\n2 320 197 329 211 0\\n9 331 197 340 211 0\\n1 343 197 348 211 0\\nF 359 197 368 211 0\\nL 371 197 380 211 0\\n= 382 201 391 207 0\\nd 393 197 404 220 0\\n3 404 197 413 211 0\\n° 422 197 433 220 0\\n° 435 216 439 220 0\\n‘ 75 174 76 177 0\\nC 77 160 92 178 0\\nU 96 160 110 178 0\\nR 114 160 129 178 0\\nI 132 160 135 178 0\\nT 138 160 152 178 0\\nI 154 160 157 178 0\\nB 161 160 176 178 0\\nA 177 160 195 178 0\\n- 196 165 202 168 0\\nP 205 160 218 178 0\\nR 222 160 237 178 0\\nc 77 127 85 137 0\\np 86 127 100 137 0\\nr 96 127 100 137 0\\n0 115 132 124 146 0\\n2 127 132 135 146 0\\n5 139 132 147 146 0\\n, 150 132 152 134 0\\n7 154 132 163 146 0\\n6 165 132 174 146 0\\n2 176 132 184 146 0\\n. 188 132 190 134 0\\n8 192 132 200 146 0\\n3 203 132 212 146 0\\n5 214 132 223 146 0\\n- 225 136 230 138 0\\n5 231 132 240 146 0\\n1 243 132 248 146 0\\n7 372 123 389 148 0\\n1 393 128 402 148 0\\n6 408 120 421 148 0\\n9 424 119 437 148 0\\n5 439 119 454 148 0\\n/ 455 119 463 148 0\\n9 464 128 477 148 0\\n2 480 119 493 148 0\\n4 496 128 510 148 0\\n7 512 128 525 148 0\\nF 284 88 291 95 0\\nO 292 86 300 95 0\\nN 301 86 308 95 0\\nE 310 86 316 95 0\\nL 318 86 322 95 0\\nO 325 86 333 95 0\\nT 334 86 340 95 0\\nT 336 86 347 95 0\\nT 348 86 349 95 0\\nE 354 86 360 95 0\\nY 362 86 368 95 0\\nT 362 86 376 95 0\\nA 376 86 384 95 0\\nN 386 86 393 95 0\\nR 398 86 405 95 0\\nO 407 86 415 95 0\\nS 416 86 422 95 0\\nA 424 86 431 95 0\\nN 433 86 440 95 0\\nT 441 86 448 95 0\\nE 449 86 455 95 0\\nN 76 63 89 79 0\\nH 93 63 106 79 0\\n9 115 63 126 79 0\\n4 128 63 139 79 0\\nA 318 66 327 79 0\\nS 318 66 336 77 0\\nS 337 66 348 79 0\\nI 344 66 352 79 0\\nN 351 66 359 79 0\\nA 349 66 369 77 0\\nT 368 67 376 77 0\\nU 377 66 386 77 0\\nR 384 66 392 79 0\\nA 387 66 405 77 0\\nD 409 66 414 77 0\\n0 409 66 428 77 0\\nD 433 65 439 77 0\\nI 439 65 447 77 0\\nR 433 66 462 76 0\\nE 454 65 464 77 0\\nT 464 65 472 77 0\\nO 463 65 490 77 0\\nR 479 65 490 77 0\\n~ 0 0 813 553 0\\n'"
      ]
     },
     "execution_count": 24,
     "metadata": {},
     "output_type": "execute_result"
    }
   ],
   "source": [
    "# Get bounding box estimates\n",
    "print(pytesseract.image_to_boxes(image))"
   ]
  },
  {
   "cell_type": "code",
   "execution_count": 26,
   "metadata": {},
   "outputs": [
    {
     "ename": "NameError",
     "evalue": "name 'Image' is not defined",
     "output_type": "error",
     "traceback": [
      "\u001b[1;31m---------------------------------------------------------------------------\u001b[0m",
      "\u001b[1;31mNameError\u001b[0m                                 Traceback (most recent call last)",
      "Cell \u001b[1;32mIn[26], line 2\u001b[0m\n\u001b[0;32m      1\u001b[0m \u001b[39m# Get verbose data including boxes, confidences, line and page numbers\u001b[39;00m\n\u001b[1;32m----> 2\u001b[0m \u001b[39mprint\u001b[39m(pytesseract\u001b[39m.\u001b[39mimage_to_data(Image\u001b[39m.\u001b[39mopen(img_path)))\n",
      "\u001b[1;31mNameError\u001b[0m: name 'Image' is not defined"
     ]
    }
   ],
   "source": [
    "# Get verbose data including boxes, confidences, line and page numbers\n",
    "print(pytesseract.image_to_data(image))"
   ]
  }
 ],
 "metadata": {
  "kernelspec": {
   "display_name": "PI",
   "language": "python",
   "name": "python3"
  },
  "language_info": {
   "codemirror_mode": {
    "name": "ipython",
    "version": 3
   },
   "file_extension": ".py",
   "mimetype": "text/x-python",
   "name": "python",
   "nbconvert_exporter": "python",
   "pygments_lexer": "ipython3",
   "version": "3.8.16"
  },
  "orig_nbformat": 4
 },
 "nbformat": 4,
 "nbformat_minor": 2
}
