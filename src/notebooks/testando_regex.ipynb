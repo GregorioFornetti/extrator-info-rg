{
 "cells": [
  {
   "attachments": {},
   "cell_type": "markdown",
   "metadata": {},
   "source": [
    "# Definindo Regex para identificar as informações relevantes"
   ]
  },
  {
   "cell_type": "code",
   "execution_count": 1,
   "metadata": {},
   "outputs": [],
   "source": [
    "import re"
   ]
  },
  {
   "attachments": {},
   "cell_type": "markdown",
   "metadata": {},
   "source": [
    "## Exemplos de texto que podem ser fornecidos"
   ]
  },
  {
   "cell_type": "code",
   "execution_count": 4,
   "metadata": {},
   "outputs": [],
   "source": [
    "texto_1 = '''\n",
    "VALIDO EM TODO TERRITORIO NACIONAL\n",
    "07.116.299-9 expevis 20/09/1976\n",
    "NOME\n",
    "SANDLER CAFFARO\n",
    "FILIACAO\n",
    "GABRIELA AUDI LUCARELLI\n",
    "NATURALIDADE N DATA DE NASCIMENTO\n",
    "BORBA-AM É Do 20/08/1999\n",
    "Doc ongem C.NAS=116 LV=291 FL=Sd3\n",
    "CURITIBA-PR\n",
    "CPF 025.762.835-51 71695/9247\n",
    "\n",
    "TONELOTITEYTAN ROSANTE\n",
    "NH 94 ASSINATURA DO DIRETOR\n",
    "'''"
   ]
  },
  {
   "attachments": {},
   "cell_type": "markdown",
   "metadata": {},
   "source": [
    "## Criando e testando Regex/ identificação de padrões"
   ]
  },
  {
   "attachments": {},
   "cell_type": "markdown",
   "metadata": {},
   "source": [
    "### Identificação CPF"
   ]
  },
  {
   "cell_type": "code",
   "execution_count": 18,
   "metadata": {},
   "outputs": [],
   "source": [
    "cpf_regex = r'\\d{3}[,.]?\\d{3}[,.]?\\d{3}[,.-]?\\d{2}'\n",
    "\n",
    "def find_cpf(bounding_boxes):\n",
    "    pass\n",
    "\n",
    "def is_cpf(text):\n",
    "    match_obj = re.search(cpf_regex, text)\n",
    "    if not match_obj:\n",
    "        return None\n",
    "    \n",
    "    # Remove todas pontuações da regex, mantendo apenas os digitos\n",
    "    cpf = re.sub(r'[-,.]', '', match_obj.group())\n",
    "    # Retorna o CPF com o seu padrão correto\n",
    "    return f'{cpf[0:3]}.{cpf[3:6]}.{cpf[6:9]}-{cpf[9:11]}'\n",
    "    "
   ]
  },
  {
   "cell_type": "code",
   "execution_count": 24,
   "metadata": {},
   "outputs": [
    {
     "name": "stdout",
     "output_type": "stream",
     "text": [
      "123.456.789-10\n"
     ]
    }
   ],
   "source": [
    "print(is_cpf('123.456,789-10'))"
   ]
  },
  {
   "attachments": {},
   "cell_type": "markdown",
   "metadata": {},
   "source": [
    "### Identificação RG"
   ]
  },
  {
   "cell_type": "code",
   "execution_count": null,
   "metadata": {},
   "outputs": [],
   "source": [
    "def search_for_rg(text):\n",
    "    pass\n",
    "\n",
    "def is_rg(text):\n",
    "    pass"
   ]
  },
  {
   "attachments": {},
   "cell_type": "markdown",
   "metadata": {},
   "source": [
    "### Identificação data de nascimento"
   ]
  },
  {
   "cell_type": "code",
   "execution_count": null,
   "metadata": {},
   "outputs": [],
   "source": [
    "def search_for_birthdate(text):\n",
    "    pass\n",
    "\n",
    "def is_birthdate(text):\n",
    "    pass"
   ]
  },
  {
   "attachments": {},
   "cell_type": "markdown",
   "metadata": {},
   "source": [
    "### Identificação nome"
   ]
  },
  {
   "cell_type": "code",
   "execution_count": null,
   "metadata": {},
   "outputs": [],
   "source": [
    "def search_for_name(text):\n",
    "    pass\n",
    "\n",
    "def is_name(text):\n",
    "    pass"
   ]
  }
 ],
 "metadata": {
  "kernelspec": {
   "display_name": "PI",
   "language": "python",
   "name": "python3"
  },
  "language_info": {
   "codemirror_mode": {
    "name": "ipython",
    "version": 3
   },
   "file_extension": ".py",
   "mimetype": "text/x-python",
   "name": "python",
   "nbconvert_exporter": "python",
   "pygments_lexer": "ipython3",
   "version": "3.8.16"
  },
  "orig_nbformat": 4
 },
 "nbformat": 4,
 "nbformat_minor": 2
}
