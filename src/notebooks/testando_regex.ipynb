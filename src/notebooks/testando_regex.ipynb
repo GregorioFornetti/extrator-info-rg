{
 "cells": [
  {
   "attachments": {},
   "cell_type": "markdown",
   "metadata": {},
   "source": [
    "# Definindo Regex para identificar as informações relevantes"
   ]
  },
  {
   "cell_type": "code",
   "execution_count": 1,
   "metadata": {},
   "outputs": [],
   "source": [
    "import re"
   ]
  },
  {
   "attachments": {},
   "cell_type": "markdown",
   "metadata": {},
   "source": [
    "## Exemplos de texto que podem ser fornecidos"
   ]
  },
  {
   "cell_type": "code",
   "execution_count": 2,
   "metadata": {},
   "outputs": [],
   "source": [
    "texto_1 = '''\n",
    "VALIDO EM TODO TERRITORIO NACIONAL\n",
    "07.116.299-9 expevis 20/09/1976\n",
    "NOME\n",
    "SANDLER CAFFARO\n",
    "FILIACAO\n",
    "GABRIELA AUDI LUCARELLI\n",
    "NATURALIDADE N DATA DE NASCIMENTO\n",
    "BORBA-AM É Do 20/08/1999\n",
    "Doc ongem C.NAS=116 LV=291 FL=Sd3\n",
    "CURITIBA-PR\n",
    "CPF 025.762.835-51 71695/9247\n",
    "\n",
    "TONELOTITEYTAN ROSANTE\n",
    "NH 94 ASSINATURA DO DIRETOR\n",
    "'''"
   ]
  },
  {
   "cell_type": "code",
   "execution_count": 3,
   "metadata": {},
   "outputs": [],
   "source": [
    "%matplotlib inline\n",
    "\n",
    "import pytesseract\n",
    "import cv2\n",
    "\n",
    "import pandas as pd\n",
    "from matplotlib import pyplot as plt\n",
    "\n",
    "pytesseract.pytesseract.tesseract_cmd = r'C:/Program Files/Tesseract-OCR/tesseract.exe'"
   ]
  },
  {
   "cell_type": "code",
   "execution_count": 4,
   "metadata": {},
   "outputs": [],
   "source": [
    "img_path = \"../../BID Dataset/RG_Verso/00025928_in.jpg\""
   ]
  },
  {
   "cell_type": "code",
   "execution_count": 5,
   "metadata": {},
   "outputs": [],
   "source": [
    "image = cv2.imread(img_path)"
   ]
  },
  {
   "cell_type": "code",
   "execution_count": 6,
   "metadata": {},
   "outputs": [],
   "source": [
    "df = pytesseract.image_to_data(image, lang='por', output_type='data.frame')"
   ]
  },
  {
   "attachments": {},
   "cell_type": "markdown",
   "metadata": {},
   "source": [
    "## Criando e testando Regex/ identificação de padrões"
   ]
  },
  {
   "cell_type": "code",
   "execution_count": 35,
   "metadata": {},
   "outputs": [],
   "source": [
    "def create_info_dict_from_row(row, name):\n",
    "    return {\n",
    "        'left': row['left'],\n",
    "        'top': row['top'],\n",
    "        'width': row['width'],\n",
    "        'height': row['height'],\n",
    "        'name': name\n",
    "    }"
   ]
  },
  {
   "attachments": {},
   "cell_type": "markdown",
   "metadata": {},
   "source": [
    "### Identificação CPF"
   ]
  },
  {
   "cell_type": "code",
   "execution_count": 34,
   "metadata": {},
   "outputs": [],
   "source": [
    "cpf_regex = r'\\d{3}[\\,\\.]?\\d{3}[\\,\\.]?\\d{3}[\\,\\.\\-\\/]?\\d{2}'\n",
    "\n",
    "def find_cpf(identified_texts_df):\n",
    "    for i, row in identified_texts_df.iterrows():\n",
    "        if is_cpf(row['text']):\n",
    "            return format_cpf(row['text']), create_info_dict_from_row(row, 'cpf')\n",
    "\n",
    "def is_cpf(text):\n",
    "    if not isinstance(text, str):\n",
    "        return False\n",
    "    return bool(re.search(cpf_regex, text))\n",
    "\n",
    "def format_cpf(unformated_cpf):\n",
    "    # Remove todas pontuações da regex, mantendo apenas os digitos\n",
    "    cpf = re.sub(r'[-,./]', '', unformated_cpf)\n",
    "    # Retorna o CPF com o seu padrão correto\n",
    "    return f'{cpf[0:3]}.{cpf[3:6]}.{cpf[6:9]}-{cpf[9:11]}'\n",
    "    "
   ]
  },
  {
   "cell_type": "code",
   "execution_count": 36,
   "metadata": {},
   "outputs": [
    {
     "name": "stdout",
     "output_type": "stream",
     "text": [
      "True\n"
     ]
    }
   ],
   "source": [
    "print(is_cpf('123.456.789-10'))"
   ]
  },
  {
   "cell_type": "code",
   "execution_count": 37,
   "metadata": {},
   "outputs": [
    {
     "data": {
      "text/plain": [
       "('025.762.835-51',\n",
       " {'left': 115, 'top': 407, 'width': 133, 'height': 14, 'name': 'cpf'})"
      ]
     },
     "execution_count": 37,
     "metadata": {},
     "output_type": "execute_result"
    }
   ],
   "source": [
    "find_cpf(df)"
   ]
  },
  {
   "attachments": {},
   "cell_type": "markdown",
   "metadata": {},
   "source": [
    "### Identificação RG"
   ]
  },
  {
   "cell_type": "code",
   "execution_count": 38,
   "metadata": {},
   "outputs": [],
   "source": [
    "rg_regex = r'\\d{2}[\\,\\.]?\\d{3}[\\,\\.]?\\d{3}[\\,\\.\\-]?\\d'\n",
    "\n",
    "def search_for_rg(identified_texts_df):\n",
    "    pass\n",
    "\n",
    "def is_rg(text):\n",
    "    if not isinstance(text, str):\n",
    "        return False\n",
    "    return bool(re.search(rg_regex, text))\n",
    "\n",
    "def format_rg(unformated_rg):\n",
    "    # Remove todas pontuações da regex, mantendo apenas os digitos\n",
    "    rg = re.sub(r'[-,.]', '', unformated_rg)\n",
    "    # Retorna o RG com o seu padrão correto\n",
    "    return f'{rg[0:2]}.{rg[2:5]}.{rg[5:8]}-{rg[8:9]}'"
   ]
  },
  {
   "attachments": {},
   "cell_type": "markdown",
   "metadata": {},
   "source": [
    "### Identificação data de nascimento"
   ]
  },
  {
   "cell_type": "code",
   "execution_count": null,
   "metadata": {},
   "outputs": [],
   "source": [
    "date_regex = r'\\d{2}[\\/]?\\d{2}[\\/]?\\d{4}'\n",
    "\n",
    "def search_for_birthdate(identified_texts_df):\n",
    "    pass\n",
    "\n",
    "def is_date(text):\n",
    "    if not isinstance(text, str):\n",
    "        return False\n",
    "    return bool(re.search(date_regex, text))\n",
    "\n",
    "def is_date(unformated_date):\n",
    "    # Remove todas pontuações da regex, mantendo apenas os digitos\n",
    "    date = re.sub(r'[/]', '', unformated_date)\n",
    "    # Retorna a data formatada com o seu padrão correto\n",
    "    return {\n",
    "        'formated_date': f'{date[0:1]}/{date[2:3]}/{date[4:]}',\n",
    "        'day': int(date[0:1]),\n",
    "        'month': int(date[2:3]),\n",
    "        'year': int(date[4:])\n",
    "    }"
   ]
  },
  {
   "attachments": {},
   "cell_type": "markdown",
   "metadata": {},
   "source": [
    "### Identificação nome"
   ]
  },
  {
   "cell_type": "code",
   "execution_count": null,
   "metadata": {},
   "outputs": [],
   "source": [
    "def search_for_name(identified_texts_df):\n",
    "    pass "
   ]
  }
 ],
 "metadata": {
  "kernelspec": {
   "display_name": "PI",
   "language": "python",
   "name": "python3"
  },
  "language_info": {
   "codemirror_mode": {
    "name": "ipython",
    "version": 3
   },
   "file_extension": ".py",
   "mimetype": "text/x-python",
   "name": "python",
   "nbconvert_exporter": "python",
   "pygments_lexer": "ipython3",
   "version": "3.8.16"
  },
  "orig_nbformat": 4
 },
 "nbformat": 4,
 "nbformat_minor": 2
}
