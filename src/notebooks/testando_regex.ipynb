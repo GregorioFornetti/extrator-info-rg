{
 "cells": [
  {
   "attachments": {},
   "cell_type": "markdown",
   "metadata": {},
   "source": [
    "# Definindo Regex para identificar as informações relevantes"
   ]
  },
  {
   "cell_type": "code",
   "execution_count": 1,
   "metadata": {},
   "outputs": [
    {
     "name": "stdout",
     "output_type": "stream",
     "text": [
      "Requirement already satisfied: ipywidgets in c:\\users\\gregf\\anaconda3\\envs\\pi\\lib\\site-packages (8.0.6)\n",
      "Requirement already satisfied: ipykernel>=4.5.1 in c:\\users\\gregf\\anaconda3\\envs\\pi\\lib\\site-packages (from ipywidgets) (6.15.0)\n",
      "Requirement already satisfied: ipython>=6.1.0 in c:\\users\\gregf\\anaconda3\\envs\\pi\\lib\\site-packages (from ipywidgets) (8.12.0)\n",
      "Requirement already satisfied: traitlets>=4.3.1 in c:\\users\\gregf\\anaconda3\\envs\\pi\\lib\\site-packages (from ipywidgets) (5.7.1)\n",
      "Requirement already satisfied: widgetsnbextension~=4.0.7 in c:\\users\\gregf\\anaconda3\\envs\\pi\\lib\\site-packages (from ipywidgets) (4.0.7)\n",
      "Requirement already satisfied: jupyterlab-widgets~=3.0.7 in c:\\users\\gregf\\anaconda3\\envs\\pi\\lib\\site-packages (from ipywidgets) (3.0.7)\n",
      "Requirement already satisfied: debugpy>=1.0 in c:\\users\\gregf\\anaconda3\\envs\\pi\\lib\\site-packages (from ipykernel>=4.5.1->ipywidgets) (1.5.1)\n",
      "Requirement already satisfied: jupyter-client>=6.1.12 in c:\\users\\gregf\\anaconda3\\envs\\pi\\lib\\site-packages (from ipykernel>=4.5.1->ipywidgets) (7.4.9)\n",
      "Requirement already satisfied: matplotlib-inline>=0.1 in c:\\users\\gregf\\anaconda3\\envs\\pi\\lib\\site-packages (from ipykernel>=4.5.1->ipywidgets) (0.1.6)\n",
      "Requirement already satisfied: nest-asyncio in c:\\users\\gregf\\anaconda3\\envs\\pi\\lib\\site-packages (from ipykernel>=4.5.1->ipywidgets) (1.5.6)\n",
      "Requirement already satisfied: packaging in c:\\users\\gregf\\anaconda3\\envs\\pi\\lib\\site-packages (from ipykernel>=4.5.1->ipywidgets) (23.0)\n",
      "Requirement already satisfied: psutil in c:\\users\\gregf\\anaconda3\\envs\\pi\\lib\\site-packages (from ipykernel>=4.5.1->ipywidgets) (5.9.0)\n",
      "Requirement already satisfied: pyzmq>=17 in c:\\users\\gregf\\anaconda3\\envs\\pi\\lib\\site-packages (from ipykernel>=4.5.1->ipywidgets) (25.1.0)\n",
      "Requirement already satisfied: tornado>=6.1 in c:\\users\\gregf\\anaconda3\\envs\\pi\\lib\\site-packages (from ipykernel>=4.5.1->ipywidgets) (6.2)\n",
      "Requirement already satisfied: backcall in c:\\users\\gregf\\anaconda3\\envs\\pi\\lib\\site-packages (from ipython>=6.1.0->ipywidgets) (0.2.0)\n",
      "Requirement already satisfied: decorator in c:\\users\\gregf\\anaconda3\\envs\\pi\\lib\\site-packages (from ipython>=6.1.0->ipywidgets) (5.1.1)\n",
      "Requirement already satisfied: jedi>=0.16 in c:\\users\\gregf\\anaconda3\\envs\\pi\\lib\\site-packages (from ipython>=6.1.0->ipywidgets) (0.18.1)\n",
      "Requirement already satisfied: pickleshare in c:\\users\\gregf\\anaconda3\\envs\\pi\\lib\\site-packages (from ipython>=6.1.0->ipywidgets) (0.7.5)\n",
      "Requirement already satisfied: prompt-toolkit!=3.0.37,<3.1.0,>=3.0.30 in c:\\users\\gregf\\anaconda3\\envs\\pi\\lib\\site-packages (from ipython>=6.1.0->ipywidgets) (3.0.36)\n",
      "Requirement already satisfied: pygments>=2.4.0 in c:\\users\\gregf\\anaconda3\\envs\\pi\\lib\\site-packages (from ipython>=6.1.0->ipywidgets) (2.15.1)\n",
      "Requirement already satisfied: stack-data in c:\\users\\gregf\\anaconda3\\envs\\pi\\lib\\site-packages (from ipython>=6.1.0->ipywidgets) (0.2.0)\n",
      "Requirement already satisfied: typing-extensions in c:\\users\\gregf\\anaconda3\\envs\\pi\\lib\\site-packages (from ipython>=6.1.0->ipywidgets) (4.6.3)\n",
      "Requirement already satisfied: colorama in c:\\users\\gregf\\appdata\\roaming\\python\\python38\\site-packages (from ipython>=6.1.0->ipywidgets) (0.4.3)\n",
      "Requirement already satisfied: parso<0.9.0,>=0.8.0 in c:\\users\\gregf\\anaconda3\\envs\\pi\\lib\\site-packages (from jedi>=0.16->ipython>=6.1.0->ipywidgets) (0.8.3)\n",
      "Requirement already satisfied: entrypoints in c:\\users\\gregf\\anaconda3\\envs\\pi\\lib\\site-packages (from jupyter-client>=6.1.12->ipykernel>=4.5.1->ipywidgets) (0.4)\n",
      "Requirement already satisfied: jupyter-core>=4.9.2 in c:\\users\\gregf\\anaconda3\\envs\\pi\\lib\\site-packages (from jupyter-client>=6.1.12->ipykernel>=4.5.1->ipywidgets) (5.3.1)\n",
      "Requirement already satisfied: python-dateutil>=2.8.2 in c:\\users\\gregf\\anaconda3\\envs\\pi\\lib\\site-packages (from jupyter-client>=6.1.12->ipykernel>=4.5.1->ipywidgets) (2.8.2)\n",
      "Requirement already satisfied: wcwidth in c:\\users\\gregf\\anaconda3\\envs\\pi\\lib\\site-packages (from prompt-toolkit!=3.0.37,<3.1.0,>=3.0.30->ipython>=6.1.0->ipywidgets) (0.2.5)\n",
      "Requirement already satisfied: executing in c:\\users\\gregf\\anaconda3\\envs\\pi\\lib\\site-packages (from stack-data->ipython>=6.1.0->ipywidgets) (0.8.3)\n",
      "Requirement already satisfied: asttokens in c:\\users\\gregf\\anaconda3\\envs\\pi\\lib\\site-packages (from stack-data->ipython>=6.1.0->ipywidgets) (2.0.5)\n",
      "Requirement already satisfied: pure-eval in c:\\users\\gregf\\anaconda3\\envs\\pi\\lib\\site-packages (from stack-data->ipython>=6.1.0->ipywidgets) (0.2.2)\n",
      "Requirement already satisfied: platformdirs>=2.5 in c:\\users\\gregf\\anaconda3\\envs\\pi\\lib\\site-packages (from jupyter-core>=4.9.2->jupyter-client>=6.1.12->ipykernel>=4.5.1->ipywidgets) (2.5.2)\n",
      "Requirement already satisfied: pywin32>=300 in c:\\users\\gregf\\anaconda3\\envs\\pi\\lib\\site-packages (from jupyter-core>=4.9.2->jupyter-client>=6.1.12->ipykernel>=4.5.1->ipywidgets) (305.1)\n",
      "Requirement already satisfied: six>=1.5 in c:\\users\\gregf\\anaconda3\\envs\\pi\\lib\\site-packages (from python-dateutil>=2.8.2->jupyter-client>=6.1.12->ipykernel>=4.5.1->ipywidgets) (1.16.0)\n",
      "Note: you may need to restart the kernel to use updated packages.\n"
     ]
    }
   ],
   "source": [
    "%pip install ipywidgets"
   ]
  },
  {
   "cell_type": "code",
   "execution_count": 2,
   "metadata": {},
   "outputs": [],
   "source": [
    "import re"
   ]
  },
  {
   "attachments": {},
   "cell_type": "markdown",
   "metadata": {},
   "source": [
    "## Exemplos de texto que podem ser fornecidos"
   ]
  },
  {
   "cell_type": "code",
   "execution_count": 3,
   "metadata": {},
   "outputs": [],
   "source": [
    "texto_1 = '''\n",
    "VALIDO EM TODO TERRITORIO NACIONAL\n",
    "07.116.299-9 expevis 20/09/1976\n",
    "NOME\n",
    "SANDLER CAFFARO\n",
    "FILIACAO\n",
    "GABRIELA AUDI LUCARELLI\n",
    "NATURALIDADE N DATA DE NASCIMENTO\n",
    "BORBA-AM É Do 20/08/1999\n",
    "Doc ongem C.NAS=116 LV=291 FL=Sd3\n",
    "CURITIBA-PR\n",
    "CPF 025.762.835-51 71695/9247\n",
    "\n",
    "TONELOTITEYTAN ROSANTE\n",
    "NH 94 ASSINATURA DO DIRETOR\n",
    "'''"
   ]
  },
  {
   "cell_type": "code",
   "execution_count": 4,
   "metadata": {},
   "outputs": [],
   "source": [
    "%matplotlib inline\n",
    "\n",
    "import pytesseract\n",
    "import cv2\n",
    "\n",
    "import pandas as pd\n",
    "from matplotlib import pyplot as plt\n",
    "\n",
    "pytesseract.pytesseract.tesseract_cmd = r'C:/Program Files/Tesseract-OCR/tesseract.exe'"
   ]
  },
  {
   "cell_type": "code",
   "execution_count": 5,
   "metadata": {},
   "outputs": [],
   "source": [
    "img_path = \"../../BID Dataset/RG_Verso/00025928_in.jpg\""
   ]
  },
  {
   "cell_type": "code",
   "execution_count": 6,
   "metadata": {},
   "outputs": [],
   "source": [
    "image = cv2.imread(img_path)"
   ]
  },
  {
   "cell_type": "code",
   "execution_count": 7,
   "metadata": {},
   "outputs": [],
   "source": [
    "df = pytesseract.image_to_data(image, lang='por', output_type='data.frame')"
   ]
  },
  {
   "attachments": {},
   "cell_type": "markdown",
   "metadata": {},
   "source": [
    "## Criando e testando Regex/ identificação de padrões"
   ]
  },
  {
   "cell_type": "code",
   "execution_count": 8,
   "metadata": {},
   "outputs": [],
   "source": [
    "def create_info_dict_from_row(row, name):\n",
    "    return {\n",
    "        'left': row['left'],\n",
    "        'top': row['top'],\n",
    "        'width': row['width'],\n",
    "        'height': row['height'],\n",
    "        'name': name\n",
    "    }"
   ]
  },
  {
   "attachments": {},
   "cell_type": "markdown",
   "metadata": {},
   "source": [
    "### Identificação CPF"
   ]
  },
  {
   "cell_type": "code",
   "execution_count": 9,
   "metadata": {},
   "outputs": [],
   "source": [
    "cpf_regex = r'\\d{3}[\\,\\.]?\\d{3}[\\,\\.]?\\d{3}[\\,\\.\\-\\/]?\\d{2}'\n",
    "\n",
    "def find_cpf(identified_texts_df):\n",
    "    for i, row in identified_texts_df.iterrows():\n",
    "        if is_cpf(row['text']):\n",
    "            return format_cpf(row['text']), create_info_dict_from_row(row, 'cpf')\n",
    "\n",
    "def is_cpf(text):\n",
    "    if not isinstance(text, str):\n",
    "        return False\n",
    "    return bool(re.search(cpf_regex, text))\n",
    "\n",
    "def format_cpf(unformated_cpf):\n",
    "    # Remove todas pontuações da regex, mantendo apenas os digitos\n",
    "    cpf = re.sub(r'[-,./]', '', unformated_cpf)\n",
    "    # Retorna o CPF com o seu padrão correto\n",
    "    return f'{cpf[0:3]}.{cpf[3:6]}.{cpf[6:9]}-{cpf[9:11]}'\n",
    "    "
   ]
  },
  {
   "cell_type": "code",
   "execution_count": 10,
   "metadata": {},
   "outputs": [
    {
     "name": "stdout",
     "output_type": "stream",
     "text": [
      "True\n"
     ]
    }
   ],
   "source": [
    "print(is_cpf('123.456.789-10'))"
   ]
  },
  {
   "cell_type": "code",
   "execution_count": 11,
   "metadata": {},
   "outputs": [
    {
     "data": {
      "text/plain": [
       "('025.762.835-51',\n",
       " {'left': 115, 'top': 407, 'width': 133, 'height': 14, 'name': 'cpf'})"
      ]
     },
     "execution_count": 11,
     "metadata": {},
     "output_type": "execute_result"
    }
   ],
   "source": [
    "find_cpf(df)"
   ]
  },
  {
   "attachments": {},
   "cell_type": "markdown",
   "metadata": {},
   "source": [
    "### Identificação RG"
   ]
  },
  {
   "cell_type": "code",
   "execution_count": 12,
   "metadata": {},
   "outputs": [],
   "source": [
    "rg_regex = r'\\d{2}[\\,\\.]?\\d{3}[\\,\\.]?\\d{3}[\\,\\.\\-]?\\d'\n",
    "\n",
    "def find_rg(identified_texts_df):\n",
    "    for i, row in identified_texts_df.iterrows():\n",
    "        if is_rg(row['text']):\n",
    "            return format_rg(row['text']), create_info_dict_from_row(row, 'cpf')\n",
    "\n",
    "def is_rg(text):\n",
    "    if not isinstance(text, str):\n",
    "        return False\n",
    "    return bool(re.search(rg_regex, text))\n",
    "\n",
    "def format_rg(unformated_rg):\n",
    "    # Remove todas pontuações da regex, mantendo apenas os digitos\n",
    "    rg = re.sub(r'[-,.]', '', unformated_rg)\n",
    "    # Retorna o RG com o seu padrão correto\n",
    "    return f'{rg[0:2]}.{rg[2:5]}.{rg[5:8]}-{rg[8:9]}'"
   ]
  },
  {
   "attachments": {},
   "cell_type": "markdown",
   "metadata": {},
   "source": [
    "### Identificação data de nascimento"
   ]
  },
  {
   "cell_type": "code",
   "execution_count": 13,
   "metadata": {},
   "outputs": [],
   "source": [
    "date_regex = r'\\d{2}[\\/]?\\d{2}[\\/]?\\d{4}'\n",
    "\n",
    "def search_for_birthdate(identified_texts_df):\n",
    "    dates_count = 0\n",
    "    for i, row in identified_texts_df.iterrows():\n",
    "        if is_date(row['text']):\n",
    "            dates_count += 1\n",
    "        if dates_count == 2:\n",
    "            return format_date(row['text']), create_info_dict_from_row(row, 'data de nascimento')\n",
    "\n",
    "def is_date(text):\n",
    "    if not isinstance(text, str):\n",
    "        return False\n",
    "    return bool(re.search(date_regex, text))\n",
    "\n",
    "def format_date(unformated_date):\n",
    "    # Remove todas pontuações da regex, mantendo apenas os digitos\n",
    "    date = re.sub(r'[/]', '', unformated_date)\n",
    "    # Retorna a data formatada com o seu padrão correto\n",
    "    return {\n",
    "        'formated_date': f'{date[0:1]}/{date[2:3]}/{date[4:]}',\n",
    "        'day': int(date[0:1]),\n",
    "        'month': int(date[2:3]),\n",
    "        'year': int(date[4:])\n",
    "    }"
   ]
  },
  {
   "attachments": {},
   "cell_type": "markdown",
   "metadata": {},
   "source": [
    "### Identificação nome"
   ]
  },
  {
   "cell_type": "code",
   "execution_count": 14,
   "metadata": {},
   "outputs": [],
   "source": [
    "def search_for_name(identified_texts_df):\n",
    "    pass "
   ]
  },
  {
   "cell_type": "code",
   "execution_count": 21,
   "metadata": {},
   "outputs": [],
   "source": [
    "# init camera\n",
    "camera = cv2.VideoCapture(0)"
   ]
  },
  {
   "cell_type": "code",
   "execution_count": 22,
   "metadata": {},
   "outputs": [],
   "source": [
    "ret, frame = camera.read()"
   ]
  },
  {
   "cell_type": "code",
   "execution_count": 25,
   "metadata": {},
   "outputs": [
    {
     "data": {
      "text/plain": [
       "None"
      ]
     },
     "metadata": {},
     "output_type": "display_data"
    }
   ],
   "source": [
    "# show camera frame\n",
    "from time import sleep\n",
    "from IPython.display import display, Image\n",
    "\n",
    "display_handle=display(None, display_id=True)\n",
    "for i in range(1000):\n",
    "    ret, frame = camera.read()\n",
    "    _, frame = cv2.imencode('.jpeg', frame)\n",
    "    display_handle.update(Image(data=frame.tobytes()))"
   ]
  },
  {
   "cell_type": "code",
   "execution_count": 26,
   "metadata": {},
   "outputs": [],
   "source": [
    "camera.release()\n",
    "display_handle.update(None)"
   ]
  }
 ],
 "metadata": {
  "kernelspec": {
   "display_name": "PI",
   "language": "python",
   "name": "python3"
  },
  "language_info": {
   "codemirror_mode": {
    "name": "ipython",
    "version": 3
   },
   "file_extension": ".py",
   "mimetype": "text/x-python",
   "name": "python",
   "nbconvert_exporter": "python",
   "pygments_lexer": "ipython3",
   "version": "3.8.16"
  },
  "orig_nbformat": 4
 },
 "nbformat": 4,
 "nbformat_minor": 2
}
