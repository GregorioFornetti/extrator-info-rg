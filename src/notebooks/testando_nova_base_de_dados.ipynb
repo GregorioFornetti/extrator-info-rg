{
 "cells": [
  {
   "cell_type": "markdown",
   "metadata": {},
   "source": [
    "# Verificando se a \"nova\" base de dados está ok"
   ]
  },
  {
   "cell_type": "markdown",
   "metadata": {},
   "source": [
    "O notebook disponível em `src/tratando_base_dados.ipynb` modifica a base de dados original BID, adicionando um novo arquivo para cada imagem, que é um arquivo JSON contendo informações relevantes do documento, como nome, data de nascimento, RG e CPF.\n",
    "\n",
    "Além disso, também é criado um arquivo `.csv` com cada linha contendo informações sobre cada documento, como os arquivos correspondentes a eles, os seus dados importantes e o seu ID."
   ]
  },
  {
   "cell_type": "markdown",
   "metadata": {},
   "source": [
    "## Importações"
   ]
  },
  {
   "cell_type": "code",
   "execution_count": 1,
   "metadata": {},
   "outputs": [],
   "source": [
    "import os\n",
    "import json\n",
    "\n",
    "import pandas as pd\n",
    "import cv2\n",
    "import ipywidgets as widgets"
   ]
  },
  {
   "cell_type": "markdown",
   "metadata": {},
   "source": [
    "## Constantes"
   ]
  },
  {
   "cell_type": "code",
   "execution_count": 2,
   "metadata": {},
   "outputs": [],
   "source": [
    "DATASET_FOLDER_PATH = '../../RG-Dataset'\n",
    "DATASET_CSV_PATH = f'{DATASET_FOLDER_PATH}/dataset.csv'"
   ]
  },
  {
   "cell_type": "markdown",
   "metadata": {},
   "source": [
    "## Lendo o arquivo \"dataset.csv\""
   ]
  },
  {
   "cell_type": "code",
   "execution_count": 3,
   "metadata": {},
   "outputs": [
    {
     "data": {
      "text/html": [
       "<div>\n",
       "<style scoped>\n",
       "    .dataframe tbody tr th:only-of-type {\n",
       "        vertical-align: middle;\n",
       "    }\n",
       "\n",
       "    .dataframe tbody tr th {\n",
       "        vertical-align: top;\n",
       "    }\n",
       "\n",
       "    .dataframe thead th {\n",
       "        text-align: right;\n",
       "    }\n",
       "</style>\n",
       "<table border=\"1\" class=\"dataframe\">\n",
       "  <thead>\n",
       "    <tr style=\"text-align: right;\">\n",
       "      <th></th>\n",
       "      <th>id</th>\n",
       "      <th>image_path</th>\n",
       "      <th>ocr_path</th>\n",
       "      <th>segmentation_path</th>\n",
       "      <th>info_path</th>\n",
       "      <th>cpf</th>\n",
       "      <th>rg</th>\n",
       "      <th>birthdate</th>\n",
       "      <th>name</th>\n",
       "    </tr>\n",
       "  </thead>\n",
       "  <tbody>\n",
       "    <tr>\n",
       "      <th>0</th>\n",
       "      <td>111111</td>\n",
       "      <td>files/000111111_in.jpg</td>\n",
       "      <td>files/000111111_gt_ocr.txt</td>\n",
       "      <td>files/000111111_gt_segmentation.jpg</td>\n",
       "      <td>files/000111111_info.json</td>\n",
       "      <td>354.205.532-87</td>\n",
       "      <td>08.096.661-5</td>\n",
       "      <td>02/01/1963</td>\n",
       "      <td>Rebelo Ronei Nakamurakare</td>\n",
       "    </tr>\n",
       "    <tr>\n",
       "      <th>1</th>\n",
       "      <td>230000</td>\n",
       "      <td>files/000230000_in.jpg</td>\n",
       "      <td>files/000230000_gt_ocr.txt</td>\n",
       "      <td>files/000230000_gt_segmentation.jpg</td>\n",
       "      <td>files/000230000_info.json</td>\n",
       "      <td>188.354.397-52</td>\n",
       "      <td>29.227.222-4</td>\n",
       "      <td>05/05/1984</td>\n",
       "      <td>Kohatsu Liberatti Ivan</td>\n",
       "    </tr>\n",
       "    <tr>\n",
       "      <th>2</th>\n",
       "      <td>233025</td>\n",
       "      <td>files/000233025_in.jpg</td>\n",
       "      <td>files/000233025_gt_ocr.txt</td>\n",
       "      <td>files/000233025_gt_segmentation.jpg</td>\n",
       "      <td>files/000233025_info.json</td>\n",
       "      <td>370.678.495-51</td>\n",
       "      <td>73.377.624-3</td>\n",
       "      <td>16/02/1976</td>\n",
       "      <td>Chicaro Okubaro Salvo</td>\n",
       "    </tr>\n",
       "    <tr>\n",
       "      <th>3</th>\n",
       "      <td>233331</td>\n",
       "      <td>files/000233331_in.jpg</td>\n",
       "      <td>files/000233331_gt_ocr.txt</td>\n",
       "      <td>files/000233331_gt_segmentation.jpg</td>\n",
       "      <td>files/000233331_info.json</td>\n",
       "      <td>624.476.345-95</td>\n",
       "      <td>84.941.430-1</td>\n",
       "      <td>20/11/2008</td>\n",
       "      <td>Hochun Cerdeira Crema</td>\n",
       "    </tr>\n",
       "    <tr>\n",
       "      <th>4</th>\n",
       "      <td>250000</td>\n",
       "      <td>files/000250000_in.jpg</td>\n",
       "      <td>files/000250000_gt_ocr.txt</td>\n",
       "      <td>files/000250000_gt_segmentation.jpg</td>\n",
       "      <td>files/000250000_info.json</td>\n",
       "      <td>NaN</td>\n",
       "      <td>48.753.318-5</td>\n",
       "      <td>20/07/1978</td>\n",
       "      <td>Scrignoli Petenusci Rombach</td>\n",
       "    </tr>\n",
       "    <tr>\n",
       "      <th>...</th>\n",
       "      <td>...</td>\n",
       "      <td>...</td>\n",
       "      <td>...</td>\n",
       "      <td>...</td>\n",
       "      <td>...</td>\n",
       "      <td>...</td>\n",
       "      <td>...</td>\n",
       "      <td>...</td>\n",
       "      <td>...</td>\n",
       "    </tr>\n",
       "    <tr>\n",
       "      <th>2247</th>\n",
       "      <td>28226</td>\n",
       "      <td>files/00028226_in.jpg</td>\n",
       "      <td>files/00028226_gt_ocr.txt</td>\n",
       "      <td>files/00028226_gt_segmentation.jpg</td>\n",
       "      <td>files/00028226_info.json</td>\n",
       "      <td>437.205.174-38</td>\n",
       "      <td>54.418.427-0</td>\n",
       "      <td>15/04/1977</td>\n",
       "      <td>Koivisto Barreto Malvao</td>\n",
       "    </tr>\n",
       "    <tr>\n",
       "      <th>2248</th>\n",
       "      <td>28227</td>\n",
       "      <td>files/00028227_in.jpg</td>\n",
       "      <td>files/00028227_gt_ocr.txt</td>\n",
       "      <td>files/00028227_gt_segmentation.jpg</td>\n",
       "      <td>files/00028227_info.json</td>\n",
       "      <td>015.092.775-44</td>\n",
       "      <td>78.972.039-5</td>\n",
       "      <td>16/02/1998</td>\n",
       "      <td>Tairone Simabukulo Kusaba</td>\n",
       "    </tr>\n",
       "    <tr>\n",
       "      <th>2249</th>\n",
       "      <td>28228</td>\n",
       "      <td>files/00028228_in.jpg</td>\n",
       "      <td>files/00028228_gt_ocr.txt</td>\n",
       "      <td>files/00028228_gt_segmentation.jpg</td>\n",
       "      <td>files/00028228_info.json</td>\n",
       "      <td>795.486.901-60</td>\n",
       "      <td>25.209.967-9</td>\n",
       "      <td>31/01/1958</td>\n",
       "      <td>Bouskela Morishigue Seithi</td>\n",
       "    </tr>\n",
       "    <tr>\n",
       "      <th>2250</th>\n",
       "      <td>28229</td>\n",
       "      <td>files/00028229_in.jpg</td>\n",
       "      <td>files/00028229_gt_ocr.txt</td>\n",
       "      <td>files/00028229_gt_segmentation.jpg</td>\n",
       "      <td>files/00028229_info.json</td>\n",
       "      <td>790.790.752-72</td>\n",
       "      <td>17.546.850-3</td>\n",
       "      <td>11/10/1977</td>\n",
       "      <td>Ballarin Suenori Frigori</td>\n",
       "    </tr>\n",
       "    <tr>\n",
       "      <th>2251</th>\n",
       "      <td>28230</td>\n",
       "      <td>files/00028230_in.jpg</td>\n",
       "      <td>files/00028230_gt_ocr.txt</td>\n",
       "      <td>files/00028230_gt_segmentation.jpg</td>\n",
       "      <td>files/00028230_info.json</td>\n",
       "      <td>440.992.127-42</td>\n",
       "      <td>21.173.877-3</td>\n",
       "      <td>16/09/1965</td>\n",
       "      <td>Mercaldi Matrai Scalon</td>\n",
       "    </tr>\n",
       "  </tbody>\n",
       "</table>\n",
       "<p>2252 rows × 9 columns</p>\n",
       "</div>"
      ],
      "text/plain": [
       "          id              image_path                    ocr_path  \\\n",
       "0     111111  files/000111111_in.jpg  files/000111111_gt_ocr.txt   \n",
       "1     230000  files/000230000_in.jpg  files/000230000_gt_ocr.txt   \n",
       "2     233025  files/000233025_in.jpg  files/000233025_gt_ocr.txt   \n",
       "3     233331  files/000233331_in.jpg  files/000233331_gt_ocr.txt   \n",
       "4     250000  files/000250000_in.jpg  files/000250000_gt_ocr.txt   \n",
       "...      ...                     ...                         ...   \n",
       "2247   28226   files/00028226_in.jpg   files/00028226_gt_ocr.txt   \n",
       "2248   28227   files/00028227_in.jpg   files/00028227_gt_ocr.txt   \n",
       "2249   28228   files/00028228_in.jpg   files/00028228_gt_ocr.txt   \n",
       "2250   28229   files/00028229_in.jpg   files/00028229_gt_ocr.txt   \n",
       "2251   28230   files/00028230_in.jpg   files/00028230_gt_ocr.txt   \n",
       "\n",
       "                        segmentation_path                  info_path  \\\n",
       "0     files/000111111_gt_segmentation.jpg  files/000111111_info.json   \n",
       "1     files/000230000_gt_segmentation.jpg  files/000230000_info.json   \n",
       "2     files/000233025_gt_segmentation.jpg  files/000233025_info.json   \n",
       "3     files/000233331_gt_segmentation.jpg  files/000233331_info.json   \n",
       "4     files/000250000_gt_segmentation.jpg  files/000250000_info.json   \n",
       "...                                   ...                        ...   \n",
       "2247   files/00028226_gt_segmentation.jpg   files/00028226_info.json   \n",
       "2248   files/00028227_gt_segmentation.jpg   files/00028227_info.json   \n",
       "2249   files/00028228_gt_segmentation.jpg   files/00028228_info.json   \n",
       "2250   files/00028229_gt_segmentation.jpg   files/00028229_info.json   \n",
       "2251   files/00028230_gt_segmentation.jpg   files/00028230_info.json   \n",
       "\n",
       "                 cpf            rg   birthdate                         name  \n",
       "0     354.205.532-87  08.096.661-5  02/01/1963    Rebelo Ronei Nakamurakare  \n",
       "1     188.354.397-52  29.227.222-4  05/05/1984       Kohatsu Liberatti Ivan  \n",
       "2     370.678.495-51  73.377.624-3  16/02/1976        Chicaro Okubaro Salvo  \n",
       "3     624.476.345-95  84.941.430-1  20/11/2008        Hochun Cerdeira Crema  \n",
       "4                NaN  48.753.318-5  20/07/1978  Scrignoli Petenusci Rombach  \n",
       "...              ...           ...         ...                          ...  \n",
       "2247  437.205.174-38  54.418.427-0  15/04/1977      Koivisto Barreto Malvao  \n",
       "2248  015.092.775-44  78.972.039-5  16/02/1998    Tairone Simabukulo Kusaba  \n",
       "2249  795.486.901-60  25.209.967-9  31/01/1958   Bouskela Morishigue Seithi  \n",
       "2250  790.790.752-72  17.546.850-3  11/10/1977     Ballarin Suenori Frigori  \n",
       "2251  440.992.127-42  21.173.877-3  16/09/1965       Mercaldi Matrai Scalon  \n",
       "\n",
       "[2252 rows x 9 columns]"
      ]
     },
     "execution_count": 3,
     "metadata": {},
     "output_type": "execute_result"
    }
   ],
   "source": [
    "dataset = pd.read_csv(DATASET_CSV_PATH, sep=';')\n",
    "dataset"
   ]
  },
  {
   "cell_type": "code",
   "execution_count": 4,
   "metadata": {},
   "outputs": [
    {
     "name": "stdout",
     "output_type": "stream",
     "text": [
      "Existem 2252 documentos no dataset\n"
     ]
    }
   ],
   "source": [
    "docs_count = dataset.shape[0]\n",
    "print(f'Existem {docs_count} documentos no dataset')"
   ]
  },
  {
   "cell_type": "code",
   "execution_count": 5,
   "metadata": {},
   "outputs": [
    {
     "data": {
      "text/plain": [
       "id                     0\n",
       "image_path             0\n",
       "ocr_path               0\n",
       "segmentation_path      0\n",
       "info_path              0\n",
       "cpf                  348\n",
       "rg                     0\n",
       "birthdate              0\n",
       "name                   2\n",
       "dtype: int64"
      ]
     },
     "execution_count": 5,
     "metadata": {},
     "output_type": "execute_result"
    }
   ],
   "source": [
    "dataset.isna().sum()"
   ]
  },
  {
   "cell_type": "code",
   "execution_count": 6,
   "metadata": {},
   "outputs": [
    {
     "name": "stdout",
     "output_type": "stream",
     "text": [
      "Existem 350 documentos com dados nulos\n"
     ]
    }
   ],
   "source": [
    "nan_docs_count = dataset.isna().sum().sum()\n",
    "print(f'Existem {nan_docs_count} documentos com dados nulos')"
   ]
  },
  {
   "cell_type": "code",
   "execution_count": 7,
   "metadata": {},
   "outputs": [
    {
     "name": "stdout",
     "output_type": "stream",
     "text": [
      "Logo, temos 1902 documentos sem nenhum dado nulo\n"
     ]
    }
   ],
   "source": [
    "not_nan_docs_count = docs_count - nan_docs_count\n",
    "print(f'Logo, temos {not_nan_docs_count} documentos sem nenhum dado nulo')"
   ]
  },
  {
   "cell_type": "markdown",
   "metadata": {},
   "source": [
    "## Código para vizualizar informações do dataset"
   ]
  },
  {
   "cell_type": "code",
   "execution_count": 8,
   "metadata": {},
   "outputs": [],
   "source": [
    "img_widget = widgets.Image(\n",
    "    format='jpg',\n",
    "    width=600,\n",
    "    height=400\n",
    ")\n",
    "\n",
    "rotate_img_btn = widgets.Button(\n",
    "    description='Rotacionar',\n",
    "    icon='undo'\n",
    ")"
   ]
  },
  {
   "cell_type": "code",
   "execution_count": 13,
   "metadata": {},
   "outputs": [
    {
     "ename": "IndexError",
     "evalue": "single positional indexer is out-of-bounds",
     "output_type": "error",
     "traceback": [
      "\u001b[1;31m---------------------------------------------------------------------------\u001b[0m",
      "\u001b[1;31mIndexError\u001b[0m                                Traceback (most recent call last)",
      "Cell \u001b[1;32mIn[13], line 2\u001b[0m\n\u001b[0;32m      1\u001b[0m DOC_NUMBER \u001b[39m=\u001b[39m \u001b[39m2252\u001b[39m\n\u001b[1;32m----> 2\u001b[0m current_doc \u001b[39m=\u001b[39m dataset\u001b[39m.\u001b[39;49miloc[DOC_NUMBER]\n\u001b[0;32m      4\u001b[0m img \u001b[39m=\u001b[39m cv2\u001b[39m.\u001b[39mimread(\u001b[39mf\u001b[39m\u001b[39m'\u001b[39m\u001b[39m{\u001b[39;00mDATASET_FOLDER_PATH\u001b[39m}\u001b[39;00m\u001b[39m/\u001b[39m\u001b[39m{\u001b[39;00mcurrent_doc[\u001b[39m\"\u001b[39m\u001b[39mimage_path\u001b[39m\u001b[39m\"\u001b[39m]\u001b[39m}\u001b[39;00m\u001b[39m'\u001b[39m)\n\u001b[0;32m      5\u001b[0m \u001b[39mif\u001b[39;00m img\u001b[39m.\u001b[39mshape[\u001b[39m0\u001b[39m] \u001b[39m>\u001b[39m img\u001b[39m.\u001b[39mshape[\u001b[39m1\u001b[39m]:\n",
      "File \u001b[1;32mc:\\Users\\gregf\\anaconda3\\envs\\PI\\lib\\site-packages\\pandas\\core\\indexing.py:1073\u001b[0m, in \u001b[0;36m_LocationIndexer.__getitem__\u001b[1;34m(self, key)\u001b[0m\n\u001b[0;32m   1070\u001b[0m axis \u001b[39m=\u001b[39m \u001b[39mself\u001b[39m\u001b[39m.\u001b[39maxis \u001b[39mor\u001b[39;00m \u001b[39m0\u001b[39m\n\u001b[0;32m   1072\u001b[0m maybe_callable \u001b[39m=\u001b[39m com\u001b[39m.\u001b[39mapply_if_callable(key, \u001b[39mself\u001b[39m\u001b[39m.\u001b[39mobj)\n\u001b[1;32m-> 1073\u001b[0m \u001b[39mreturn\u001b[39;00m \u001b[39mself\u001b[39;49m\u001b[39m.\u001b[39;49m_getitem_axis(maybe_callable, axis\u001b[39m=\u001b[39;49maxis)\n",
      "File \u001b[1;32mc:\\Users\\gregf\\anaconda3\\envs\\PI\\lib\\site-packages\\pandas\\core\\indexing.py:1625\u001b[0m, in \u001b[0;36m_iLocIndexer._getitem_axis\u001b[1;34m(self, key, axis)\u001b[0m\n\u001b[0;32m   1622\u001b[0m     \u001b[39mraise\u001b[39;00m \u001b[39mTypeError\u001b[39;00m(\u001b[39m\"\u001b[39m\u001b[39mCannot index by location index with a non-integer key\u001b[39m\u001b[39m\"\u001b[39m)\n\u001b[0;32m   1624\u001b[0m \u001b[39m# validate the location\u001b[39;00m\n\u001b[1;32m-> 1625\u001b[0m \u001b[39mself\u001b[39;49m\u001b[39m.\u001b[39;49m_validate_integer(key, axis)\n\u001b[0;32m   1627\u001b[0m \u001b[39mreturn\u001b[39;00m \u001b[39mself\u001b[39m\u001b[39m.\u001b[39mobj\u001b[39m.\u001b[39m_ixs(key, axis\u001b[39m=\u001b[39maxis)\n",
      "File \u001b[1;32mc:\\Users\\gregf\\anaconda3\\envs\\PI\\lib\\site-packages\\pandas\\core\\indexing.py:1557\u001b[0m, in \u001b[0;36m_iLocIndexer._validate_integer\u001b[1;34m(self, key, axis)\u001b[0m\n\u001b[0;32m   1555\u001b[0m len_axis \u001b[39m=\u001b[39m \u001b[39mlen\u001b[39m(\u001b[39mself\u001b[39m\u001b[39m.\u001b[39mobj\u001b[39m.\u001b[39m_get_axis(axis))\n\u001b[0;32m   1556\u001b[0m \u001b[39mif\u001b[39;00m key \u001b[39m>\u001b[39m\u001b[39m=\u001b[39m len_axis \u001b[39mor\u001b[39;00m key \u001b[39m<\u001b[39m \u001b[39m-\u001b[39mlen_axis:\n\u001b[1;32m-> 1557\u001b[0m     \u001b[39mraise\u001b[39;00m \u001b[39mIndexError\u001b[39;00m(\u001b[39m\"\u001b[39m\u001b[39msingle positional indexer is out-of-bounds\u001b[39m\u001b[39m\"\u001b[39m)\n",
      "\u001b[1;31mIndexError\u001b[0m: single positional indexer is out-of-bounds"
     ]
    }
   ],
   "source": [
    "DOC_NUMBER = 2251\n",
    "current_doc = dataset.iloc[DOC_NUMBER]\n",
    "\n",
    "img = cv2.imread(f'{DATASET_FOLDER_PATH}/{current_doc[\"image_path\"]}')\n",
    "if img.shape[0] > img.shape[1]:\n",
    "    img = cv2.rotate(img, cv2.ROTATE_90_COUNTERCLOCKWISE)\n",
    "img_widget.value = cv2.imencode('.jpg', img)[1].tobytes()\n",
    "\n",
    "with open(f'{DATASET_FOLDER_PATH}/{current_doc[\"ocr_path\"]}') as ocr_file:\n",
    "    ocr_info = ocr_file.read()\n",
    "\n",
    "with open(f'{DATASET_FOLDER_PATH}/{current_doc[\"info_path\"]}') as info_file:\n",
    "    info_json = json.load(info_file)\n",
    "\n",
    "def rotate_img():\n",
    "    global img\n",
    "    img = cv2.rotate(img, cv2.ROTATE_180)\n",
    "    img_widget.value = cv2.imencode('.jpg', img)[1].tobytes()\n",
    "\n",
    "rotate_img_btn.on_click(lambda _: rotate_img())"
   ]
  },
  {
   "cell_type": "code",
   "execution_count": 12,
   "metadata": {},
   "outputs": [
    {
     "data": {
      "text/plain": [
       "id                                                28230\n",
       "image_path                        files/00028230_in.jpg\n",
       "ocr_path                      files/00028230_gt_ocr.txt\n",
       "segmentation_path    files/00028230_gt_segmentation.jpg\n",
       "info_path                      files/00028230_info.json\n",
       "cpf                                      440.992.127-42\n",
       "rg                                         21.173.877-3\n",
       "birthdate                                    16/09/1965\n",
       "name                             Mercaldi Matrai Scalon\n",
       "Name: 2251, dtype: object"
      ]
     },
     "metadata": {},
     "output_type": "display_data"
    },
    {
     "data": {
      "application/vnd.jupyter.widget-view+json": {
       "model_id": "60b5b751081b41bf9b72cde292429cdb",
       "version_major": 2,
       "version_minor": 0
      },
      "text/plain": [
       "HBox(children=(Image(value=b'\\xff\\xd8\\xff\\xe0\\x00\\x10JFIF\\x00\\x01\\x01\\x00\\x00\\x01\\x00\\x01\\x00\\x00\\xff\\xdb\\x00C…"
      ]
     },
     "metadata": {},
     "output_type": "display_data"
    },
    {
     "name": "stdout",
     "output_type": "stream",
     "text": [
      "left;top;width;height;transcription\n",
      "[271, 271, 719, 717];[91, 69, 74, 94];-1;-1;VÁLIDA EM TODO O TERRITÓRIO NACIONAL\n",
      "[682, 683, 868, 868];[384, 368, 370, 387];-1;-1;DATA DE NASCIMENTO\n",
      "83;608;88;23;NH 66\n",
      "369;631;211;20;ASSINATURA DO DIRETOR\n",
      "367;662;233;24;LEI Nº7 116 DE 29/08/83\n",
      "131;525;236;24;440.992.127-42\n",
      "85;530;39;22;CPF\n",
      "86;474;197;33;VITÓRIA-ES\n",
      "89;445;111;20;DOC ORIGEM\n",
      "208;439;482;28;C.NAS=184 LV=166 FL=23\n",
      "90;395;211;26;ARARAS-SP\n",
      "89;362;131;17;NATURALIDADE\n",
      "658;400;176;26;16/09/1965\n",
      "666;103;185;28;20/09/1990\n",
      "558;118;98;20;EXPEDIÇÃO\n",
      "559;98;73;21;DATA DE\n",
      "96;151;54;19;NOME\n",
      "98;114;55;20;GERAL\n",
      "98;96;83;17;REGISTRO\n",
      "93;232;78;23;FILIAÇÃO\n",
      "87;311;406;22;MITHUHIRO DIOGO LOYANE\n",
      "90;268;462;23;DALECIO VITERBO ALAVARCE\n",
      "91;188;401;20;MERCALDI MATRAI SCALON\n",
      "187;103;158;20;21.173.877-3\n",
      "752;611;62;19;9 VIA\n",
      "\n",
      "{'cpf': '440.992.127-42', 'rg': '21.173.877-3', 'name': 'Mercaldi Matrai Scalon', 'birthdate': '16/09/1965'}\n"
     ]
    }
   ],
   "source": [
    "display(current_doc)\n",
    "\n",
    "display(widgets.HBox([\n",
    "    img_widget, \n",
    "    widgets.VBox([\n",
    "        rotate_img_btn\n",
    "    ])\n",
    "], layout=widgets.Layout(align_items='center')))\n",
    "\n",
    "print(ocr_info)\n",
    "print(info_json)"
   ]
  }
 ],
 "metadata": {
  "kernelspec": {
   "display_name": "PI",
   "language": "python",
   "name": "python3"
  },
  "language_info": {
   "codemirror_mode": {
    "name": "ipython",
    "version": 3
   },
   "file_extension": ".py",
   "mimetype": "text/x-python",
   "name": "python",
   "nbconvert_exporter": "python",
   "pygments_lexer": "ipython3",
   "version": "3.8.16"
  },
  "orig_nbformat": 4
 },
 "nbformat": 4,
 "nbformat_minor": 2
}
