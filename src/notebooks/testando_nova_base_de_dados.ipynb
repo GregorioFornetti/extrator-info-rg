{
 "cells": [
  {
   "cell_type": "markdown",
   "metadata": {},
   "source": [
    "# Verificando se a \"nova\" base de dados está ok"
   ]
  },
  {
   "cell_type": "markdown",
   "metadata": {},
   "source": [
    "O notebook disponível em `src/tratando_base_dados.ipynb` modifica a base de dados original BID, adicionando um novo arquivo para cada imagem, que é um arquivo JSON contendo informações relevantes do documento, como nome, data de nascimento, RG e CPF.\n",
    "\n",
    "Além disso, também é criado um arquivo `.csv` com cada linha contendo informações sobre cada documento, como os arquivos correspondentes a eles, os seus dados importantes e o seu ID."
   ]
  },
  {
   "cell_type": "markdown",
   "metadata": {},
   "source": [
    "## Importações"
   ]
  },
  {
   "cell_type": "code",
   "execution_count": 1,
   "metadata": {},
   "outputs": [],
   "source": [
    "import os\n",
    "import json\n",
    "\n",
    "import pandas as pd\n",
    "import cv2\n",
    "import ipywidgets as widgets"
   ]
  },
  {
   "cell_type": "markdown",
   "metadata": {},
   "source": [
    "## Constantes"
   ]
  },
  {
   "cell_type": "code",
   "execution_count": 2,
   "metadata": {},
   "outputs": [],
   "source": [
    "DATASET_FOLDER_PATH = '../../RG-Dataset'\n",
    "DATASET_CSV_PATH = f'{DATASET_FOLDER_PATH}/dataset.csv'"
   ]
  },
  {
   "cell_type": "markdown",
   "metadata": {},
   "source": [
    "## Lendo o arquivo \"dataset.csv\""
   ]
  },
  {
   "cell_type": "code",
   "execution_count": 3,
   "metadata": {},
   "outputs": [
    {
     "data": {
      "text/html": [
       "<div>\n",
       "<style scoped>\n",
       "    .dataframe tbody tr th:only-of-type {\n",
       "        vertical-align: middle;\n",
       "    }\n",
       "\n",
       "    .dataframe tbody tr th {\n",
       "        vertical-align: top;\n",
       "    }\n",
       "\n",
       "    .dataframe thead th {\n",
       "        text-align: right;\n",
       "    }\n",
       "</style>\n",
       "<table border=\"1\" class=\"dataframe\">\n",
       "  <thead>\n",
       "    <tr style=\"text-align: right;\">\n",
       "      <th></th>\n",
       "      <th>id</th>\n",
       "      <th>image_path</th>\n",
       "      <th>ocr_path</th>\n",
       "      <th>segmentation_path</th>\n",
       "      <th>info_path</th>\n",
       "      <th>cpf</th>\n",
       "      <th>rg</th>\n",
       "      <th>birthdate</th>\n",
       "      <th>name</th>\n",
       "    </tr>\n",
       "  </thead>\n",
       "  <tbody>\n",
       "    <tr>\n",
       "      <th>0</th>\n",
       "      <td>111111</td>\n",
       "      <td>files/000111111_in.jpg</td>\n",
       "      <td>files/000111111_gt_ocr.txt</td>\n",
       "      <td>files/000111111_gt_segmentation.jpg</td>\n",
       "      <td>files/000111111_info.json</td>\n",
       "      <td>354.205.532-87</td>\n",
       "      <td>08.096.661-5</td>\n",
       "      <td>02/01/1963</td>\n",
       "      <td>Rebelo Ronei Nakamurakare</td>\n",
       "    </tr>\n",
       "    <tr>\n",
       "      <th>1</th>\n",
       "      <td>230000</td>\n",
       "      <td>files/000230000_in.jpg</td>\n",
       "      <td>files/000230000_gt_ocr.txt</td>\n",
       "      <td>files/000230000_gt_segmentation.jpg</td>\n",
       "      <td>files/000230000_info.json</td>\n",
       "      <td>188.354.397-52</td>\n",
       "      <td>29.227.222-4</td>\n",
       "      <td>05/05/1984</td>\n",
       "      <td>Kohatsu Liberatti Ivan</td>\n",
       "    </tr>\n",
       "    <tr>\n",
       "      <th>2</th>\n",
       "      <td>233025</td>\n",
       "      <td>files/000233025_in.jpg</td>\n",
       "      <td>files/000233025_gt_ocr.txt</td>\n",
       "      <td>files/000233025_gt_segmentation.jpg</td>\n",
       "      <td>files/000233025_info.json</td>\n",
       "      <td>370.678.495-51</td>\n",
       "      <td>73.377.624-3</td>\n",
       "      <td>16/02/1976</td>\n",
       "      <td>Chicaro Okubaro Salvo</td>\n",
       "    </tr>\n",
       "    <tr>\n",
       "      <th>3</th>\n",
       "      <td>233331</td>\n",
       "      <td>files/000233331_in.jpg</td>\n",
       "      <td>files/000233331_gt_ocr.txt</td>\n",
       "      <td>files/000233331_gt_segmentation.jpg</td>\n",
       "      <td>files/000233331_info.json</td>\n",
       "      <td>624.476.345-95</td>\n",
       "      <td>84.941.430-1</td>\n",
       "      <td>20/11/2008</td>\n",
       "      <td>Hochun Cerdeira Crema</td>\n",
       "    </tr>\n",
       "    <tr>\n",
       "      <th>4</th>\n",
       "      <td>250000</td>\n",
       "      <td>files/000250000_in.jpg</td>\n",
       "      <td>files/000250000_gt_ocr.txt</td>\n",
       "      <td>files/000250000_gt_segmentation.jpg</td>\n",
       "      <td>files/000250000_info.json</td>\n",
       "      <td>NaN</td>\n",
       "      <td>48.753.318-5</td>\n",
       "      <td>20/07/1978</td>\n",
       "      <td>Scrignoli Petenusci Rombach</td>\n",
       "    </tr>\n",
       "    <tr>\n",
       "      <th>...</th>\n",
       "      <td>...</td>\n",
       "      <td>...</td>\n",
       "      <td>...</td>\n",
       "      <td>...</td>\n",
       "      <td>...</td>\n",
       "      <td>...</td>\n",
       "      <td>...</td>\n",
       "      <td>...</td>\n",
       "      <td>...</td>\n",
       "    </tr>\n",
       "    <tr>\n",
       "      <th>913</th>\n",
       "      <td>26861</td>\n",
       "      <td>files/00026861_in.jpg</td>\n",
       "      <td>files/00026861_gt_ocr.txt</td>\n",
       "      <td>files/00026861_gt_segmentation.jpg</td>\n",
       "      <td>files/00026861_info.json</td>\n",
       "      <td>184.843.419-76</td>\n",
       "      <td>28.321.208-1</td>\n",
       "      <td>17/02/1978</td>\n",
       "      <td>Hime Sylvestre Eiryo</td>\n",
       "    </tr>\n",
       "    <tr>\n",
       "      <th>914</th>\n",
       "      <td>26862</td>\n",
       "      <td>files/00026862_in.jpg</td>\n",
       "      <td>files/00026862_gt_ocr.txt</td>\n",
       "      <td>files/00026862_gt_segmentation.jpg</td>\n",
       "      <td>files/00026862_info.json</td>\n",
       "      <td>973.352.343-79</td>\n",
       "      <td>27.205.367-3</td>\n",
       "      <td>25/10/1958</td>\n",
       "      <td>Ciuffi Prandini Restum</td>\n",
       "    </tr>\n",
       "    <tr>\n",
       "      <th>915</th>\n",
       "      <td>26863</td>\n",
       "      <td>files/00026863_in.jpg</td>\n",
       "      <td>files/00026863_gt_ocr.txt</td>\n",
       "      <td>files/00026863_gt_segmentation.jpg</td>\n",
       "      <td>files/00026863_info.json</td>\n",
       "      <td>579.129.745-98</td>\n",
       "      <td>04.355.100-2</td>\n",
       "      <td>07/05/2002</td>\n",
       "      <td>Avelas Wilkens Lacaz</td>\n",
       "    </tr>\n",
       "    <tr>\n",
       "      <th>916</th>\n",
       "      <td>26864</td>\n",
       "      <td>files/00026864_in.jpg</td>\n",
       "      <td>files/00026864_gt_ocr.txt</td>\n",
       "      <td>files/00026864_gt_segmentation.jpg</td>\n",
       "      <td>files/00026864_info.json</td>\n",
       "      <td>866.125.989-48</td>\n",
       "      <td>44.840.014-5</td>\n",
       "      <td>02/02/1982</td>\n",
       "      <td>Akutagawa Crivelini Eleia</td>\n",
       "    </tr>\n",
       "    <tr>\n",
       "      <th>917</th>\n",
       "      <td>26865</td>\n",
       "      <td>files/00026865_in.jpg</td>\n",
       "      <td>files/00026865_gt_ocr.txt</td>\n",
       "      <td>files/00026865_gt_segmentation.jpg</td>\n",
       "      <td>files/00026865_info.json</td>\n",
       "      <td>NaN</td>\n",
       "      <td>02.967.492-7</td>\n",
       "      <td>06/01/1983</td>\n",
       "      <td>Malandrin Thaila Pinaya</td>\n",
       "    </tr>\n",
       "  </tbody>\n",
       "</table>\n",
       "<p>918 rows × 9 columns</p>\n",
       "</div>"
      ],
      "text/plain": [
       "         id              image_path                    ocr_path  \\\n",
       "0    111111  files/000111111_in.jpg  files/000111111_gt_ocr.txt   \n",
       "1    230000  files/000230000_in.jpg  files/000230000_gt_ocr.txt   \n",
       "2    233025  files/000233025_in.jpg  files/000233025_gt_ocr.txt   \n",
       "3    233331  files/000233331_in.jpg  files/000233331_gt_ocr.txt   \n",
       "4    250000  files/000250000_in.jpg  files/000250000_gt_ocr.txt   \n",
       "..      ...                     ...                         ...   \n",
       "913   26861   files/00026861_in.jpg   files/00026861_gt_ocr.txt   \n",
       "914   26862   files/00026862_in.jpg   files/00026862_gt_ocr.txt   \n",
       "915   26863   files/00026863_in.jpg   files/00026863_gt_ocr.txt   \n",
       "916   26864   files/00026864_in.jpg   files/00026864_gt_ocr.txt   \n",
       "917   26865   files/00026865_in.jpg   files/00026865_gt_ocr.txt   \n",
       "\n",
       "                       segmentation_path                  info_path  \\\n",
       "0    files/000111111_gt_segmentation.jpg  files/000111111_info.json   \n",
       "1    files/000230000_gt_segmentation.jpg  files/000230000_info.json   \n",
       "2    files/000233025_gt_segmentation.jpg  files/000233025_info.json   \n",
       "3    files/000233331_gt_segmentation.jpg  files/000233331_info.json   \n",
       "4    files/000250000_gt_segmentation.jpg  files/000250000_info.json   \n",
       "..                                   ...                        ...   \n",
       "913   files/00026861_gt_segmentation.jpg   files/00026861_info.json   \n",
       "914   files/00026862_gt_segmentation.jpg   files/00026862_info.json   \n",
       "915   files/00026863_gt_segmentation.jpg   files/00026863_info.json   \n",
       "916   files/00026864_gt_segmentation.jpg   files/00026864_info.json   \n",
       "917   files/00026865_gt_segmentation.jpg   files/00026865_info.json   \n",
       "\n",
       "                cpf            rg   birthdate                         name  \n",
       "0    354.205.532-87  08.096.661-5  02/01/1963    Rebelo Ronei Nakamurakare  \n",
       "1    188.354.397-52  29.227.222-4  05/05/1984       Kohatsu Liberatti Ivan  \n",
       "2    370.678.495-51  73.377.624-3  16/02/1976        Chicaro Okubaro Salvo  \n",
       "3    624.476.345-95  84.941.430-1  20/11/2008        Hochun Cerdeira Crema  \n",
       "4               NaN  48.753.318-5  20/07/1978  Scrignoli Petenusci Rombach  \n",
       "..              ...           ...         ...                          ...  \n",
       "913  184.843.419-76  28.321.208-1  17/02/1978         Hime Sylvestre Eiryo  \n",
       "914  973.352.343-79  27.205.367-3  25/10/1958       Ciuffi Prandini Restum  \n",
       "915  579.129.745-98  04.355.100-2  07/05/2002         Avelas Wilkens Lacaz  \n",
       "916  866.125.989-48  44.840.014-5  02/02/1982    Akutagawa Crivelini Eleia  \n",
       "917             NaN  02.967.492-7  06/01/1983      Malandrin Thaila Pinaya  \n",
       "\n",
       "[918 rows x 9 columns]"
      ]
     },
     "execution_count": 3,
     "metadata": {},
     "output_type": "execute_result"
    }
   ],
   "source": [
    "dataset = pd.read_csv(DATASET_CSV_PATH, sep=';')\n",
    "dataset"
   ]
  },
  {
   "cell_type": "code",
   "execution_count": 4,
   "metadata": {},
   "outputs": [
    {
     "name": "stdout",
     "output_type": "stream",
     "text": [
      "Existem 918 documentos no dataset\n"
     ]
    }
   ],
   "source": [
    "docs_count = dataset.shape[0]\n",
    "print(f'Existem {docs_count} documentos no dataset')"
   ]
  },
  {
   "cell_type": "code",
   "execution_count": 5,
   "metadata": {},
   "outputs": [
    {
     "data": {
      "text/plain": [
       "id                     0\n",
       "image_path             0\n",
       "ocr_path               0\n",
       "segmentation_path      0\n",
       "info_path              0\n",
       "cpf                  149\n",
       "rg                     0\n",
       "birthdate              0\n",
       "name                   0\n",
       "dtype: int64"
      ]
     },
     "execution_count": 5,
     "metadata": {},
     "output_type": "execute_result"
    }
   ],
   "source": [
    "dataset.isna().sum()"
   ]
  },
  {
   "cell_type": "code",
   "execution_count": 6,
   "metadata": {},
   "outputs": [
    {
     "name": "stdout",
     "output_type": "stream",
     "text": [
      "Existem 149 documentos com dados nulos\n"
     ]
    }
   ],
   "source": [
    "nan_docs_count = dataset.isna().sum().sum()\n",
    "print(f'Existem {nan_docs_count} documentos com dados nulos')"
   ]
  },
  {
   "cell_type": "code",
   "execution_count": 7,
   "metadata": {},
   "outputs": [
    {
     "name": "stdout",
     "output_type": "stream",
     "text": [
      "Logo, temos 769 documentos sem nenhum dado nulo\n"
     ]
    }
   ],
   "source": [
    "not_nan_docs_count = docs_count - nan_docs_count\n",
    "print(f'Logo, temos {not_nan_docs_count} documentos sem nenhum dado nulo')"
   ]
  },
  {
   "cell_type": "markdown",
   "metadata": {},
   "source": [
    "## Código para vizualizar informações do dataset"
   ]
  },
  {
   "cell_type": "code",
   "execution_count": 8,
   "metadata": {},
   "outputs": [],
   "source": [
    "img_widget = widgets.Image(\n",
    "    format='jpg',\n",
    "    width=600,\n",
    "    height=400\n",
    ")\n",
    "\n",
    "rotate_img_btn = widgets.Button(\n",
    "    description='Rotacionar',\n",
    "    icon='undo'\n",
    ")"
   ]
  },
  {
   "cell_type": "code",
   "execution_count": 9,
   "metadata": {},
   "outputs": [],
   "source": [
    "DOC_NUMBER = 917\n",
    "\n",
    "current_doc = dataset.iloc[DOC_NUMBER]\n",
    "\n",
    "img = cv2.imread(f'{DATASET_FOLDER_PATH}/{current_doc[\"image_path\"]}')\n",
    "if img.shape[0] > img.shape[1]:\n",
    "    img = cv2.rotate(img, cv2.ROTATE_90_COUNTERCLOCKWISE)\n",
    "img_widget.value = cv2.imencode('.jpg', img)[1].tobytes()\n",
    "\n",
    "with open(f'{DATASET_FOLDER_PATH}/{current_doc[\"ocr_path\"]}') as ocr_file:\n",
    "    ocr_info = ocr_file.read()\n",
    "\n",
    "with open(f'{DATASET_FOLDER_PATH}/{current_doc[\"info_path\"]}') as info_file:\n",
    "    info_json = json.load(info_file)\n",
    "\n",
    "def rotate_img():\n",
    "    global img\n",
    "    img = cv2.rotate(img, cv2.ROTATE_180)\n",
    "    img_widget.value = cv2.imencode('.jpg', img)[1].tobytes()\n",
    "\n",
    "rotate_img_btn.on_click(lambda _: rotate_img())"
   ]
  },
  {
   "cell_type": "code",
   "execution_count": null,
   "metadata": {},
   "outputs": [],
   "source": [
    "display(current_doc)\n",
    "\n",
    "display(widgets.HBox([\n",
    "    img_widget, \n",
    "    widgets.VBox([\n",
    "        rotate_img_btn\n",
    "    ])\n",
    "], layout=widgets.Layout(align_items='center')))\n",
    "\n",
    "print(ocr_info)\n",
    "print(info_json)"
   ]
  }
 ],
 "metadata": {
  "kernelspec": {
   "display_name": "PI",
   "language": "python",
   "name": "python3"
  },
  "language_info": {
   "codemirror_mode": {
    "name": "ipython",
    "version": 3
   },
   "file_extension": ".py",
   "mimetype": "text/x-python",
   "name": "python",
   "nbconvert_exporter": "python",
   "pygments_lexer": "ipython3",
   "version": "3.8.16"
  },
  "orig_nbformat": 4
 },
 "nbformat": 4,
 "nbformat_minor": 2
}
