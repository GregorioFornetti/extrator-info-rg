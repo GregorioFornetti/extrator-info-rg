{
 "cells": [
  {
   "cell_type": "markdown",
   "metadata": {},
   "source": [
    "# Verificando se a \"nova\" base de dados está ok"
   ]
  },
  {
   "cell_type": "markdown",
   "metadata": {},
   "source": [
    "O notebook disponível em `src/tratando_base_dados.ipynb` modifica a base de dados original BID, adicionando um novo arquivo para cada imagem, que é um arquivo JSON contendo informações relevantes do documento, como nome, data de nascimento, RG e CPF.\n",
    "\n",
    "Além disso, também é criado um arquivo `.csv` com cada linha contendo informações sobre cada documento, como os arquivos correspondentes a eles, os seus dados importantes e o seu ID."
   ]
  },
  {
   "cell_type": "markdown",
   "metadata": {},
   "source": [
    "## Importações"
   ]
  },
  {
   "cell_type": "code",
   "execution_count": 1,
   "metadata": {},
   "outputs": [],
   "source": [
    "import pandas as pd"
   ]
  },
  {
   "cell_type": "markdown",
   "metadata": {},
   "source": [
    "## Constantes"
   ]
  },
  {
   "cell_type": "code",
   "execution_count": 2,
   "metadata": {},
   "outputs": [],
   "source": [
    "DATASET_FOLDER_PATH = '../../RG-Dataset/'\n",
    "DATASET_CSV_PATH = f'{DATASET_FOLDER_PATH}/dataset.csv'"
   ]
  },
  {
   "cell_type": "markdown",
   "metadata": {},
   "source": [
    "## Lendo o arquivo \"dataset.csv\""
   ]
  },
  {
   "cell_type": "code",
   "execution_count": 4,
   "metadata": {},
   "outputs": [
    {
     "data": {
      "text/html": [
       "<div>\n",
       "<style scoped>\n",
       "    .dataframe tbody tr th:only-of-type {\n",
       "        vertical-align: middle;\n",
       "    }\n",
       "\n",
       "    .dataframe tbody tr th {\n",
       "        vertical-align: top;\n",
       "    }\n",
       "\n",
       "    .dataframe thead th {\n",
       "        text-align: right;\n",
       "    }\n",
       "</style>\n",
       "<table border=\"1\" class=\"dataframe\">\n",
       "  <thead>\n",
       "    <tr style=\"text-align: right;\">\n",
       "      <th></th>\n",
       "      <th>id</th>\n",
       "      <th>image_path</th>\n",
       "      <th>ocr_path</th>\n",
       "      <th>segmentation_path</th>\n",
       "      <th>info_path</th>\n",
       "      <th>cpf</th>\n",
       "      <th>rg</th>\n",
       "      <th>birthdate</th>\n",
       "      <th>name</th>\n",
       "    </tr>\n",
       "  </thead>\n",
       "  <tbody>\n",
       "    <tr>\n",
       "      <th>0</th>\n",
       "      <td>000111111</td>\n",
       "      <td>files/000111111_in.jpg</td>\n",
       "      <td>files/000111111_gt_ocr.txt</td>\n",
       "      <td>files/000111111_gt_segmentation.jpg</td>\n",
       "      <td>files/000111111_info.json</td>\n",
       "      <td>354.205.532-87</td>\n",
       "      <td>08.096.661-5</td>\n",
       "      <td>02/01/1963</td>\n",
       "      <td>Rebelo Ronei Nakamurakare</td>\n",
       "    </tr>\n",
       "    <tr>\n",
       "      <th>1</th>\n",
       "      <td>000230000</td>\n",
       "      <td>files/000230000_in.jpg</td>\n",
       "      <td>files/000230000_gt_ocr.txt</td>\n",
       "      <td>files/000230000_gt_segmentation.jpg</td>\n",
       "      <td>files/000230000_info.json</td>\n",
       "      <td>188.354.397-52</td>\n",
       "      <td>29.227.222-4</td>\n",
       "      <td>05/05/1984</td>\n",
       "      <td>Kohatsu Liberatti Ivan</td>\n",
       "    </tr>\n",
       "    <tr>\n",
       "      <th>2</th>\n",
       "      <td>000233025</td>\n",
       "      <td>files/000233025_in.jpg</td>\n",
       "      <td>files/000233025_gt_ocr.txt</td>\n",
       "      <td>files/000233025_gt_segmentation.jpg</td>\n",
       "      <td>files/000233025_info.json</td>\n",
       "      <td>370.678.495-51</td>\n",
       "      <td>73.377.624-3</td>\n",
       "      <td>16/02/1976</td>\n",
       "      <td>Chicaro Okubaro Salvo</td>\n",
       "    </tr>\n",
       "    <tr>\n",
       "      <th>3</th>\n",
       "      <td>000233331</td>\n",
       "      <td>files/000233331_in.jpg</td>\n",
       "      <td>files/000233331_gt_ocr.txt</td>\n",
       "      <td>files/000233331_gt_segmentation.jpg</td>\n",
       "      <td>files/000233331_info.json</td>\n",
       "      <td>624.476.345-95</td>\n",
       "      <td>84.941.430-1</td>\n",
       "      <td>20/11/2008</td>\n",
       "      <td>Hochun Cerdeira Crema</td>\n",
       "    </tr>\n",
       "    <tr>\n",
       "      <th>4</th>\n",
       "      <td>000250000</td>\n",
       "      <td>files/000250000_in.jpg</td>\n",
       "      <td>files/000250000_gt_ocr.txt</td>\n",
       "      <td>files/000250000_gt_segmentation.jpg</td>\n",
       "      <td>files/000250000_info.json</td>\n",
       "      <td>NaN</td>\n",
       "      <td>48.753.318-5</td>\n",
       "      <td>20/07/1978</td>\n",
       "      <td>Scrignoli Petenusci Rombach</td>\n",
       "    </tr>\n",
       "    <tr>\n",
       "      <th>...</th>\n",
       "      <td>...</td>\n",
       "      <td>...</td>\n",
       "      <td>...</td>\n",
       "      <td>...</td>\n",
       "      <td>...</td>\n",
       "      <td>...</td>\n",
       "      <td>...</td>\n",
       "      <td>...</td>\n",
       "      <td>...</td>\n",
       "    </tr>\n",
       "    <tr>\n",
       "      <th>912</th>\n",
       "      <td>00026860_</td>\n",
       "      <td>files/00026860_in.jpg</td>\n",
       "      <td>files/00026860_gt_ocr.txt</td>\n",
       "      <td>files/00026860_gt_segmentation.jpg</td>\n",
       "      <td>files/00026860__info.json</td>\n",
       "      <td>291.380.124-21</td>\n",
       "      <td>80.260.201-0</td>\n",
       "      <td>27/11/2008</td>\n",
       "      <td>Palfi Morigaki Vasters</td>\n",
       "    </tr>\n",
       "    <tr>\n",
       "      <th>913</th>\n",
       "      <td>00026861_</td>\n",
       "      <td>files/00026861_in.jpg</td>\n",
       "      <td>files/00026861_gt_ocr.txt</td>\n",
       "      <td>files/00026861_gt_segmentation.jpg</td>\n",
       "      <td>files/00026861__info.json</td>\n",
       "      <td>184.843.419-76</td>\n",
       "      <td>28.321.208-1</td>\n",
       "      <td>17/02/1978</td>\n",
       "      <td>Hime Sylvestre Eiryo</td>\n",
       "    </tr>\n",
       "    <tr>\n",
       "      <th>914</th>\n",
       "      <td>00026862_</td>\n",
       "      <td>files/00026862_in.jpg</td>\n",
       "      <td>files/00026862_gt_ocr.txt</td>\n",
       "      <td>files/00026862_gt_segmentation.jpg</td>\n",
       "      <td>files/00026862__info.json</td>\n",
       "      <td>973.352.343-79</td>\n",
       "      <td>27.205.367-3</td>\n",
       "      <td>25/10/1958</td>\n",
       "      <td>Ciuffi Prandini Restum</td>\n",
       "    </tr>\n",
       "    <tr>\n",
       "      <th>915</th>\n",
       "      <td>00026863_</td>\n",
       "      <td>files/00026863_in.jpg</td>\n",
       "      <td>files/00026863_gt_ocr.txt</td>\n",
       "      <td>files/00026863_gt_segmentation.jpg</td>\n",
       "      <td>files/00026863__info.json</td>\n",
       "      <td>579.129.745-98</td>\n",
       "      <td>04.355.100-2</td>\n",
       "      <td>07/05/2002</td>\n",
       "      <td>Avelas Wilkens Lacaz</td>\n",
       "    </tr>\n",
       "    <tr>\n",
       "      <th>916</th>\n",
       "      <td>00026864_</td>\n",
       "      <td>files/00026864_in.jpg</td>\n",
       "      <td>files/00026864_gt_ocr.txt</td>\n",
       "      <td>files/00026864_gt_segmentation.jpg</td>\n",
       "      <td>files/00026864__info.json</td>\n",
       "      <td>866.125.989-48</td>\n",
       "      <td>44.840.014-5</td>\n",
       "      <td>02/02/1982</td>\n",
       "      <td>Akutagawa Crivelini Eleia</td>\n",
       "    </tr>\n",
       "  </tbody>\n",
       "</table>\n",
       "<p>917 rows × 9 columns</p>\n",
       "</div>"
      ],
      "text/plain": [
       "            id              image_path                    ocr_path  \\\n",
       "0    000111111  files/000111111_in.jpg  files/000111111_gt_ocr.txt   \n",
       "1    000230000  files/000230000_in.jpg  files/000230000_gt_ocr.txt   \n",
       "2    000233025  files/000233025_in.jpg  files/000233025_gt_ocr.txt   \n",
       "3    000233331  files/000233331_in.jpg  files/000233331_gt_ocr.txt   \n",
       "4    000250000  files/000250000_in.jpg  files/000250000_gt_ocr.txt   \n",
       "..         ...                     ...                         ...   \n",
       "912  00026860_   files/00026860_in.jpg   files/00026860_gt_ocr.txt   \n",
       "913  00026861_   files/00026861_in.jpg   files/00026861_gt_ocr.txt   \n",
       "914  00026862_   files/00026862_in.jpg   files/00026862_gt_ocr.txt   \n",
       "915  00026863_   files/00026863_in.jpg   files/00026863_gt_ocr.txt   \n",
       "916  00026864_   files/00026864_in.jpg   files/00026864_gt_ocr.txt   \n",
       "\n",
       "                       segmentation_path                  info_path  \\\n",
       "0    files/000111111_gt_segmentation.jpg  files/000111111_info.json   \n",
       "1    files/000230000_gt_segmentation.jpg  files/000230000_info.json   \n",
       "2    files/000233025_gt_segmentation.jpg  files/000233025_info.json   \n",
       "3    files/000233331_gt_segmentation.jpg  files/000233331_info.json   \n",
       "4    files/000250000_gt_segmentation.jpg  files/000250000_info.json   \n",
       "..                                   ...                        ...   \n",
       "912   files/00026860_gt_segmentation.jpg  files/00026860__info.json   \n",
       "913   files/00026861_gt_segmentation.jpg  files/00026861__info.json   \n",
       "914   files/00026862_gt_segmentation.jpg  files/00026862__info.json   \n",
       "915   files/00026863_gt_segmentation.jpg  files/00026863__info.json   \n",
       "916   files/00026864_gt_segmentation.jpg  files/00026864__info.json   \n",
       "\n",
       "                cpf            rg   birthdate                         name  \n",
       "0    354.205.532-87  08.096.661-5  02/01/1963    Rebelo Ronei Nakamurakare  \n",
       "1    188.354.397-52  29.227.222-4  05/05/1984       Kohatsu Liberatti Ivan  \n",
       "2    370.678.495-51  73.377.624-3  16/02/1976        Chicaro Okubaro Salvo  \n",
       "3    624.476.345-95  84.941.430-1  20/11/2008        Hochun Cerdeira Crema  \n",
       "4               NaN  48.753.318-5  20/07/1978  Scrignoli Petenusci Rombach  \n",
       "..              ...           ...         ...                          ...  \n",
       "912  291.380.124-21  80.260.201-0  27/11/2008       Palfi Morigaki Vasters  \n",
       "913  184.843.419-76  28.321.208-1  17/02/1978         Hime Sylvestre Eiryo  \n",
       "914  973.352.343-79  27.205.367-3  25/10/1958       Ciuffi Prandini Restum  \n",
       "915  579.129.745-98  04.355.100-2  07/05/2002         Avelas Wilkens Lacaz  \n",
       "916  866.125.989-48  44.840.014-5  02/02/1982    Akutagawa Crivelini Eleia  \n",
       "\n",
       "[917 rows x 9 columns]"
      ]
     },
     "execution_count": 4,
     "metadata": {},
     "output_type": "execute_result"
    }
   ],
   "source": [
    "dataset = pd.read_csv(DATASET_CSV_PATH, sep=';')\n",
    "dataset"
   ]
  },
  {
   "cell_type": "code",
   "execution_count": null,
   "metadata": {},
   "outputs": [],
   "source": [
    "docs_count = dataset.shape[0]\n",
    "print(f'Existem {docs_count} documentos no dataset')"
   ]
  },
  {
   "cell_type": "code",
   "execution_count": null,
   "metadata": {},
   "outputs": [],
   "source": [
    "nan_docs_count = dataset.isna()\n",
    "print(f'Existem {nan_docs_count} documentos com dados nulos')"
   ]
  },
  {
   "cell_type": "code",
   "execution_count": null,
   "metadata": {},
   "outputs": [],
   "source": [
    "not_nan_docs_count = docs_count - nan_docs_count\n",
    "print(f'Logo, temos {not_nan_docs_count} documentos sem nenhum dado nulo')"
   ]
  },
  {
   "cell_type": "markdown",
   "metadata": {},
   "source": [
    "## Código para vizualizar informações do dataset"
   ]
  },
  {
   "cell_type": "code",
   "execution_count": null,
   "metadata": {},
   "outputs": [],
   "source": [
    "DOC_NUMBER = 0\n",
    "\n",
    "current_doc = dataset.iloc[DOC_NUMBER]"
   ]
  },
  {
   "cell_type": "markdown",
   "metadata": {},
   "source": [
    "## Corrigindo problema com underline no ID"
   ]
  },
  {
   "cell_type": "code",
   "execution_count": null,
   "metadata": {},
   "outputs": [],
   "source": [
    "for i, row in dataset.iterrows():\n",
    "    id = row['id']\n",
    "    if id[-1] == '_':\n",
    "        # Mudar nomes dos arquivos JSON\n",
    "        pass\n",
    "\n",
    "# Mudar os ids vetorizadamente\n",
    "# E depois salvar o arquivo"
   ]
  }
 ],
 "metadata": {
  "kernelspec": {
   "display_name": "PI",
   "language": "python",
   "name": "python3"
  },
  "language_info": {
   "codemirror_mode": {
    "name": "ipython",
    "version": 3
   },
   "file_extension": ".py",
   "mimetype": "text/x-python",
   "name": "python",
   "nbconvert_exporter": "python",
   "pygments_lexer": "ipython3",
   "version": "3.8.16"
  },
  "orig_nbformat": 4
 },
 "nbformat": 4,
 "nbformat_minor": 2
}
