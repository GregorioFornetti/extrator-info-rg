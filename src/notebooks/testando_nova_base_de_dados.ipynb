{
 "cells": [
  {
   "cell_type": "markdown",
   "metadata": {},
   "source": [
    "# Verificando se a \"nova\" base de dados está ok"
   ]
  },
  {
   "cell_type": "markdown",
   "metadata": {},
   "source": [
    "O notebook disponível em `src/tratando_base_dados.ipynb` modifica a base de dados original BID, adicionando um novo arquivo para cada imagem, que é um arquivo JSON contendo informações relevantes do documento, como nome, data de nascimento, RG e CPF.\n",
    "\n",
    "Além disso, também é criado um arquivo `.csv` com cada linha contendo informações sobre cada documento, como os arquivos correspondentes a eles, os seus dados importantes e o seu ID."
   ]
  },
  {
   "cell_type": "markdown",
   "metadata": {},
   "source": [
    "## Importações"
   ]
  },
  {
   "cell_type": "code",
   "execution_count": 1,
   "metadata": {},
   "outputs": [],
   "source": [
    "import os\n",
    "import json\n",
    "\n",
    "import pandas as pd\n",
    "import cv2\n",
    "import ipywidgets as widgets"
   ]
  },
  {
   "cell_type": "markdown",
   "metadata": {},
   "source": [
    "## Constantes"
   ]
  },
  {
   "cell_type": "code",
   "execution_count": 2,
   "metadata": {},
   "outputs": [],
   "source": [
    "DATASET_FOLDER_PATH = '../../RG-Dataset'\n",
    "DATASET_CSV_PATH = f'{DATASET_FOLDER_PATH}/dataset.csv'"
   ]
  },
  {
   "cell_type": "markdown",
   "metadata": {},
   "source": [
    "## Lendo o arquivo \"dataset.csv\""
   ]
  },
  {
   "cell_type": "code",
   "execution_count": 3,
   "metadata": {},
   "outputs": [
    {
     "data": {
      "text/html": [
       "<div>\n",
       "<style scoped>\n",
       "    .dataframe tbody tr th:only-of-type {\n",
       "        vertical-align: middle;\n",
       "    }\n",
       "\n",
       "    .dataframe tbody tr th {\n",
       "        vertical-align: top;\n",
       "    }\n",
       "\n",
       "    .dataframe thead th {\n",
       "        text-align: right;\n",
       "    }\n",
       "</style>\n",
       "<table border=\"1\" class=\"dataframe\">\n",
       "  <thead>\n",
       "    <tr style=\"text-align: right;\">\n",
       "      <th></th>\n",
       "      <th>id</th>\n",
       "      <th>image_path</th>\n",
       "      <th>ocr_path</th>\n",
       "      <th>segmentation_path</th>\n",
       "      <th>info_path</th>\n",
       "      <th>cpf</th>\n",
       "      <th>rg</th>\n",
       "      <th>birthdate</th>\n",
       "      <th>name</th>\n",
       "    </tr>\n",
       "  </thead>\n",
       "  <tbody>\n",
       "    <tr>\n",
       "      <th>0</th>\n",
       "      <td>111111</td>\n",
       "      <td>files/000111111_in.jpg</td>\n",
       "      <td>files/000111111_gt_ocr.txt</td>\n",
       "      <td>files/000111111_gt_segmentation.jpg</td>\n",
       "      <td>files/000111111_info.json</td>\n",
       "      <td>354.205.532-87</td>\n",
       "      <td>08.096.661-5</td>\n",
       "      <td>02/01/1963</td>\n",
       "      <td>Rebelo Ronei Nakamurakare</td>\n",
       "    </tr>\n",
       "    <tr>\n",
       "      <th>1</th>\n",
       "      <td>230000</td>\n",
       "      <td>files/000230000_in.jpg</td>\n",
       "      <td>files/000230000_gt_ocr.txt</td>\n",
       "      <td>files/000230000_gt_segmentation.jpg</td>\n",
       "      <td>files/000230000_info.json</td>\n",
       "      <td>188.354.397-52</td>\n",
       "      <td>29.227.222-4</td>\n",
       "      <td>05/05/1984</td>\n",
       "      <td>Kohatsu Liberatti Ivan</td>\n",
       "    </tr>\n",
       "    <tr>\n",
       "      <th>2</th>\n",
       "      <td>233025</td>\n",
       "      <td>files/000233025_in.jpg</td>\n",
       "      <td>files/000233025_gt_ocr.txt</td>\n",
       "      <td>files/000233025_gt_segmentation.jpg</td>\n",
       "      <td>files/000233025_info.json</td>\n",
       "      <td>370.678.495-51</td>\n",
       "      <td>73.377.624-3</td>\n",
       "      <td>16/02/1976</td>\n",
       "      <td>Chicaro Okubaro Salvo</td>\n",
       "    </tr>\n",
       "    <tr>\n",
       "      <th>3</th>\n",
       "      <td>233331</td>\n",
       "      <td>files/000233331_in.jpg</td>\n",
       "      <td>files/000233331_gt_ocr.txt</td>\n",
       "      <td>files/000233331_gt_segmentation.jpg</td>\n",
       "      <td>files/000233331_info.json</td>\n",
       "      <td>624.476.345-95</td>\n",
       "      <td>84.941.430-1</td>\n",
       "      <td>20/11/2008</td>\n",
       "      <td>Hochun Cerdeira Crema</td>\n",
       "    </tr>\n",
       "    <tr>\n",
       "      <th>4</th>\n",
       "      <td>250000</td>\n",
       "      <td>files/000250000_in.jpg</td>\n",
       "      <td>files/000250000_gt_ocr.txt</td>\n",
       "      <td>files/000250000_gt_segmentation.jpg</td>\n",
       "      <td>files/000250000_info.json</td>\n",
       "      <td>NaN</td>\n",
       "      <td>48.753.318-5</td>\n",
       "      <td>20/07/1978</td>\n",
       "      <td>Scrignoli Petenusci Rombach</td>\n",
       "    </tr>\n",
       "    <tr>\n",
       "      <th>...</th>\n",
       "      <td>...</td>\n",
       "      <td>...</td>\n",
       "      <td>...</td>\n",
       "      <td>...</td>\n",
       "      <td>...</td>\n",
       "      <td>...</td>\n",
       "      <td>...</td>\n",
       "      <td>...</td>\n",
       "      <td>...</td>\n",
       "    </tr>\n",
       "    <tr>\n",
       "      <th>1880</th>\n",
       "      <td>27853</td>\n",
       "      <td>files/00027853_in.jpg</td>\n",
       "      <td>files/00027853_gt_ocr.txt</td>\n",
       "      <td>files/00027853_gt_segmentation.jpg</td>\n",
       "      <td>files/00027853_info.json</td>\n",
       "      <td>332.531.534-87</td>\n",
       "      <td>44.686.825-5</td>\n",
       "      <td>04/09/1972</td>\n",
       "      <td>Shiguti Welsh Pedao</td>\n",
       "    </tr>\n",
       "    <tr>\n",
       "      <th>1881</th>\n",
       "      <td>27854</td>\n",
       "      <td>files/00027854_in.jpg</td>\n",
       "      <td>files/00027854_gt_ocr.txt</td>\n",
       "      <td>files/00027854_gt_segmentation.jpg</td>\n",
       "      <td>files/00027854_info.json</td>\n",
       "      <td>001.127.634-72</td>\n",
       "      <td>31.140.515-0</td>\n",
       "      <td>14/06/2007</td>\n",
       "      <td>Franci Bergamo Tao</td>\n",
       "    </tr>\n",
       "    <tr>\n",
       "      <th>1882</th>\n",
       "      <td>27855</td>\n",
       "      <td>files/00027855_in.jpg</td>\n",
       "      <td>files/00027855_gt_ocr.txt</td>\n",
       "      <td>files/00027855_gt_segmentation.jpg</td>\n",
       "      <td>files/00027855_info.json</td>\n",
       "      <td>424.882.456-66</td>\n",
       "      <td>09.346.392-3</td>\n",
       "      <td>13/02/1998</td>\n",
       "      <td>Goularte Pantaroto Loscalzo</td>\n",
       "    </tr>\n",
       "    <tr>\n",
       "      <th>1883</th>\n",
       "      <td>27856</td>\n",
       "      <td>files/00027856_in.jpg</td>\n",
       "      <td>files/00027856_gt_ocr.txt</td>\n",
       "      <td>files/00027856_gt_segmentation.jpg</td>\n",
       "      <td>files/00027856_info.json</td>\n",
       "      <td>427.210.606-60</td>\n",
       "      <td>56.101.779-7</td>\n",
       "      <td>15/12/1984</td>\n",
       "      <td>Liara Diago Riga</td>\n",
       "    </tr>\n",
       "    <tr>\n",
       "      <th>1884</th>\n",
       "      <td>27857</td>\n",
       "      <td>files/00027857_in.jpg</td>\n",
       "      <td>files/00027857_gt_ocr.txt</td>\n",
       "      <td>files/00027857_gt_segmentation.jpg</td>\n",
       "      <td>files/00027857_info.json</td>\n",
       "      <td>427.938.677-30</td>\n",
       "      <td>64.697.408-7</td>\n",
       "      <td>17/10/1956</td>\n",
       "      <td>Marcuns Wlademir Altemani</td>\n",
       "    </tr>\n",
       "  </tbody>\n",
       "</table>\n",
       "<p>1885 rows × 9 columns</p>\n",
       "</div>"
      ],
      "text/plain": [
       "          id              image_path                    ocr_path  \\\n",
       "0     111111  files/000111111_in.jpg  files/000111111_gt_ocr.txt   \n",
       "1     230000  files/000230000_in.jpg  files/000230000_gt_ocr.txt   \n",
       "2     233025  files/000233025_in.jpg  files/000233025_gt_ocr.txt   \n",
       "3     233331  files/000233331_in.jpg  files/000233331_gt_ocr.txt   \n",
       "4     250000  files/000250000_in.jpg  files/000250000_gt_ocr.txt   \n",
       "...      ...                     ...                         ...   \n",
       "1880   27853   files/00027853_in.jpg   files/00027853_gt_ocr.txt   \n",
       "1881   27854   files/00027854_in.jpg   files/00027854_gt_ocr.txt   \n",
       "1882   27855   files/00027855_in.jpg   files/00027855_gt_ocr.txt   \n",
       "1883   27856   files/00027856_in.jpg   files/00027856_gt_ocr.txt   \n",
       "1884   27857   files/00027857_in.jpg   files/00027857_gt_ocr.txt   \n",
       "\n",
       "                        segmentation_path                  info_path  \\\n",
       "0     files/000111111_gt_segmentation.jpg  files/000111111_info.json   \n",
       "1     files/000230000_gt_segmentation.jpg  files/000230000_info.json   \n",
       "2     files/000233025_gt_segmentation.jpg  files/000233025_info.json   \n",
       "3     files/000233331_gt_segmentation.jpg  files/000233331_info.json   \n",
       "4     files/000250000_gt_segmentation.jpg  files/000250000_info.json   \n",
       "...                                   ...                        ...   \n",
       "1880   files/00027853_gt_segmentation.jpg   files/00027853_info.json   \n",
       "1881   files/00027854_gt_segmentation.jpg   files/00027854_info.json   \n",
       "1882   files/00027855_gt_segmentation.jpg   files/00027855_info.json   \n",
       "1883   files/00027856_gt_segmentation.jpg   files/00027856_info.json   \n",
       "1884   files/00027857_gt_segmentation.jpg   files/00027857_info.json   \n",
       "\n",
       "                 cpf            rg   birthdate                         name  \n",
       "0     354.205.532-87  08.096.661-5  02/01/1963    Rebelo Ronei Nakamurakare  \n",
       "1     188.354.397-52  29.227.222-4  05/05/1984       Kohatsu Liberatti Ivan  \n",
       "2     370.678.495-51  73.377.624-3  16/02/1976        Chicaro Okubaro Salvo  \n",
       "3     624.476.345-95  84.941.430-1  20/11/2008        Hochun Cerdeira Crema  \n",
       "4                NaN  48.753.318-5  20/07/1978  Scrignoli Petenusci Rombach  \n",
       "...              ...           ...         ...                          ...  \n",
       "1880  332.531.534-87  44.686.825-5  04/09/1972          Shiguti Welsh Pedao  \n",
       "1881  001.127.634-72  31.140.515-0  14/06/2007           Franci Bergamo Tao  \n",
       "1882  424.882.456-66  09.346.392-3  13/02/1998  Goularte Pantaroto Loscalzo  \n",
       "1883  427.210.606-60  56.101.779-7  15/12/1984             Liara Diago Riga  \n",
       "1884  427.938.677-30  64.697.408-7  17/10/1956    Marcuns Wlademir Altemani  \n",
       "\n",
       "[1885 rows x 9 columns]"
      ]
     },
     "execution_count": 3,
     "metadata": {},
     "output_type": "execute_result"
    }
   ],
   "source": [
    "dataset = pd.read_csv(DATASET_CSV_PATH, sep=';')\n",
    "dataset"
   ]
  },
  {
   "cell_type": "code",
   "execution_count": 4,
   "metadata": {},
   "outputs": [
    {
     "name": "stdout",
     "output_type": "stream",
     "text": [
      "Existem 1885 documentos no dataset\n"
     ]
    }
   ],
   "source": [
    "docs_count = dataset.shape[0]\n",
    "print(f'Existem {docs_count} documentos no dataset')"
   ]
  },
  {
   "cell_type": "code",
   "execution_count": 5,
   "metadata": {},
   "outputs": [
    {
     "data": {
      "text/plain": [
       "id                     0\n",
       "image_path             0\n",
       "ocr_path               0\n",
       "segmentation_path      0\n",
       "info_path              0\n",
       "cpf                  287\n",
       "rg                     0\n",
       "birthdate              0\n",
       "name                   2\n",
       "dtype: int64"
      ]
     },
     "execution_count": 5,
     "metadata": {},
     "output_type": "execute_result"
    }
   ],
   "source": [
    "dataset.isna().sum()"
   ]
  },
  {
   "cell_type": "code",
   "execution_count": 6,
   "metadata": {},
   "outputs": [
    {
     "name": "stdout",
     "output_type": "stream",
     "text": [
      "Existem 289 documentos com dados nulos\n"
     ]
    }
   ],
   "source": [
    "nan_docs_count = dataset.isna().sum().sum()\n",
    "print(f'Existem {nan_docs_count} documentos com dados nulos')"
   ]
  },
  {
   "cell_type": "code",
   "execution_count": 7,
   "metadata": {},
   "outputs": [
    {
     "name": "stdout",
     "output_type": "stream",
     "text": [
      "Logo, temos 1596 documentos sem nenhum dado nulo\n"
     ]
    }
   ],
   "source": [
    "not_nan_docs_count = docs_count - nan_docs_count\n",
    "print(f'Logo, temos {not_nan_docs_count} documentos sem nenhum dado nulo')"
   ]
  },
  {
   "cell_type": "markdown",
   "metadata": {},
   "source": [
    "## Código para vizualizar informações do dataset"
   ]
  },
  {
   "cell_type": "code",
   "execution_count": 8,
   "metadata": {},
   "outputs": [],
   "source": [
    "img_widget = widgets.Image(\n",
    "    format='jpg',\n",
    "    width=600,\n",
    "    height=400\n",
    ")\n",
    "\n",
    "rotate_img_btn = widgets.Button(\n",
    "    description='Rotacionar',\n",
    "    icon='undo'\n",
    ")"
   ]
  },
  {
   "cell_type": "code",
   "execution_count": 11,
   "metadata": {},
   "outputs": [],
   "source": [
    "DOC_NUMBER = 1884\n",
    "current_doc = dataset.iloc[DOC_NUMBER]\n",
    "\n",
    "img = cv2.imread(f'{DATASET_FOLDER_PATH}/{current_doc[\"image_path\"]}')\n",
    "if img.shape[0] > img.shape[1]:\n",
    "    img = cv2.rotate(img, cv2.ROTATE_90_COUNTERCLOCKWISE)\n",
    "img_widget.value = cv2.imencode('.jpg', img)[1].tobytes()\n",
    "\n",
    "with open(f'{DATASET_FOLDER_PATH}/{current_doc[\"ocr_path\"]}') as ocr_file:\n",
    "    ocr_info = ocr_file.read()\n",
    "\n",
    "with open(f'{DATASET_FOLDER_PATH}/{current_doc[\"info_path\"]}') as info_file:\n",
    "    info_json = json.load(info_file)\n",
    "\n",
    "def rotate_img():\n",
    "    global img\n",
    "    img = cv2.rotate(img, cv2.ROTATE_180)\n",
    "    img_widget.value = cv2.imencode('.jpg', img)[1].tobytes()\n",
    "\n",
    "rotate_img_btn.on_click(lambda _: rotate_img())"
   ]
  },
  {
   "cell_type": "code",
   "execution_count": 12,
   "metadata": {},
   "outputs": [
    {
     "data": {
      "text/plain": [
       "id                                                27857\n",
       "image_path                        files/00027857_in.jpg\n",
       "ocr_path                      files/00027857_gt_ocr.txt\n",
       "segmentation_path    files/00027857_gt_segmentation.jpg\n",
       "info_path                      files/00027857_info.json\n",
       "cpf                                      427.938.677-30\n",
       "rg                                         64.697.408-7\n",
       "birthdate                                    17/10/1956\n",
       "name                          Marcuns Wlademir Altemani\n",
       "Name: 1884, dtype: object"
      ]
     },
     "metadata": {},
     "output_type": "display_data"
    },
    {
     "data": {
      "application/vnd.jupyter.widget-view+json": {
       "model_id": "0455531926dc4568ae167b4693e3992e",
       "version_major": 2,
       "version_minor": 0
      },
      "text/plain": [
       "HBox(children=(Image(value=b'\\xff\\xd8\\xff\\xe0\\x00\\x10JFIF\\x00\\x01\\x01\\x00\\x00\\x01\\x00\\x01\\x00\\x00\\xff\\xdb\\x00C…"
      ]
     },
     "metadata": {},
     "output_type": "display_data"
    },
    {
     "name": "stdout",
     "output_type": "stream",
     "text": [
      "left;top;width;height;transcription\n",
      "[178, 460, 460, 176];[53, 56, 71, 68];-1;-1;VÁLIDA EM TODO O TERRITÓRIO NACIONAL\n",
      "115;85;92;17;64.697.408-7\n",
      "[62, 112, 113, 61];[86, 85, 96, 95];-1;-1;REGISTRO\n",
      "[62, 96, 96, 61];[106, 107, 97, 97];-1;-1;GERAL\n",
      "[61, 94, 92, 61];[127, 128, 120, 118];-1;-1;NOME\n",
      "54;130;264;17;MARCUNS WLADEMIR ALTEMANI\n",
      "[60, 110, 108, 61];[178, 180, 168, 168];-1;-1;FILIAÇÃO\n",
      "54;186;222;11;CAZOLLATO GENARIO UMEKI\n",
      "55;211;227;11;PANEQUE MASAKAZU RINGER\n",
      "[62, 144, 143, 61];[243, 244, 254, 252];-1;-1;NATURALIDADE\n",
      "56;258;89;12;BONITO-MS\n",
      "131;279;206;12;C.NAS=477 LV=485 FL=446\n",
      "[61, 131, 131, 61];[293, 295, 306, 304];-1;-1;DOC ORIGEM\n",
      "55;307;114;11;JAGUARIÚNA-SP\n",
      "85;336;88;9;427.938.677-30\n",
      "[61, 82, 81, 60];[345, 346, 356, 356];-1;-1;CPF\n",
      "53;382;44;12;NH 36\n",
      "195;375;126;9;SACCHI DORO GADIA\n",
      "[244, 377, 377, 244];[398, 399, 390, 388];-1;-1;ASSINATURA DO DIRETOR\n",
      "[242, 388, 388, 242];[420, 422, 409, 408];-1;-1;LEI Nº7 116 DE 29/08/83\n",
      "477;386;36;11;4 VIA\n",
      "421;260;69;11;17/10/1956\n",
      "[442, 563, 562, 442];[246, 247, 257, 256];-1;-1;DATA DE NASCIMENTO\n",
      "420;87;77;12;10/01/1966\n",
      "[360, 401, 402, 360];[87, 88, 97, 98];-1;-1;DATA DE\n",
      "[360, 420, 418, 359];[110, 108, 99, 99];-1;-1;EXPEDIÇÃO\n",
      "\n",
      "{'cpf': '427.938.677-30', 'rg': '64.697.408-7', 'name': 'Marcuns Wlademir Altemani', 'birthdate': '17/10/1956'}\n"
     ]
    }
   ],
   "source": [
    "display(current_doc)\n",
    "\n",
    "display(widgets.HBox([\n",
    "    img_widget, \n",
    "    widgets.VBox([\n",
    "        rotate_img_btn\n",
    "    ])\n",
    "], layout=widgets.Layout(align_items='center')))\n",
    "\n",
    "print(ocr_info)\n",
    "print(info_json)"
   ]
  }
 ],
 "metadata": {
  "kernelspec": {
   "display_name": "PI",
   "language": "python",
   "name": "python3"
  },
  "language_info": {
   "codemirror_mode": {
    "name": "ipython",
    "version": 3
   },
   "file_extension": ".py",
   "mimetype": "text/x-python",
   "name": "python",
   "nbconvert_exporter": "python",
   "pygments_lexer": "ipython3",
   "version": "3.8.16"
  },
  "orig_nbformat": 4
 },
 "nbformat": 4,
 "nbformat_minor": 2
}
