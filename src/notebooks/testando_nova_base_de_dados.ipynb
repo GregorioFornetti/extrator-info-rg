{
 "cells": [
  {
   "cell_type": "markdown",
   "metadata": {},
   "source": [
    "# Verificando se a \"nova\" base de dados está ok"
   ]
  },
  {
   "cell_type": "markdown",
   "metadata": {},
   "source": [
    "O notebook disponível em `src/tratando_base_dados.ipynb` modifica a base de dados original BID, adicionando um novo arquivo para cada imagem, que é um arquivo JSON contendo informações relevantes do documento, como nome, data de nascimento, RG e CPF.\n",
    "\n",
    "Além disso, também é criado um arquivo `.csv` com cada linha contendo informações sobre cada documento, como os arquivos correspondentes a eles, os seus dados importantes e o seu ID."
   ]
  },
  {
   "cell_type": "markdown",
   "metadata": {},
   "source": [
    "## Importações"
   ]
  },
  {
   "cell_type": "code",
   "execution_count": 1,
   "metadata": {},
   "outputs": [],
   "source": [
    "import os\n",
    "import json\n",
    "\n",
    "import pandas as pd\n",
    "import cv2\n",
    "import ipywidgets as widgets"
   ]
  },
  {
   "cell_type": "markdown",
   "metadata": {},
   "source": [
    "## Constantes"
   ]
  },
  {
   "cell_type": "code",
   "execution_count": 2,
   "metadata": {},
   "outputs": [],
   "source": [
    "DATASET_FOLDER_PATH = '../../RG-Dataset'\n",
    "DATASET_CSV_PATH = f'{DATASET_FOLDER_PATH}/dataset.csv'"
   ]
  },
  {
   "cell_type": "markdown",
   "metadata": {},
   "source": [
    "## Lendo o arquivo \"dataset.csv\""
   ]
  },
  {
   "cell_type": "code",
   "execution_count": 3,
   "metadata": {},
   "outputs": [
    {
     "data": {
      "text/html": [
       "<div>\n",
       "<style scoped>\n",
       "    .dataframe tbody tr th:only-of-type {\n",
       "        vertical-align: middle;\n",
       "    }\n",
       "\n",
       "    .dataframe tbody tr th {\n",
       "        vertical-align: top;\n",
       "    }\n",
       "\n",
       "    .dataframe thead th {\n",
       "        text-align: right;\n",
       "    }\n",
       "</style>\n",
       "<table border=\"1\" class=\"dataframe\">\n",
       "  <thead>\n",
       "    <tr style=\"text-align: right;\">\n",
       "      <th></th>\n",
       "      <th>id</th>\n",
       "      <th>image_path</th>\n",
       "      <th>ocr_path</th>\n",
       "      <th>segmentation_path</th>\n",
       "      <th>info_path</th>\n",
       "      <th>cpf</th>\n",
       "      <th>rg</th>\n",
       "      <th>birthdate</th>\n",
       "      <th>name</th>\n",
       "    </tr>\n",
       "  </thead>\n",
       "  <tbody>\n",
       "    <tr>\n",
       "      <th>0</th>\n",
       "      <td>111111</td>\n",
       "      <td>files/000111111_in.jpg</td>\n",
       "      <td>files/000111111_gt_ocr.txt</td>\n",
       "      <td>files/000111111_gt_segmentation.jpg</td>\n",
       "      <td>files/000111111_info.json</td>\n",
       "      <td>354.205.532-87</td>\n",
       "      <td>08.096.661-5</td>\n",
       "      <td>02/01/1963</td>\n",
       "      <td>Rebelo Ronei Nakamurakare</td>\n",
       "    </tr>\n",
       "    <tr>\n",
       "      <th>1</th>\n",
       "      <td>230000</td>\n",
       "      <td>files/000230000_in.jpg</td>\n",
       "      <td>files/000230000_gt_ocr.txt</td>\n",
       "      <td>files/000230000_gt_segmentation.jpg</td>\n",
       "      <td>files/000230000_info.json</td>\n",
       "      <td>188.354.397-52</td>\n",
       "      <td>29.227.222-4</td>\n",
       "      <td>05/05/1984</td>\n",
       "      <td>Kohatsu Liberatti Ivan</td>\n",
       "    </tr>\n",
       "    <tr>\n",
       "      <th>2</th>\n",
       "      <td>233025</td>\n",
       "      <td>files/000233025_in.jpg</td>\n",
       "      <td>files/000233025_gt_ocr.txt</td>\n",
       "      <td>files/000233025_gt_segmentation.jpg</td>\n",
       "      <td>files/000233025_info.json</td>\n",
       "      <td>370.678.495-51</td>\n",
       "      <td>73.377.624-3</td>\n",
       "      <td>16/02/1976</td>\n",
       "      <td>Chicaro Okubaro Salvo</td>\n",
       "    </tr>\n",
       "    <tr>\n",
       "      <th>3</th>\n",
       "      <td>233331</td>\n",
       "      <td>files/000233331_in.jpg</td>\n",
       "      <td>files/000233331_gt_ocr.txt</td>\n",
       "      <td>files/000233331_gt_segmentation.jpg</td>\n",
       "      <td>files/000233331_info.json</td>\n",
       "      <td>624.476.345-95</td>\n",
       "      <td>84.941.430-1</td>\n",
       "      <td>20/11/2008</td>\n",
       "      <td>Hochun Cerdeira Crema</td>\n",
       "    </tr>\n",
       "    <tr>\n",
       "      <th>4</th>\n",
       "      <td>250000</td>\n",
       "      <td>files/000250000_in.jpg</td>\n",
       "      <td>files/000250000_gt_ocr.txt</td>\n",
       "      <td>files/000250000_gt_segmentation.jpg</td>\n",
       "      <td>files/000250000_info.json</td>\n",
       "      <td>NaN</td>\n",
       "      <td>48.753.318-5</td>\n",
       "      <td>20/07/1978</td>\n",
       "      <td>Scrignoli Petenusci Rombach</td>\n",
       "    </tr>\n",
       "    <tr>\n",
       "      <th>...</th>\n",
       "      <td>...</td>\n",
       "      <td>...</td>\n",
       "      <td>...</td>\n",
       "      <td>...</td>\n",
       "      <td>...</td>\n",
       "      <td>...</td>\n",
       "      <td>...</td>\n",
       "      <td>...</td>\n",
       "      <td>...</td>\n",
       "    </tr>\n",
       "    <tr>\n",
       "      <th>2695</th>\n",
       "      <td>28684</td>\n",
       "      <td>files/00028684_in.jpg</td>\n",
       "      <td>files/00028684_gt_ocr.txt</td>\n",
       "      <td>files/00028684_gt_segmentation.jpg</td>\n",
       "      <td>files/00028684_info.json</td>\n",
       "      <td>001.127.634-72</td>\n",
       "      <td>31.140.515-0</td>\n",
       "      <td>14/06/2007</td>\n",
       "      <td>Franci Bergamo Tao</td>\n",
       "    </tr>\n",
       "    <tr>\n",
       "      <th>2696</th>\n",
       "      <td>28685</td>\n",
       "      <td>files/00028685_in.jpg</td>\n",
       "      <td>files/00028685_gt_ocr.txt</td>\n",
       "      <td>files/00028685_gt_segmentation.jpg</td>\n",
       "      <td>files/00028685_info.json</td>\n",
       "      <td>240.081.530-55</td>\n",
       "      <td>68.733.923-6</td>\n",
       "      <td>14/11/1994</td>\n",
       "      <td>Chilo Vesper Hernan</td>\n",
       "    </tr>\n",
       "    <tr>\n",
       "      <th>2697</th>\n",
       "      <td>28687</td>\n",
       "      <td>files/00028687_in.jpg</td>\n",
       "      <td>files/00028687_gt_ocr.txt</td>\n",
       "      <td>files/00028687_gt_segmentation.jpg</td>\n",
       "      <td>files/00028687_info.json</td>\n",
       "      <td>533.942.588-62</td>\n",
       "      <td>33.916.203-6</td>\n",
       "      <td>11/03/2005</td>\n",
       "      <td>Aysa Bomgiovani Toretti</td>\n",
       "    </tr>\n",
       "    <tr>\n",
       "      <th>2698</th>\n",
       "      <td>28688</td>\n",
       "      <td>files/00028688_in.jpg</td>\n",
       "      <td>files/00028688_gt_ocr.txt</td>\n",
       "      <td>files/00028688_gt_segmentation.jpg</td>\n",
       "      <td>files/00028688_info.json</td>\n",
       "      <td>877.703.295-07</td>\n",
       "      <td>33.468.765-2</td>\n",
       "      <td>14/05/1991</td>\n",
       "      <td>Meng Ando Bannach</td>\n",
       "    </tr>\n",
       "    <tr>\n",
       "      <th>2699</th>\n",
       "      <td>28689</td>\n",
       "      <td>files/00028689_in.jpg</td>\n",
       "      <td>files/00028689_gt_ocr.txt</td>\n",
       "      <td>files/00028689_gt_segmentation.jpg</td>\n",
       "      <td>files/00028689_info.json</td>\n",
       "      <td>095.513.782-96</td>\n",
       "      <td>21.686.087-8</td>\n",
       "      <td>29/08/1985</td>\n",
       "      <td>Vioti Purcineli Zicari</td>\n",
       "    </tr>\n",
       "  </tbody>\n",
       "</table>\n",
       "<p>2700 rows × 9 columns</p>\n",
       "</div>"
      ],
      "text/plain": [
       "          id              image_path                    ocr_path  \\\n",
       "0     111111  files/000111111_in.jpg  files/000111111_gt_ocr.txt   \n",
       "1     230000  files/000230000_in.jpg  files/000230000_gt_ocr.txt   \n",
       "2     233025  files/000233025_in.jpg  files/000233025_gt_ocr.txt   \n",
       "3     233331  files/000233331_in.jpg  files/000233331_gt_ocr.txt   \n",
       "4     250000  files/000250000_in.jpg  files/000250000_gt_ocr.txt   \n",
       "...      ...                     ...                         ...   \n",
       "2695   28684   files/00028684_in.jpg   files/00028684_gt_ocr.txt   \n",
       "2696   28685   files/00028685_in.jpg   files/00028685_gt_ocr.txt   \n",
       "2697   28687   files/00028687_in.jpg   files/00028687_gt_ocr.txt   \n",
       "2698   28688   files/00028688_in.jpg   files/00028688_gt_ocr.txt   \n",
       "2699   28689   files/00028689_in.jpg   files/00028689_gt_ocr.txt   \n",
       "\n",
       "                        segmentation_path                  info_path  \\\n",
       "0     files/000111111_gt_segmentation.jpg  files/000111111_info.json   \n",
       "1     files/000230000_gt_segmentation.jpg  files/000230000_info.json   \n",
       "2     files/000233025_gt_segmentation.jpg  files/000233025_info.json   \n",
       "3     files/000233331_gt_segmentation.jpg  files/000233331_info.json   \n",
       "4     files/000250000_gt_segmentation.jpg  files/000250000_info.json   \n",
       "...                                   ...                        ...   \n",
       "2695   files/00028684_gt_segmentation.jpg   files/00028684_info.json   \n",
       "2696   files/00028685_gt_segmentation.jpg   files/00028685_info.json   \n",
       "2697   files/00028687_gt_segmentation.jpg   files/00028687_info.json   \n",
       "2698   files/00028688_gt_segmentation.jpg   files/00028688_info.json   \n",
       "2699   files/00028689_gt_segmentation.jpg   files/00028689_info.json   \n",
       "\n",
       "                 cpf            rg   birthdate                         name  \n",
       "0     354.205.532-87  08.096.661-5  02/01/1963    Rebelo Ronei Nakamurakare  \n",
       "1     188.354.397-52  29.227.222-4  05/05/1984       Kohatsu Liberatti Ivan  \n",
       "2     370.678.495-51  73.377.624-3  16/02/1976        Chicaro Okubaro Salvo  \n",
       "3     624.476.345-95  84.941.430-1  20/11/2008        Hochun Cerdeira Crema  \n",
       "4                NaN  48.753.318-5  20/07/1978  Scrignoli Petenusci Rombach  \n",
       "...              ...           ...         ...                          ...  \n",
       "2695  001.127.634-72  31.140.515-0  14/06/2007           Franci Bergamo Tao  \n",
       "2696  240.081.530-55  68.733.923-6  14/11/1994          Chilo Vesper Hernan  \n",
       "2697  533.942.588-62  33.916.203-6  11/03/2005      Aysa Bomgiovani Toretti  \n",
       "2698  877.703.295-07  33.468.765-2  14/05/1991            Meng Ando Bannach  \n",
       "2699  095.513.782-96  21.686.087-8  29/08/1985       Vioti Purcineli Zicari  \n",
       "\n",
       "[2700 rows x 9 columns]"
      ]
     },
     "execution_count": 3,
     "metadata": {},
     "output_type": "execute_result"
    }
   ],
   "source": [
    "dataset = pd.read_csv(DATASET_CSV_PATH, sep=';')\n",
    "dataset"
   ]
  },
  {
   "cell_type": "code",
   "execution_count": 4,
   "metadata": {},
   "outputs": [
    {
     "name": "stdout",
     "output_type": "stream",
     "text": [
      "Existem 2700 documentos no dataset\n"
     ]
    }
   ],
   "source": [
    "docs_count = dataset.shape[0]\n",
    "print(f'Existem {docs_count} documentos no dataset')"
   ]
  },
  {
   "cell_type": "code",
   "execution_count": 5,
   "metadata": {},
   "outputs": [
    {
     "data": {
      "text/plain": [
       "id                     0\n",
       "image_path             0\n",
       "ocr_path               0\n",
       "segmentation_path      0\n",
       "info_path              0\n",
       "cpf                  410\n",
       "rg                     0\n",
       "birthdate              0\n",
       "name                   2\n",
       "dtype: int64"
      ]
     },
     "execution_count": 5,
     "metadata": {},
     "output_type": "execute_result"
    }
   ],
   "source": [
    "dataset.isna().sum()"
   ]
  },
  {
   "cell_type": "code",
   "execution_count": 6,
   "metadata": {},
   "outputs": [
    {
     "name": "stdout",
     "output_type": "stream",
     "text": [
      "Existem 412 documentos com dados nulos\n"
     ]
    }
   ],
   "source": [
    "nan_docs_count = dataset.isna().sum().sum()\n",
    "print(f'Existem {nan_docs_count} documentos com dados nulos')"
   ]
  },
  {
   "cell_type": "code",
   "execution_count": 7,
   "metadata": {},
   "outputs": [
    {
     "name": "stdout",
     "output_type": "stream",
     "text": [
      "Logo, temos 2288 documentos sem nenhum dado nulo\n"
     ]
    }
   ],
   "source": [
    "not_nan_docs_count = docs_count - nan_docs_count\n",
    "print(f'Logo, temos {not_nan_docs_count} documentos sem nenhum dado nulo')"
   ]
  },
  {
   "cell_type": "markdown",
   "metadata": {},
   "source": [
    "## Código para vizualizar informações do dataset"
   ]
  },
  {
   "cell_type": "code",
   "execution_count": 8,
   "metadata": {},
   "outputs": [],
   "source": [
    "img_widget = widgets.Image(\n",
    "    format='jpg',\n",
    "    width=600,\n",
    "    height=400\n",
    ")\n",
    "\n",
    "rotate_img_btn = widgets.Button(\n",
    "    description='Rotacionar',\n",
    "    icon='undo'\n",
    ")"
   ]
  },
  {
   "cell_type": "code",
   "execution_count": 11,
   "metadata": {},
   "outputs": [],
   "source": [
    "DOC_NUMBER = 2699\n",
    "current_doc = dataset.iloc[DOC_NUMBER]\n",
    "\n",
    "img = cv2.imread(f'{DATASET_FOLDER_PATH}/{current_doc[\"image_path\"]}')\n",
    "if img.shape[0] > img.shape[1]:\n",
    "    img = cv2.rotate(img, cv2.ROTATE_90_COUNTERCLOCKWISE)\n",
    "img_widget.value = cv2.imencode('.jpg', img)[1].tobytes()\n",
    "\n",
    "with open(f'{DATASET_FOLDER_PATH}/{current_doc[\"ocr_path\"]}') as ocr_file:\n",
    "    ocr_info = ocr_file.read()\n",
    "\n",
    "with open(f'{DATASET_FOLDER_PATH}/{current_doc[\"info_path\"]}') as info_file:\n",
    "    info_json = json.load(info_file)\n",
    "\n",
    "def rotate_img():\n",
    "    global img\n",
    "    img = cv2.rotate(img, cv2.ROTATE_180)\n",
    "    img_widget.value = cv2.imencode('.jpg', img)[1].tobytes()\n",
    "\n",
    "rotate_img_btn.on_click(lambda _: rotate_img())"
   ]
  },
  {
   "cell_type": "code",
   "execution_count": 12,
   "metadata": {},
   "outputs": [
    {
     "data": {
      "text/plain": [
       "id                                                28689\n",
       "image_path                        files/00028689_in.jpg\n",
       "ocr_path                      files/00028689_gt_ocr.txt\n",
       "segmentation_path    files/00028689_gt_segmentation.jpg\n",
       "info_path                      files/00028689_info.json\n",
       "cpf                                      095.513.782-96\n",
       "rg                                         21.686.087-8\n",
       "birthdate                                    29/08/1985\n",
       "name                             Vioti Purcineli Zicari\n",
       "Name: 2699, dtype: object"
      ]
     },
     "metadata": {},
     "output_type": "display_data"
    },
    {
     "data": {
      "application/vnd.jupyter.widget-view+json": {
       "model_id": "cda2a362feeb433a9600bc8cd852e187",
       "version_major": 2,
       "version_minor": 0
      },
      "text/plain": [
       "HBox(children=(Image(value=b'\\xff\\xd8\\xff\\xe0\\x00\\x10JFIF\\x00\\x01\\x01\\x00\\x00\\x01\\x00\\x01\\x00\\x00\\xff\\xdb\\x00C…"
      ]
     },
     "metadata": {},
     "output_type": "display_data"
    },
    {
     "name": "stdout",
     "output_type": "stream",
     "text": [
      "left;top;width;height;transcription\n",
      "91;324;17;198;LEI Nº7 116 DE 29/08/83\n",
      "105;92;19;70;NH 84\n",
      "121;327;14;176;ASSINATURA DO DIRETOR\n",
      "139;261;14;313;VALLADES GALVANI BERNARDO\n",
      "172;133;18;164;095.513.782-96\n",
      "173;89;14;29;CPF\n",
      "205;95;19;214;ENTRE RIOS-BA\n",
      "240;88;15;94;DOC ORIGEM\n",
      "238;193;20;304;C.NAS=103 LV=259 FL=211\n",
      "273;92;18;184;VEREDINHA-MG\n",
      "307;88;14;112;NATURALIDADE\n",
      "343;92;16;277;LUSHIUEN ALENO STOLFI\n",
      "375;90;18;296;CURIEL NICIOLI SOMERA\n",
      "405;88;15;66;FILIAÇÃO\n",
      "442;91;15;248;VIOTI PURCINELI ZICARI\n",
      "471;88;13;48;NOME\n",
      "509;174;16;125;21.686.087-8\n",
      "517;90;12;70;REGISTRO\n",
      "501;90;14;48;GERAL\n",
      "498;480;17;81;EXPEDIÇÃO\n",
      "514;481;14;60;DATA DE\n",
      "504;578;19;131;26/06/1991\n",
      "270;573;17;114;29/08/1985\n",
      "304;588;14;155;DATA DE NASCIMENTO\n",
      "556;237;16;372;VÁLIDA EM TODO O TERRITÓRIO NACIONAL\n",
      "103;652;19;67;2 VIA\n",
      "\n",
      "{'cpf': '095.513.782-96', 'rg': '21.686.087-8', 'name': 'Vioti Purcineli Zicari', 'birthdate': '29/08/1985'}\n"
     ]
    }
   ],
   "source": [
    "display(current_doc)\n",
    "\n",
    "display(widgets.HBox([\n",
    "    img_widget, \n",
    "    widgets.VBox([\n",
    "        rotate_img_btn\n",
    "    ])\n",
    "], layout=widgets.Layout(align_items='center')))\n",
    "\n",
    "print(ocr_info)\n",
    "print(info_json)"
   ]
  }
 ],
 "metadata": {
  "kernelspec": {
   "display_name": "PI",
   "language": "python",
   "name": "python3"
  },
  "language_info": {
   "codemirror_mode": {
    "name": "ipython",
    "version": 3
   },
   "file_extension": ".py",
   "mimetype": "text/x-python",
   "name": "python",
   "nbconvert_exporter": "python",
   "pygments_lexer": "ipython3",
   "version": "3.8.16"
  },
  "orig_nbformat": 4
 },
 "nbformat": 4,
 "nbformat_minor": 2
}
