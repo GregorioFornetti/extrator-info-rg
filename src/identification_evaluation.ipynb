{
 "cells": [
  {
   "cell_type": "markdown",
   "metadata": {},
   "source": [
    "# Avaliando identificação de campos relevantes RG (OCR + algoritmo de identificação)"
   ]
  },
  {
   "cell_type": "markdown",
   "metadata": {},
   "source": [
    "## Constantes"
   ]
  },
  {
   "cell_type": "code",
   "execution_count": 1,
   "metadata": {},
   "outputs": [],
   "source": [
    "rg_folder = '../RG-Dataset'"
   ]
  },
  {
   "cell_type": "markdown",
   "metadata": {},
   "source": [
    "## Importações"
   ]
  },
  {
   "cell_type": "code",
   "execution_count": 2,
   "metadata": {},
   "outputs": [],
   "source": [
    "import cv2\n",
    "import pandas as pd\n",
    "from tqdm import tqdm\n",
    "import pytesseract\n",
    "import numpy as np\n",
    "\n",
    "from classes.Result import Result\n",
    "\n",
    "from image_preprocessing.filters import to_gray, decrease_noise\n",
    "from image_preprocessing.rotations import rotate_90_if_vertical_rectangle, rotate_180\n",
    "\n",
    "from result_selection.result_selection import select_result\n",
    "\n",
    "from relevant_info_identification.relevant_info_identification import get_document_info"
   ]
  },
  {
   "cell_type": "code",
   "execution_count": 3,
   "metadata": {},
   "outputs": [],
   "source": [
    "pytesseract.pytesseract.tesseract_cmd = r'C:/Program Files/Tesseract-OCR/tesseract.exe'"
   ]
  },
  {
   "cell_type": "markdown",
   "metadata": {},
   "source": [
    "## Código de avaliação"
   ]
  },
  {
   "cell_type": "code",
   "execution_count": 4,
   "metadata": {},
   "outputs": [
    {
     "name": "stderr",
     "output_type": "stream",
     "text": [
      "100%|██████████| 3505/3505 [1:26:46<00:00,  1.49s/it]  \n"
     ]
    },
    {
     "data": {
      "text/plain": [
       "{'cpf': {'total': 2965, 'corrects': 2336},\n",
       " 'name': {'total': 3505, 'corrects': 497},\n",
       " 'rg': {'total': 3505, 'corrects': 2338},\n",
       " 'birthdate': {'total': 3505, 'corrects': 1711},\n",
       " 'total_documents': {'total': 3505, 'corrects': 272}}"
      ]
     },
     "execution_count": 4,
     "metadata": {},
     "output_type": "execute_result"
    }
   ],
   "source": [
    "def execute_pipeline(img_path):\n",
    "    img = cv2.imread(img_path)\n",
    "    gray_img = to_gray(img)\n",
    "    filtered_img = decrease_noise(gray_img)\n",
    "    filtered_img = rotate_90_if_vertical_rectangle(filtered_img)\n",
    "\n",
    "    no_rotate_img = filtered_img\n",
    "    rotate_180_img = rotate_180(filtered_img)\n",
    "\n",
    "    no_rotate_info, _ = get_document_info(no_rotate_img)\n",
    "    rotate_180_info, _ = get_document_info(rotate_180_img)\n",
    "\n",
    "    no_rotate_result = Result(None, no_rotate_info, 0)\n",
    "    rotate_180_result = Result(None, rotate_180_info, 0)\n",
    "\n",
    "    return select_result([no_rotate_result, rotate_180_result]).relevant_infos_json\n",
    "\n",
    "dataset = pd.read_csv(f'{rg_folder}/dataset.csv', sep=';')\n",
    "documents_qnt = len(dataset)\n",
    "na_count = dataset.isna().sum()\n",
    "\n",
    "final_results = {\n",
    "    'cpf': {\n",
    "        'total': documents_qnt - na_count['cpf'],\n",
    "        'corrects': 0\n",
    "    },\n",
    "    'name': {\n",
    "        'total': documents_qnt - na_count['name'],\n",
    "        'corrects': 0\n",
    "    },\n",
    "    'rg': {\n",
    "        'total': documents_qnt - na_count['rg'],\n",
    "        'corrects': 0\n",
    "    },\n",
    "    'birthdate': {\n",
    "        'total': documents_qnt - na_count['birthdate'],\n",
    "        'corrects': 0\n",
    "    },\n",
    "    'total_documents': {\n",
    "        'total': documents_qnt,\n",
    "        'corrects': 0\n",
    "    }\n",
    "}\n",
    "\n",
    "for i, row in tqdm(dataset.iterrows(), total=len(dataset)):\n",
    "    info = execute_pipeline(f'{rg_folder}/{row[\"image_path\"]}')\n",
    "    max_corrects = 0\n",
    "    corrects = 0\n",
    "\n",
    "    if isinstance(row['cpf'], str):\n",
    "        max_corrects += 1\n",
    "        if 'cpf' in info.keys() and info['cpf'] == row['cpf']:\n",
    "            final_results['cpf']['corrects'] += 1\n",
    "            corrects += 1\n",
    "    \n",
    "    if isinstance(row['name'], str):\n",
    "        max_corrects += 1\n",
    "        if 'nome' in info.keys() and info['nome'] == row['name']:\n",
    "            final_results['name']['corrects'] += 1\n",
    "            corrects += 1\n",
    "    \n",
    "    if isinstance(row['rg'], str):\n",
    "        max_corrects += 1\n",
    "        if 'rg' in info.keys() and info['rg'] == row['rg']:\n",
    "            final_results['rg']['corrects'] += 1\n",
    "            corrects += 1\n",
    "    \n",
    "    if isinstance(row['birthdate'], str):\n",
    "        max_corrects += 1\n",
    "        if 'data de nascimento' in info.keys() and info['data de nascimento']['formated_date'] == row['birthdate']:\n",
    "            final_results['birthdate']['corrects'] += 1\n",
    "            corrects += 1\n",
    "\n",
    "    if max_corrects == corrects:\n",
    "        final_results['total_documents']['corrects'] += 1\n",
    "\n",
    "final_results\n"
   ]
  },
  {
   "cell_type": "code",
   "execution_count": 5,
   "metadata": {},
   "outputs": [
    {
     "data": {
      "text/html": [
       "<div>\n",
       "<style scoped>\n",
       "    .dataframe tbody tr th:only-of-type {\n",
       "        vertical-align: middle;\n",
       "    }\n",
       "\n",
       "    .dataframe tbody tr th {\n",
       "        vertical-align: top;\n",
       "    }\n",
       "\n",
       "    .dataframe thead th {\n",
       "        text-align: right;\n",
       "    }\n",
       "</style>\n",
       "<table border=\"1\" class=\"dataframe\">\n",
       "  <thead>\n",
       "    <tr style=\"text-align: right;\">\n",
       "      <th></th>\n",
       "      <th>cpf</th>\n",
       "      <th>rg</th>\n",
       "      <th>name</th>\n",
       "      <th>birthdate</th>\n",
       "      <th>total_documents</th>\n",
       "    </tr>\n",
       "  </thead>\n",
       "  <tbody>\n",
       "    <tr>\n",
       "      <th>0</th>\n",
       "      <td>0.787858</td>\n",
       "      <td>0.667047</td>\n",
       "      <td>0.141797</td>\n",
       "      <td>0.48816</td>\n",
       "      <td>0.077603</td>\n",
       "    </tr>\n",
       "  </tbody>\n",
       "</table>\n",
       "</div>"
      ],
      "text/plain": [
       "        cpf        rg      name  birthdate  total_documents\n",
       "0  0.787858  0.667047  0.141797    0.48816         0.077603"
      ]
     },
     "execution_count": 5,
     "metadata": {},
     "output_type": "execute_result"
    }
   ],
   "source": [
    "results_df = pd.DataFrame({\n",
    "    'cpf': [final_results['cpf']['corrects'] / final_results['cpf']['total']],\n",
    "    'rg': [final_results['rg']['corrects'] / final_results['rg']['total']],\n",
    "    'name': [final_results['name']['corrects'] / final_results['name']['total']],\n",
    "    'birthdate': [final_results['birthdate']['corrects'] / final_results['birthdate']['total']],\n",
    "    'total_documents': [final_results['total_documents']['corrects'] / final_results['total_documents']['total']],\n",
    "})\n",
    "results_df"
   ]
  },
  {
   "cell_type": "code",
   "execution_count": 6,
   "metadata": {},
   "outputs": [
    {
     "name": "stderr",
     "output_type": "stream",
     "text": [
      "C:\\Users\\gregf\\AppData\\Local\\Temp\\ipykernel_15004\\257089143.py:2: FutureWarning: In future versions `DataFrame.to_latex` is expected to utilise the base implementation of `Styler.to_latex` for formatting and rendering. The arguments signature may therefore change. It is recommended instead to use `DataFrame.style.to_latex` which also contains additional functionality.\n",
      "  result_file.write(results_df.to_latex())\n"
     ]
    }
   ],
   "source": [
    "with open('relevant_info_identification/results.tex', 'w') as result_file:\n",
    "    result_file.write(results_df.to_latex())"
   ]
  }
 ],
 "metadata": {
  "kernelspec": {
   "display_name": "PI",
   "language": "python",
   "name": "python3"
  },
  "language_info": {
   "codemirror_mode": {
    "name": "ipython",
    "version": 3
   },
   "file_extension": ".py",
   "mimetype": "text/x-python",
   "name": "python",
   "nbconvert_exporter": "python",
   "pygments_lexer": "ipython3",
   "version": "3.8.16"
  },
  "orig_nbformat": 4
 },
 "nbformat": 4,
 "nbformat_minor": 2
}
