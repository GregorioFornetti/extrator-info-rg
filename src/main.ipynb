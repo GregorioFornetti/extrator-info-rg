{
 "cells": [
  {
   "cell_type": "markdown",
   "metadata": {},
   "source": [
    "# Código principal"
   ]
  },
  {
   "cell_type": "markdown",
   "metadata": {},
   "source": [
    "Nesse código é implementado todo o pipeline proposto pelo projeto, como definido na imagem a seguir:\n",
    "\n",
    "![image](../diagramaPI.drawio.png)"
   ]
  },
  {
   "cell_type": "markdown",
   "metadata": {},
   "source": [
    "## Instalação das bibliotecas necessárias"
   ]
  },
  {
   "cell_type": "code",
   "execution_count": 1,
   "metadata": {},
   "outputs": [
    {
     "name": "stdout",
     "output_type": "stream",
     "text": [
      "Requirement already satisfied: numpy in c:\\users\\gregf\\anaconda3\\envs\\pi\\lib\\site-packages (1.23.4)\n",
      "Note: you may need to restart the kernel to use updated packages.\n",
      "Requirement already satisfied: pandas in c:\\users\\gregf\\anaconda3\\envs\\pi\\lib\\site-packages (1.5.3)\n",
      "Requirement already satisfied: python-dateutil>=2.8.1 in c:\\users\\gregf\\anaconda3\\envs\\pi\\lib\\site-packages (from pandas) (2.8.2)\n",
      "Requirement already satisfied: pytz>=2020.1 in c:\\users\\gregf\\anaconda3\\envs\\pi\\lib\\site-packages (from pandas) (2022.7)\n",
      "Requirement already satisfied: numpy>=1.20.3 in c:\\users\\gregf\\anaconda3\\envs\\pi\\lib\\site-packages (from pandas) (1.23.4)\n",
      "Requirement already satisfied: six>=1.5 in c:\\users\\gregf\\anaconda3\\envs\\pi\\lib\\site-packages (from python-dateutil>=2.8.1->pandas) (1.16.0)\n",
      "Note: you may need to restart the kernel to use updated packages.\n",
      "Requirement already satisfied: pytesseract in c:\\users\\gregf\\anaconda3\\envs\\pi\\lib\\site-packages (0.3.10)\n",
      "Requirement already satisfied: packaging>=21.3 in c:\\users\\gregf\\anaconda3\\envs\\pi\\lib\\site-packages (from pytesseract) (23.0)\n",
      "Requirement already satisfied: Pillow>=8.0.0 in c:\\users\\gregf\\anaconda3\\envs\\pi\\lib\\site-packages (from pytesseract) (9.4.0)\n",
      "Note: you may need to restart the kernel to use updated packages.\n",
      "Requirement already satisfied: opencv-python in c:\\users\\gregf\\anaconda3\\envs\\pi\\lib\\site-packages (4.7.0.72)\n",
      "Requirement already satisfied: numpy>=1.17.0 in c:\\users\\gregf\\anaconda3\\envs\\pi\\lib\\site-packages (from opencv-python) (1.23.4)\n",
      "Note: you may need to restart the kernel to use updated packages.\n",
      "Requirement already satisfied: matplotlib in c:\\users\\gregf\\anaconda3\\envs\\pi\\lib\\site-packages (3.7.1)\n",
      "Requirement already satisfied: contourpy>=1.0.1 in c:\\users\\gregf\\anaconda3\\envs\\pi\\lib\\site-packages (from matplotlib) (1.1.0)\n",
      "Requirement already satisfied: cycler>=0.10 in c:\\users\\gregf\\anaconda3\\envs\\pi\\lib\\site-packages (from matplotlib) (0.11.0)\n",
      "Requirement already satisfied: fonttools>=4.22.0 in c:\\users\\gregf\\anaconda3\\envs\\pi\\lib\\site-packages (from matplotlib) (4.40.0)\n",
      "Requirement already satisfied: kiwisolver>=1.0.1 in c:\\users\\gregf\\anaconda3\\envs\\pi\\lib\\site-packages (from matplotlib) (1.4.4)\n",
      "Requirement already satisfied: numpy>=1.20 in c:\\users\\gregf\\anaconda3\\envs\\pi\\lib\\site-packages (from matplotlib) (1.23.4)\n",
      "Requirement already satisfied: packaging>=20.0 in c:\\users\\gregf\\anaconda3\\envs\\pi\\lib\\site-packages (from matplotlib) (23.0)\n",
      "Requirement already satisfied: pillow>=6.2.0 in c:\\users\\gregf\\anaconda3\\envs\\pi\\lib\\site-packages (from matplotlib) (9.4.0)\n",
      "Requirement already satisfied: pyparsing>=2.3.1 in c:\\users\\gregf\\anaconda3\\envs\\pi\\lib\\site-packages (from matplotlib) (3.1.0)\n",
      "Requirement already satisfied: python-dateutil>=2.7 in c:\\users\\gregf\\anaconda3\\envs\\pi\\lib\\site-packages (from matplotlib) (2.8.2)\n",
      "Requirement already satisfied: importlib-resources>=3.2.0 in c:\\users\\gregf\\anaconda3\\envs\\pi\\lib\\site-packages (from matplotlib) (5.12.0)\n",
      "Requirement already satisfied: zipp>=3.1.0 in c:\\users\\gregf\\anaconda3\\envs\\pi\\lib\\site-packages (from importlib-resources>=3.2.0->matplotlib) (3.11.0)\n",
      "Requirement already satisfied: six>=1.5 in c:\\users\\gregf\\anaconda3\\envs\\pi\\lib\\site-packages (from python-dateutil>=2.7->matplotlib) (1.16.0)\n",
      "Note: you may need to restart the kernel to use updated packages.\n",
      "Requirement already satisfied: imutils in c:\\users\\gregf\\anaconda3\\envs\\pi\\lib\\site-packages (0.5.4)\n",
      "Note: you may need to restart the kernel to use updated packages.\n",
      "Requirement already satisfied: ipywidgets in c:\\users\\gregf\\anaconda3\\envs\\pi\\lib\\site-packages (8.0.6)\n",
      "Requirement already satisfied: ipykernel>=4.5.1 in c:\\users\\gregf\\anaconda3\\envs\\pi\\lib\\site-packages (from ipywidgets) (6.15.0)\n",
      "Requirement already satisfied: ipython>=6.1.0 in c:\\users\\gregf\\anaconda3\\envs\\pi\\lib\\site-packages (from ipywidgets) (8.12.0)\n",
      "Requirement already satisfied: traitlets>=4.3.1 in c:\\users\\gregf\\anaconda3\\envs\\pi\\lib\\site-packages (from ipywidgets) (5.7.1)\n",
      "Requirement already satisfied: widgetsnbextension~=4.0.7 in c:\\users\\gregf\\anaconda3\\envs\\pi\\lib\\site-packages (from ipywidgets) (4.0.7)\n",
      "Requirement already satisfied: jupyterlab-widgets~=3.0.7 in c:\\users\\gregf\\anaconda3\\envs\\pi\\lib\\site-packages (from ipywidgets) (3.0.7)\n",
      "Requirement already satisfied: debugpy>=1.0 in c:\\users\\gregf\\anaconda3\\envs\\pi\\lib\\site-packages (from ipykernel>=4.5.1->ipywidgets) (1.5.1)\n",
      "Requirement already satisfied: jupyter-client>=6.1.12 in c:\\users\\gregf\\anaconda3\\envs\\pi\\lib\\site-packages (from ipykernel>=4.5.1->ipywidgets) (7.4.9)\n",
      "Requirement already satisfied: matplotlib-inline>=0.1 in c:\\users\\gregf\\anaconda3\\envs\\pi\\lib\\site-packages (from ipykernel>=4.5.1->ipywidgets) (0.1.6)\n",
      "Requirement already satisfied: nest-asyncio in c:\\users\\gregf\\anaconda3\\envs\\pi\\lib\\site-packages (from ipykernel>=4.5.1->ipywidgets) (1.5.6)\n",
      "Requirement already satisfied: packaging in c:\\users\\gregf\\anaconda3\\envs\\pi\\lib\\site-packages (from ipykernel>=4.5.1->ipywidgets) (23.0)\n",
      "Requirement already satisfied: psutil in c:\\users\\gregf\\anaconda3\\envs\\pi\\lib\\site-packages (from ipykernel>=4.5.1->ipywidgets) (5.9.0)\n",
      "Requirement already satisfied: pyzmq>=17 in c:\\users\\gregf\\anaconda3\\envs\\pi\\lib\\site-packages (from ipykernel>=4.5.1->ipywidgets) (25.1.0)\n",
      "Requirement already satisfied: tornado>=6.1 in c:\\users\\gregf\\anaconda3\\envs\\pi\\lib\\site-packages (from ipykernel>=4.5.1->ipywidgets) (6.2)\n",
      "Requirement already satisfied: backcall in c:\\users\\gregf\\anaconda3\\envs\\pi\\lib\\site-packages (from ipython>=6.1.0->ipywidgets) (0.2.0)\n",
      "Requirement already satisfied: decorator in c:\\users\\gregf\\anaconda3\\envs\\pi\\lib\\site-packages (from ipython>=6.1.0->ipywidgets) (5.1.1)\n",
      "Requirement already satisfied: jedi>=0.16 in c:\\users\\gregf\\anaconda3\\envs\\pi\\lib\\site-packages (from ipython>=6.1.0->ipywidgets) (0.18.1)\n",
      "Requirement already satisfied: pickleshare in c:\\users\\gregf\\anaconda3\\envs\\pi\\lib\\site-packages (from ipython>=6.1.0->ipywidgets) (0.7.5)\n",
      "Requirement already satisfied: prompt-toolkit!=3.0.37,<3.1.0,>=3.0.30 in c:\\users\\gregf\\anaconda3\\envs\\pi\\lib\\site-packages (from ipython>=6.1.0->ipywidgets) (3.0.36)\n",
      "Requirement already satisfied: pygments>=2.4.0 in c:\\users\\gregf\\anaconda3\\envs\\pi\\lib\\site-packages (from ipython>=6.1.0->ipywidgets) (2.15.1)\n",
      "Requirement already satisfied: stack-data in c:\\users\\gregf\\anaconda3\\envs\\pi\\lib\\site-packages (from ipython>=6.1.0->ipywidgets) (0.2.0)\n",
      "Requirement already satisfied: typing-extensions in c:\\users\\gregf\\anaconda3\\envs\\pi\\lib\\site-packages (from ipython>=6.1.0->ipywidgets) (4.6.3)\n",
      "Requirement already satisfied: colorama in c:\\users\\gregf\\appdata\\roaming\\python\\python38\\site-packages (from ipython>=6.1.0->ipywidgets) (0.4.3)\n",
      "Requirement already satisfied: parso<0.9.0,>=0.8.0 in c:\\users\\gregf\\anaconda3\\envs\\pi\\lib\\site-packages (from jedi>=0.16->ipython>=6.1.0->ipywidgets) (0.8.3)\n",
      "Requirement already satisfied: entrypoints in c:\\users\\gregf\\anaconda3\\envs\\pi\\lib\\site-packages (from jupyter-client>=6.1.12->ipykernel>=4.5.1->ipywidgets) (0.4)\n",
      "Requirement already satisfied: jupyter-core>=4.9.2 in c:\\users\\gregf\\anaconda3\\envs\\pi\\lib\\site-packages (from jupyter-client>=6.1.12->ipykernel>=4.5.1->ipywidgets) (5.3.1)\n",
      "Requirement already satisfied: python-dateutil>=2.8.2 in c:\\users\\gregf\\anaconda3\\envs\\pi\\lib\\site-packages (from jupyter-client>=6.1.12->ipykernel>=4.5.1->ipywidgets) (2.8.2)\n",
      "Requirement already satisfied: wcwidth in c:\\users\\gregf\\anaconda3\\envs\\pi\\lib\\site-packages (from prompt-toolkit!=3.0.37,<3.1.0,>=3.0.30->ipython>=6.1.0->ipywidgets) (0.2.5)\n",
      "Requirement already satisfied: executing in c:\\users\\gregf\\anaconda3\\envs\\pi\\lib\\site-packages (from stack-data->ipython>=6.1.0->ipywidgets) (0.8.3)\n",
      "Requirement already satisfied: asttokens in c:\\users\\gregf\\anaconda3\\envs\\pi\\lib\\site-packages (from stack-data->ipython>=6.1.0->ipywidgets) (2.0.5)\n",
      "Requirement already satisfied: pure-eval in c:\\users\\gregf\\anaconda3\\envs\\pi\\lib\\site-packages (from stack-data->ipython>=6.1.0->ipywidgets) (0.2.2)\n",
      "Requirement already satisfied: platformdirs>=2.5 in c:\\users\\gregf\\anaconda3\\envs\\pi\\lib\\site-packages (from jupyter-core>=4.9.2->jupyter-client>=6.1.12->ipykernel>=4.5.1->ipywidgets) (2.5.2)\n",
      "Requirement already satisfied: pywin32>=300 in c:\\users\\gregf\\anaconda3\\envs\\pi\\lib\\site-packages (from jupyter-core>=4.9.2->jupyter-client>=6.1.12->ipykernel>=4.5.1->ipywidgets) (305.1)\n",
      "Requirement already satisfied: six>=1.5 in c:\\users\\gregf\\anaconda3\\envs\\pi\\lib\\site-packages (from python-dateutil>=2.8.2->jupyter-client>=6.1.12->ipykernel>=4.5.1->ipywidgets) (1.16.0)\n",
      "Note: you may need to restart the kernel to use updated packages.\n",
      "Requirement already satisfied: scikit-learn in c:\\users\\gregf\\anaconda3\\envs\\pi\\lib\\site-packages (1.3.0)\n",
      "Requirement already satisfied: numpy>=1.17.3 in c:\\users\\gregf\\anaconda3\\envs\\pi\\lib\\site-packages (from scikit-learn) (1.23.4)\n",
      "Requirement already satisfied: scipy>=1.5.0 in c:\\users\\gregf\\anaconda3\\envs\\pi\\lib\\site-packages (from scikit-learn) (1.10.1)\n",
      "Requirement already satisfied: joblib>=1.1.1 in c:\\users\\gregf\\anaconda3\\envs\\pi\\lib\\site-packages (from scikit-learn) (1.3.2)\n",
      "Requirement already satisfied: threadpoolctl>=2.0.0 in c:\\users\\gregf\\anaconda3\\envs\\pi\\lib\\site-packages (from scikit-learn) (3.2.0)\n",
      "Note: you may need to restart the kernel to use updated packages.\n",
      "Requirement already satisfied: joblib in c:\\users\\gregf\\anaconda3\\envs\\pi\\lib\\site-packages (1.3.2)\n",
      "Note: you may need to restart the kernel to use updated packages.\n",
      "Collecting tqdm\n",
      "  Downloading tqdm-4.66.1-py3-none-any.whl (78 kB)\n",
      "     -------------------------------------- 78.3/78.3 kB 482.4 kB/s eta 0:00:00\n",
      "Requirement already satisfied: colorama in c:\\users\\gregf\\appdata\\roaming\\python\\python38\\site-packages (from tqdm) (0.4.3)\n",
      "Installing collected packages: tqdm\n",
      "Successfully installed tqdm-4.66.1\n",
      "Note: you may need to restart the kernel to use updated packages.\n"
     ]
    }
   ],
   "source": [
    "%pip install numpy\n",
    "%pip install pandas\n",
    "%pip install pytesseract\n",
    "%pip install opencv-python\n",
    "%pip install matplotlib\n",
    "%pip install imutils\n",
    "%pip install ipywidgets\n",
    "%pip install scikit-learn\n",
    "%pip install joblib\n",
    "%pip install tqdm"
   ]
  },
  {
   "cell_type": "markdown",
   "metadata": {},
   "source": [
    "## Importações de bibliotecas externas"
   ]
  },
  {
   "cell_type": "code",
   "execution_count": null,
   "metadata": {},
   "outputs": [],
   "source": [
    "import pytesseract\n",
    "import ipywidgets as widgets\n",
    "import cv2\n",
    "import asyncio\n",
    "import json"
   ]
  },
  {
   "cell_type": "markdown",
   "metadata": {},
   "source": [
    "Para configurar o `pytesseract` é preciso instalar o seu executável. Se não tiver configurado ele nas variáveis de ambiente, modificar a variável do código abaixo para indicar o caminho até o executável do `tesseract`.\n",
    "\n",
    "A documentação do `pytesseract` pode ser [acessada aqui](https://pypi.org/project/pytesseract/)\n",
    "\n",
    "O `tesseract` pode ser instalado [por aqui](https://tesseract-ocr.github.io/tessdoc/Installation.html)"
   ]
  },
  {
   "cell_type": "code",
   "execution_count": null,
   "metadata": {},
   "outputs": [],
   "source": [
    "pytesseract.pytesseract.tesseract_cmd = r'C:/Program Files/Tesseract-OCR/tesseract.exe'"
   ]
  },
  {
   "cell_type": "markdown",
   "metadata": {},
   "source": [
    "## Importações internas"
   ]
  },
  {
   "cell_type": "code",
   "execution_count": null,
   "metadata": {},
   "outputs": [],
   "source": [
    "from classes.Result import Result\n",
    "\n",
    "from image_preprocessing.image_preprocessing import preprocess_image\n",
    "from image_preprocessing.document_digitalization import mark_document_found\n",
    "from image_preprocessing.rotations import rotate_180\n",
    "\n",
    "from relevant_info_identification.relevant_info_identification import get_document_info_and_mark_relevant_regions\n",
    "\n",
    "from image_classification.image_classification import get_rg_probability\n",
    "\n",
    "from result_selection.result_selection import select_result"
   ]
  },
  {
   "cell_type": "markdown",
   "metadata": {},
   "source": [
    "## Criando objetos da interface gráfica do projeto"
   ]
  },
  {
   "cell_type": "code",
   "execution_count": null,
   "metadata": {},
   "outputs": [],
   "source": [
    "original_image_widget = widgets.Image(\n",
    "    format='jpg',\n",
    "    width=600,\n",
    "    height=400\n",
    ")\n",
    "\n",
    "\n",
    "process_btn = widgets.Button(\n",
    "    description='Processar',\n",
    "    button_style='success',\n",
    "    icon='check'\n",
    ")\n",
    "\n",
    "stop_btn = widgets.Button(\n",
    "    description='Parar',\n",
    "    button_style='danger',\n",
    "    icon='times'\n",
    ")\n",
    "\n",
    "\n",
    "marked_image_widget = widgets.Image(\n",
    "    format='jpg',\n",
    "    width=600,\n",
    "    height=400\n",
    ")\n",
    "\n",
    "infos_json_widget = widgets.Text(\n",
    "    disabled=True\n",
    ")\n",
    "\n",
    "prob_widget = widgets.Text(\n",
    "    disabled=True\n",
    ")\n",
    "\n",
    "pass"
   ]
  },
  {
   "cell_type": "markdown",
   "metadata": {},
   "source": [
    "## Definindo função do pipeline completo"
   ]
  },
  {
   "cell_type": "code",
   "execution_count": null,
   "metadata": {},
   "outputs": [],
   "source": [
    "original_image = None\n",
    "\n",
    "def execute_pipeline():\n",
    "    if original_image is not None:\n",
    "        # Pré-processamento\n",
    "        preprocessed_image = preprocess_image(original_image)\n",
    "        no_rotate_preprocessed_image = preprocessed_image\n",
    "        rotate_180_preprocessed_image = rotate_180(preprocessed_image)\n",
    "\n",
    "        # OCR + Algoritmo de identificação\n",
    "        no_rotate_relevant_info, no_rotate_marked_img = get_document_info_and_mark_relevant_regions(no_rotate_preprocessed_image)\n",
    "        rotate_180_relevant_info, rotate_180_marked_img = get_document_info_and_mark_relevant_regions(rotate_180_preprocessed_image)\n",
    "\n",
    "        # Classificador\n",
    "        no_rotate_rg_prob = get_rg_probability(no_rotate_preprocessed_image)\n",
    "        rotate_180_rg_prob = get_rg_probability(rotate_180_preprocessed_image)\n",
    "\n",
    "        # Seleção de resultados\n",
    "        no_rotate_result = Result(no_rotate_marked_img, no_rotate_relevant_info, no_rotate_rg_prob)\n",
    "        rotate_180_result = Result(rotate_180_marked_img, rotate_180_relevant_info, rotate_180_rg_prob)\n",
    "        selected_result = select_result([no_rotate_result, rotate_180_result])\n",
    "        \n",
    "        # Mostrando na interface\n",
    "        marked_image_widget.value = cv2.imencode('.jpg', selected_result.marked_img)[1].tobytes()\n",
    "        infos_json_widget.value = json.dumps(selected_result.relevant_infos_json)\n",
    "        prob_widget.value = str(selected_result.rg_probability)\n",
    "\n",
    "\n",
    "delay_in_seconds = 0.1\n",
    "camera = cv2.VideoCapture(0)\n",
    "async def read_image_real_time():\n",
    "    global original_image\n",
    "    while True:\n",
    "        ret, original_image = camera.read()\n",
    "        frame_copy = original_image.copy()\n",
    "        marked_image = mark_document_found(frame_copy)\n",
    "        original_image_widget.value = cv2.imencode('.jpg', marked_image)[1].tobytes()\n",
    "        await asyncio.sleep(delay_in_seconds)\n",
    "\n",
    "loop = asyncio.get_event_loop()\n",
    "task = loop.create_task(read_image_real_time())\n",
    "\n",
    "def on_stop_btn_click():\n",
    "    task.cancel()\n",
    "    camera.release()\n",
    "\n",
    "stop_btn.on_click(lambda _: on_stop_btn_click())\n"
   ]
  },
  {
   "cell_type": "markdown",
   "metadata": {},
   "source": [
    "## Adicionando eventos e criando loop de captura de tela"
   ]
  },
  {
   "cell_type": "code",
   "execution_count": null,
   "metadata": {},
   "outputs": [],
   "source": [
    "delay_in_seconds = 0.1\n",
    "camera = cv2.VideoCapture(0)\n",
    "async def read_image_real_time():\n",
    "    global original_image\n",
    "    while True:\n",
    "        ret, original_image = camera.read()\n",
    "        frame_copy = original_image.copy()\n",
    "        marked_image = mark_document_found(frame_copy)\n",
    "        original_image_widget.value = cv2.imencode('.jpg', marked_image)[1].tobytes()\n",
    "        await asyncio.sleep(delay_in_seconds)\n",
    "\n",
    "loop = asyncio.get_event_loop()\n",
    "task = loop.create_task(read_image_real_time())\n",
    "\n",
    "def on_stop_btn_click():\n",
    "    task.cancel()\n",
    "    camera.release()\n",
    "\n",
    "process_btn.on_click(lambda _: execute_pipeline())\n",
    "stop_btn.on_click(lambda _: on_stop_btn_click())"
   ]
  },
  {
   "cell_type": "markdown",
   "metadata": {},
   "source": [
    "## Mostrando interface"
   ]
  },
  {
   "cell_type": "code",
   "execution_count": null,
   "metadata": {},
   "outputs": [],
   "source": [
    "display(original_image_widget)\n",
    "\n",
    "display(widgets.HBox([\n",
    "    process_btn,\n",
    "    stop_btn\n",
    "]))\n",
    "\n",
    "display(marked_image_widget)\n",
    "\n",
    "display(infos_json_widget)\n",
    "\n",
    "display(prob_widget)"
   ]
  }
 ],
 "metadata": {
  "kernelspec": {
   "display_name": "PI",
   "language": "python",
   "name": "python3"
  },
  "language_info": {
   "codemirror_mode": {
    "name": "ipython",
    "version": 3
   },
   "file_extension": ".py",
   "mimetype": "text/x-python",
   "name": "python",
   "nbconvert_exporter": "python",
   "pygments_lexer": "ipython3",
   "version": "3.8.16"
  },
  "orig_nbformat": 4
 },
 "nbformat": 4,
 "nbformat_minor": 2
}
