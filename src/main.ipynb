{
 "cells": [
  {
   "cell_type": "markdown",
   "metadata": {},
   "source": [
    "# Código principal"
   ]
  },
  {
   "cell_type": "markdown",
   "metadata": {},
   "source": [
    "Nesse código é implementado todo o pipeline proposto pelo projeto, como definido na imagem a seguir:\n",
    "\n",
    "![image](../diagramaPI.drawio.png)"
   ]
  },
  {
   "cell_type": "markdown",
   "metadata": {},
   "source": [
    "## Instalação das bibliotecas necessárias"
   ]
  },
  {
   "cell_type": "code",
   "execution_count": 1,
   "metadata": {},
   "outputs": [
    {
     "name": "stdout",
     "output_type": "stream",
     "text": [
      "Requirement already satisfied: numpy in c:\\users\\gregf\\anaconda3\\envs\\pi\\lib\\site-packages (1.23.4)\n",
      "Note: you may need to restart the kernel to use updated packages.\n",
      "Requirement already satisfied: pandas in c:\\users\\gregf\\anaconda3\\envs\\pi\\lib\\site-packages (1.5.3)\n",
      "Requirement already satisfied: python-dateutil>=2.8.1 in c:\\users\\gregf\\anaconda3\\envs\\pi\\lib\\site-packages (from pandas) (2.8.2)\n",
      "Requirement already satisfied: pytz>=2020.1 in c:\\users\\gregf\\anaconda3\\envs\\pi\\lib\\site-packages (from pandas) (2022.7)\n",
      "Requirement already satisfied: numpy>=1.20.3 in c:\\users\\gregf\\anaconda3\\envs\\pi\\lib\\site-packages (from pandas) (1.23.4)\n",
      "Requirement already satisfied: six>=1.5 in c:\\users\\gregf\\anaconda3\\envs\\pi\\lib\\site-packages (from python-dateutil>=2.8.1->pandas) (1.16.0)\n",
      "Note: you may need to restart the kernel to use updated packages.\n",
      "Requirement already satisfied: pytesseract in c:\\users\\gregf\\anaconda3\\envs\\pi\\lib\\site-packages (0.3.10)\n",
      "Requirement already satisfied: packaging>=21.3 in c:\\users\\gregf\\anaconda3\\envs\\pi\\lib\\site-packages (from pytesseract) (23.0)\n",
      "Requirement already satisfied: Pillow>=8.0.0 in c:\\users\\gregf\\anaconda3\\envs\\pi\\lib\\site-packages (from pytesseract) (9.4.0)\n",
      "Note: you may need to restart the kernel to use updated packages.\n",
      "Requirement already satisfied: opencv-python in c:\\users\\gregf\\anaconda3\\envs\\pi\\lib\\site-packages (4.7.0.72)\n",
      "Requirement already satisfied: numpy>=1.17.0 in c:\\users\\gregf\\anaconda3\\envs\\pi\\lib\\site-packages (from opencv-python) (1.23.4)\n",
      "Note: you may need to restart the kernel to use updated packages.\n",
      "Requirement already satisfied: matplotlib in c:\\users\\gregf\\anaconda3\\envs\\pi\\lib\\site-packages (3.7.1)\n",
      "Requirement already satisfied: contourpy>=1.0.1 in c:\\users\\gregf\\anaconda3\\envs\\pi\\lib\\site-packages (from matplotlib) (1.1.0)\n",
      "Requirement already satisfied: cycler>=0.10 in c:\\users\\gregf\\anaconda3\\envs\\pi\\lib\\site-packages (from matplotlib) (0.11.0)\n",
      "Requirement already satisfied: fonttools>=4.22.0 in c:\\users\\gregf\\anaconda3\\envs\\pi\\lib\\site-packages (from matplotlib) (4.40.0)\n",
      "Requirement already satisfied: kiwisolver>=1.0.1 in c:\\users\\gregf\\anaconda3\\envs\\pi\\lib\\site-packages (from matplotlib) (1.4.4)\n",
      "Requirement already satisfied: numpy>=1.20 in c:\\users\\gregf\\anaconda3\\envs\\pi\\lib\\site-packages (from matplotlib) (1.23.4)\n",
      "Requirement already satisfied: packaging>=20.0 in c:\\users\\gregf\\anaconda3\\envs\\pi\\lib\\site-packages (from matplotlib) (23.0)\n",
      "Requirement already satisfied: pillow>=6.2.0 in c:\\users\\gregf\\anaconda3\\envs\\pi\\lib\\site-packages (from matplotlib) (9.4.0)\n",
      "Requirement already satisfied: pyparsing>=2.3.1 in c:\\users\\gregf\\anaconda3\\envs\\pi\\lib\\site-packages (from matplotlib) (3.1.0)\n",
      "Requirement already satisfied: python-dateutil>=2.7 in c:\\users\\gregf\\anaconda3\\envs\\pi\\lib\\site-packages (from matplotlib) (2.8.2)\n",
      "Requirement already satisfied: importlib-resources>=3.2.0 in c:\\users\\gregf\\anaconda3\\envs\\pi\\lib\\site-packages (from matplotlib) (5.12.0)\n",
      "Requirement already satisfied: zipp>=3.1.0 in c:\\users\\gregf\\anaconda3\\envs\\pi\\lib\\site-packages (from importlib-resources>=3.2.0->matplotlib) (3.11.0)\n",
      "Requirement already satisfied: six>=1.5 in c:\\users\\gregf\\anaconda3\\envs\\pi\\lib\\site-packages (from python-dateutil>=2.7->matplotlib) (1.16.0)\n",
      "Note: you may need to restart the kernel to use updated packages.\n",
      "Requirement already satisfied: imutils in c:\\users\\gregf\\anaconda3\\envs\\pi\\lib\\site-packages (0.5.4)\n",
      "Note: you may need to restart the kernel to use updated packages.\n",
      "Requirement already satisfied: ipywidgets in c:\\users\\gregf\\anaconda3\\envs\\pi\\lib\\site-packages (8.0.6)\n",
      "Requirement already satisfied: ipykernel>=4.5.1 in c:\\users\\gregf\\anaconda3\\envs\\pi\\lib\\site-packages (from ipywidgets) (6.15.0)\n",
      "Requirement already satisfied: ipython>=6.1.0 in c:\\users\\gregf\\anaconda3\\envs\\pi\\lib\\site-packages (from ipywidgets) (8.12.0)\n",
      "Requirement already satisfied: traitlets>=4.3.1 in c:\\users\\gregf\\anaconda3\\envs\\pi\\lib\\site-packages (from ipywidgets) (5.7.1)\n",
      "Requirement already satisfied: widgetsnbextension~=4.0.7 in c:\\users\\gregf\\anaconda3\\envs\\pi\\lib\\site-packages (from ipywidgets) (4.0.7)\n",
      "Requirement already satisfied: jupyterlab-widgets~=3.0.7 in c:\\users\\gregf\\anaconda3\\envs\\pi\\lib\\site-packages (from ipywidgets) (3.0.7)\n",
      "Requirement already satisfied: debugpy>=1.0 in c:\\users\\gregf\\anaconda3\\envs\\pi\\lib\\site-packages (from ipykernel>=4.5.1->ipywidgets) (1.5.1)\n",
      "Requirement already satisfied: jupyter-client>=6.1.12 in c:\\users\\gregf\\anaconda3\\envs\\pi\\lib\\site-packages (from ipykernel>=4.5.1->ipywidgets) (7.4.9)\n",
      "Requirement already satisfied: matplotlib-inline>=0.1 in c:\\users\\gregf\\anaconda3\\envs\\pi\\lib\\site-packages (from ipykernel>=4.5.1->ipywidgets) (0.1.6)\n",
      "Requirement already satisfied: nest-asyncio in c:\\users\\gregf\\anaconda3\\envs\\pi\\lib\\site-packages (from ipykernel>=4.5.1->ipywidgets) (1.5.6)\n",
      "Requirement already satisfied: packaging in c:\\users\\gregf\\anaconda3\\envs\\pi\\lib\\site-packages (from ipykernel>=4.5.1->ipywidgets) (23.0)\n",
      "Requirement already satisfied: psutil in c:\\users\\gregf\\anaconda3\\envs\\pi\\lib\\site-packages (from ipykernel>=4.5.1->ipywidgets) (5.9.0)\n",
      "Requirement already satisfied: pyzmq>=17 in c:\\users\\gregf\\anaconda3\\envs\\pi\\lib\\site-packages (from ipykernel>=4.5.1->ipywidgets) (25.1.0)\n",
      "Requirement already satisfied: tornado>=6.1 in c:\\users\\gregf\\anaconda3\\envs\\pi\\lib\\site-packages (from ipykernel>=4.5.1->ipywidgets) (6.2)\n",
      "Requirement already satisfied: backcall in c:\\users\\gregf\\anaconda3\\envs\\pi\\lib\\site-packages (from ipython>=6.1.0->ipywidgets) (0.2.0)\n",
      "Requirement already satisfied: decorator in c:\\users\\gregf\\anaconda3\\envs\\pi\\lib\\site-packages (from ipython>=6.1.0->ipywidgets) (5.1.1)\n",
      "Requirement already satisfied: jedi>=0.16 in c:\\users\\gregf\\anaconda3\\envs\\pi\\lib\\site-packages (from ipython>=6.1.0->ipywidgets) (0.18.1)\n",
      "Requirement already satisfied: pickleshare in c:\\users\\gregf\\anaconda3\\envs\\pi\\lib\\site-packages (from ipython>=6.1.0->ipywidgets) (0.7.5)\n",
      "Requirement already satisfied: prompt-toolkit!=3.0.37,<3.1.0,>=3.0.30 in c:\\users\\gregf\\anaconda3\\envs\\pi\\lib\\site-packages (from ipython>=6.1.0->ipywidgets) (3.0.36)\n",
      "Requirement already satisfied: pygments>=2.4.0 in c:\\users\\gregf\\anaconda3\\envs\\pi\\lib\\site-packages (from ipython>=6.1.0->ipywidgets) (2.15.1)\n",
      "Requirement already satisfied: stack-data in c:\\users\\gregf\\anaconda3\\envs\\pi\\lib\\site-packages (from ipython>=6.1.0->ipywidgets) (0.2.0)\n",
      "Requirement already satisfied: typing-extensions in c:\\users\\gregf\\anaconda3\\envs\\pi\\lib\\site-packages (from ipython>=6.1.0->ipywidgets) (4.6.3)\n",
      "Requirement already satisfied: colorama in c:\\users\\gregf\\appdata\\roaming\\python\\python38\\site-packages (from ipython>=6.1.0->ipywidgets) (0.4.3)\n",
      "Requirement already satisfied: parso<0.9.0,>=0.8.0 in c:\\users\\gregf\\anaconda3\\envs\\pi\\lib\\site-packages (from jedi>=0.16->ipython>=6.1.0->ipywidgets) (0.8.3)\n",
      "Requirement already satisfied: entrypoints in c:\\users\\gregf\\anaconda3\\envs\\pi\\lib\\site-packages (from jupyter-client>=6.1.12->ipykernel>=4.5.1->ipywidgets) (0.4)\n",
      "Requirement already satisfied: jupyter-core>=4.9.2 in c:\\users\\gregf\\anaconda3\\envs\\pi\\lib\\site-packages (from jupyter-client>=6.1.12->ipykernel>=4.5.1->ipywidgets) (5.3.1)\n",
      "Requirement already satisfied: python-dateutil>=2.8.2 in c:\\users\\gregf\\anaconda3\\envs\\pi\\lib\\site-packages (from jupyter-client>=6.1.12->ipykernel>=4.5.1->ipywidgets) (2.8.2)\n",
      "Requirement already satisfied: wcwidth in c:\\users\\gregf\\anaconda3\\envs\\pi\\lib\\site-packages (from prompt-toolkit!=3.0.37,<3.1.0,>=3.0.30->ipython>=6.1.0->ipywidgets) (0.2.5)\n",
      "Requirement already satisfied: executing in c:\\users\\gregf\\anaconda3\\envs\\pi\\lib\\site-packages (from stack-data->ipython>=6.1.0->ipywidgets) (0.8.3)\n",
      "Requirement already satisfied: asttokens in c:\\users\\gregf\\anaconda3\\envs\\pi\\lib\\site-packages (from stack-data->ipython>=6.1.0->ipywidgets) (2.0.5)\n",
      "Requirement already satisfied: pure-eval in c:\\users\\gregf\\anaconda3\\envs\\pi\\lib\\site-packages (from stack-data->ipython>=6.1.0->ipywidgets) (0.2.2)\n",
      "Requirement already satisfied: platformdirs>=2.5 in c:\\users\\gregf\\anaconda3\\envs\\pi\\lib\\site-packages (from jupyter-core>=4.9.2->jupyter-client>=6.1.12->ipykernel>=4.5.1->ipywidgets) (2.5.2)\n",
      "Requirement already satisfied: pywin32>=300 in c:\\users\\gregf\\anaconda3\\envs\\pi\\lib\\site-packages (from jupyter-core>=4.9.2->jupyter-client>=6.1.12->ipykernel>=4.5.1->ipywidgets) (305.1)\n",
      "Requirement already satisfied: six>=1.5 in c:\\users\\gregf\\anaconda3\\envs\\pi\\lib\\site-packages (from python-dateutil>=2.8.2->jupyter-client>=6.1.12->ipykernel>=4.5.1->ipywidgets) (1.16.0)\n",
      "Note: you may need to restart the kernel to use updated packages.\n"
     ]
    }
   ],
   "source": [
    "%pip install numpy\n",
    "%pip install pandas\n",
    "%pip install pytesseract\n",
    "%pip install opencv-python\n",
    "%pip install matplotlib\n",
    "%pip install imutils\n",
    "%pip install ipywidgets"
   ]
  },
  {
   "cell_type": "markdown",
   "metadata": {},
   "source": [
    "## Importações de bibliotecas externas"
   ]
  },
  {
   "cell_type": "code",
   "execution_count": 2,
   "metadata": {},
   "outputs": [],
   "source": [
    "import pytesseract\n",
    "import ipywidgets as widgets"
   ]
  },
  {
   "cell_type": "markdown",
   "metadata": {},
   "source": [
    "Para configurar o `pytesseract` é preciso instalar o seu executável. Se não tiver configurado ele nas variáveis de ambiente, modificar a variável do código abaixo para indicar o caminho até o executável do `tesseract`.\n",
    "\n",
    "A documentação do `pytesseract` pode ser [acessada aqui](https://pypi.org/project/pytesseract/)\n",
    "\n",
    "O `tesseract` pode ser instalado [por aqui](https://tesseract-ocr.github.io/tessdoc/Installation.html)"
   ]
  },
  {
   "cell_type": "code",
   "execution_count": 3,
   "metadata": {},
   "outputs": [],
   "source": [
    "pytesseract.pytesseract.tesseract_cmd = r'C:/Program Files/Tesseract-OCR/tesseract.exe'"
   ]
  },
  {
   "cell_type": "markdown",
   "metadata": {},
   "source": [
    "## Importações internas"
   ]
  },
  {
   "cell_type": "code",
   "execution_count": 4,
   "metadata": {},
   "outputs": [],
   "source": [
    "from image_preprocessing.image_preprocessing import preprocess_image\n",
    "from image_preprocessing.document_digitalization import mark_document_found\n",
    "\n",
    "from OCR.image_to_dataframe import image_to_dataframe\n",
    "\n",
    "from relevant_info_identification.relevant_info_identification import get_document_info_and_mark_relevant_regions"
   ]
  },
  {
   "cell_type": "markdown",
   "metadata": {},
   "source": [
    "## Criando objetos da interface gráfica do projeto"
   ]
  },
  {
   "cell_type": "code",
   "execution_count": 5,
   "metadata": {},
   "outputs": [
    {
     "data": {
      "text/html": [
       "<style>\n",
       ".selected{\n",
       "    background-color: rgb(0, 255, 0);\n",
       "}\n",
       ".not-selected{\n",
       "    background-color: rgb(255, 0, 0);\n",
       "}\n",
       "</style>\n"
      ],
      "text/plain": [
       "<IPython.core.display.HTML object>"
      ]
     },
     "metadata": {},
     "output_type": "display_data"
    }
   ],
   "source": [
    "%%html\n",
    "<style>\n",
    ".selected{\n",
    "    background-color: rgb(0, 255, 0);\n",
    "}\n",
    ".not-selected{\n",
    "    background-color: rgb(255, 0, 0);\n",
    "}\n",
    "</style>"
   ]
  },
  {
   "cell_type": "code",
   "execution_count": 6,
   "metadata": {},
   "outputs": [
    {
     "data": {
      "application/vnd.jupyter.widget-view+json": {
       "model_id": "b596d0f3b5b24e6cab3714334ee0f447",
       "version_major": 2,
       "version_minor": 0
      },
      "text/plain": [
       "VBox(children=(Image(value=b'', format='jpg', height='400', width='600'), Text(value=''), Text(value='')), _do…"
      ]
     },
     "execution_count": 6,
     "metadata": {},
     "output_type": "execute_result"
    }
   ],
   "source": [
    "original_image_widget = widgets.Image(\n",
    "    format='jpg',\n",
    "    width=600,\n",
    "    height=400\n",
    ")\n",
    "\n",
    "\n",
    "process_btn = widgets.Button(\n",
    "    description='Processar',\n",
    "    button_style='success',\n",
    "    icon='check'\n",
    ")\n",
    "\n",
    "stop_btn = widgets.Button(\n",
    "    description='Parar',\n",
    "    button_style='danger',\n",
    "    icon='times'\n",
    ")\n",
    "\n",
    "\n",
    "no_rotate_marked_image_widget = widgets.Image(\n",
    "    format='jpg',\n",
    "    width=600,\n",
    "    height=400\n",
    ")\n",
    "\n",
    "no_rotate_infos_json_widget = widgets.Text()\n",
    "\n",
    "no_rotate_prob_widget = widgets.Text()\n",
    "\n",
    "\n",
    "rotate_180_marked_image_widget = widgets.Image(\n",
    "    format='jpg',\n",
    "    width=600,\n",
    "    height=400\n",
    ")\n",
    "\n",
    "rotate_180_infos_json_widget = widgets.Text()\n",
    "\n",
    "rotate_180_prob_widget = widgets.Text()\n",
    "\n",
    "\n",
    "no_rotate_box = widgets.VBox([\n",
    "    no_rotate_marked_image_widget,\n",
    "    no_rotate_infos_json_widget,\n",
    "    no_rotate_prob_widget\n",
    "])\n",
    "no_rotate_box.add_class('selected')\n",
    "\n",
    "\n",
    "rotate_180_box = widgets.VBox([\n",
    "    rotate_180_marked_image_widget,\n",
    "    rotate_180_infos_json_widget,\n",
    "    rotate_180_prob_widget\n",
    "])\n",
    "rotate_180_box.add_class('not-selected')\n",
    "pass"
   ]
  },
  {
   "cell_type": "markdown",
   "metadata": {},
   "source": [
    "## Definindo função do pipeline completo"
   ]
  },
  {
   "cell_type": "markdown",
   "metadata": {},
   "source": [
    "## Mostrando interface"
   ]
  },
  {
   "cell_type": "code",
   "execution_count": 7,
   "metadata": {},
   "outputs": [
    {
     "data": {
      "application/vnd.jupyter.widget-view+json": {
       "model_id": "5ee5114179614380bc9823ad488ca50e",
       "version_major": 2,
       "version_minor": 0
      },
      "text/plain": [
       "Image(value=b'', format='jpg', height='400', width='600')"
      ]
     },
     "metadata": {},
     "output_type": "display_data"
    },
    {
     "data": {
      "application/vnd.jupyter.widget-view+json": {
       "model_id": "3d5a89929575440dbe32f897a9cbebf3",
       "version_major": 2,
       "version_minor": 0
      },
      "text/plain": [
       "HBox(children=(VBox(children=(Image(value=b'', format='jpg', height='400', width='600'), Text(value=''), Text(…"
      ]
     },
     "metadata": {},
     "output_type": "display_data"
    }
   ],
   "source": [
    "display(original_image_widget)\n",
    "\n",
    "display(widgets.HBox([\n",
    "    no_rotate_box,\n",
    "    rotate_180_box\n",
    "]))"
   ]
  }
 ],
 "metadata": {
  "kernelspec": {
   "display_name": "PI",
   "language": "python",
   "name": "python3"
  },
  "language_info": {
   "codemirror_mode": {
    "name": "ipython",
    "version": 3
   },
   "file_extension": ".py",
   "mimetype": "text/x-python",
   "name": "python",
   "nbconvert_exporter": "python",
   "pygments_lexer": "ipython3",
   "version": "3.8.16"
  },
  "orig_nbformat": 4
 },
 "nbformat": 4,
 "nbformat_minor": 2
}
