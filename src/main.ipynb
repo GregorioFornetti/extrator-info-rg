{
 "cells": [
  {
   "cell_type": "markdown",
   "metadata": {},
   "source": [
    "# Código principal"
   ]
  },
  {
   "cell_type": "markdown",
   "metadata": {},
   "source": [
    "Nesse código é implementado todo o pipeline proposto pelo projeto, como definido na imagem a seguir:\n",
    "\n",
    "![image](../diagramaPI.drawio.png)"
   ]
  },
  {
   "cell_type": "markdown",
   "metadata": {},
   "source": [
    "## Instalação das bibliotecas necessárias"
   ]
  },
  {
   "cell_type": "code",
   "execution_count": null,
   "metadata": {},
   "outputs": [],
   "source": [
    "%pip install numpy\n",
    "%pip install pandas\n",
    "%pip install pytesseract\n",
    "%pip install opencv-python\n",
    "%pip install matplotlib\n",
    "%pip install imutils\n",
    "%pip install ipywidgets\n",
    "%pip install scikit-learn\n",
    "%pip install joblib\n",
    "%pip install tqdm"
   ]
  },
  {
   "cell_type": "markdown",
   "metadata": {},
   "source": [
    "## Importações de bibliotecas externas"
   ]
  },
  {
   "cell_type": "code",
   "execution_count": null,
   "metadata": {},
   "outputs": [],
   "source": [
    "import pytesseract\n",
    "import ipywidgets as widgets\n",
    "import cv2\n",
    "import asyncio\n",
    "import json"
   ]
  },
  {
   "cell_type": "markdown",
   "metadata": {},
   "source": [
    "Para configurar o `pytesseract` é preciso instalar o seu executável. Se não tiver configurado ele nas variáveis de ambiente, modificar a variável do código abaixo para indicar o caminho até o executável do `tesseract`.\n",
    "\n",
    "A documentação do `pytesseract` pode ser [acessada aqui](https://pypi.org/project/pytesseract/)\n",
    "\n",
    "O `tesseract` pode ser instalado [por aqui](https://tesseract-ocr.github.io/tessdoc/Installation.html)"
   ]
  },
  {
   "cell_type": "code",
   "execution_count": null,
   "metadata": {},
   "outputs": [],
   "source": [
    "pytesseract.pytesseract.tesseract_cmd = r'C:/Program Files/Tesseract-OCR/tesseract.exe'"
   ]
  },
  {
   "cell_type": "markdown",
   "metadata": {},
   "source": [
    "## Importações internas"
   ]
  },
  {
   "cell_type": "code",
   "execution_count": null,
   "metadata": {},
   "outputs": [],
   "source": [
    "from classes.Result import Result\n",
    "\n",
    "from image_preprocessing.image_preprocessing import preprocess_image\n",
    "from image_preprocessing.document_digitalization import mark_document_found\n",
    "from image_preprocessing.rotations import rotate_180\n",
    "\n",
    "from relevant_info_identification.relevant_info_identification import get_document_info_and_mark_relevant_regions\n",
    "\n",
    "from image_classification.image_classification import get_rg_probability\n",
    "\n",
    "from result_selection.result_selection import select_result"
   ]
  },
  {
   "cell_type": "markdown",
   "metadata": {},
   "source": [
    "## Criando objetos da interface gráfica do projeto"
   ]
  },
  {
   "cell_type": "code",
   "execution_count": null,
   "metadata": {},
   "outputs": [],
   "source": [
    "original_image_widget = widgets.Image(\n",
    "    format='jpg',\n",
    "    width=600,\n",
    "    height=400\n",
    ")\n",
    "\n",
    "\n",
    "process_btn = widgets.Button(\n",
    "    description='Processar',\n",
    "    button_style='success',\n",
    "    icon='check'\n",
    ")\n",
    "\n",
    "stop_btn = widgets.Button(\n",
    "    description='Parar',\n",
    "    button_style='danger',\n",
    "    icon='times'\n",
    ")\n",
    "\n",
    "\n",
    "marked_image_widget = widgets.Image(\n",
    "    format='jpg',\n",
    "    width=600,\n",
    "    height=400\n",
    ")\n",
    "\n",
    "infos_json_widget = widgets.Text(\n",
    "    disabled=True\n",
    ")\n",
    "\n",
    "prob_widget = widgets.Text(\n",
    "    disabled=True\n",
    ")\n",
    "\n",
    "pass"
   ]
  },
  {
   "cell_type": "markdown",
   "metadata": {},
   "source": [
    "## Definindo função do pipeline completo"
   ]
  },
  {
   "cell_type": "code",
   "execution_count": null,
   "metadata": {},
   "outputs": [],
   "source": [
    "original_image = None\n",
    "\n",
    "def execute_pipeline():\n",
    "    if original_image is not None:\n",
    "        # Pré-processamento\n",
    "        preprocessed_image = preprocess_image(original_image)\n",
    "        no_rotate_preprocessed_image = preprocessed_image\n",
    "        rotate_180_preprocessed_image = rotate_180(preprocessed_image)\n",
    "\n",
    "        # OCR + Algoritmo de identificação\n",
    "        no_rotate_relevant_info, no_rotate_marked_img = get_document_info_and_mark_relevant_regions(no_rotate_preprocessed_image)\n",
    "        rotate_180_relevant_info, rotate_180_marked_img = get_document_info_and_mark_relevant_regions(rotate_180_preprocessed_image)\n",
    "\n",
    "        # Classificador\n",
    "        no_rotate_rg_prob = get_rg_probability(no_rotate_preprocessed_image)\n",
    "        rotate_180_rg_prob = get_rg_probability(rotate_180_preprocessed_image)\n",
    "\n",
    "        # Seleção de resultados\n",
    "        no_rotate_result = Result(no_rotate_marked_img, no_rotate_relevant_info, no_rotate_rg_prob)\n",
    "        rotate_180_result = Result(rotate_180_marked_img, rotate_180_relevant_info, rotate_180_rg_prob)\n",
    "        selected_result = select_result([no_rotate_result, rotate_180_result])\n",
    "        \n",
    "        # Mostrando na interface\n",
    "        marked_image_widget.value = cv2.imencode('.jpg', selected_result.marked_img)[1].tobytes()\n",
    "        infos_json_widget.value = json.dumps(selected_result.relevant_infos_json)\n",
    "        prob_widget.value = str(selected_result.rg_probability)\n",
    "\n",
    "\n",
    "delay_in_seconds = 0.1\n",
    "camera = cv2.VideoCapture(0)\n",
    "async def read_image_real_time():\n",
    "    global original_image\n",
    "    while True:\n",
    "        ret, original_image = camera.read()\n",
    "        frame_copy = original_image.copy()\n",
    "        marked_image = mark_document_found(frame_copy)\n",
    "        original_image_widget.value = cv2.imencode('.jpg', marked_image)[1].tobytes()\n",
    "        await asyncio.sleep(delay_in_seconds)\n",
    "\n",
    "loop = asyncio.get_event_loop()\n",
    "task = loop.create_task(read_image_real_time())\n",
    "\n",
    "def on_stop_btn_click():\n",
    "    task.cancel()\n",
    "    camera.release()\n",
    "\n",
    "stop_btn.on_click(lambda _: on_stop_btn_click())\n"
   ]
  },
  {
   "cell_type": "markdown",
   "metadata": {},
   "source": [
    "## Adicionando eventos e criando loop de captura de tela"
   ]
  },
  {
   "cell_type": "code",
   "execution_count": null,
   "metadata": {},
   "outputs": [],
   "source": [
    "delay_in_seconds = 0.1\n",
    "camera = cv2.VideoCapture(0)\n",
    "async def read_image_real_time():\n",
    "    global original_image\n",
    "    while True:\n",
    "        ret, original_image = camera.read()\n",
    "        frame_copy = original_image.copy()\n",
    "        marked_image = mark_document_found(frame_copy)\n",
    "        original_image_widget.value = cv2.imencode('.jpg', marked_image)[1].tobytes()\n",
    "        await asyncio.sleep(delay_in_seconds)\n",
    "\n",
    "loop = asyncio.get_event_loop()\n",
    "task = loop.create_task(read_image_real_time())\n",
    "\n",
    "def on_stop_btn_click():\n",
    "    task.cancel()\n",
    "    camera.release()\n",
    "\n",
    "process_btn.on_click(lambda _: execute_pipeline())\n",
    "stop_btn.on_click(lambda _: on_stop_btn_click())"
   ]
  },
  {
   "cell_type": "markdown",
   "metadata": {},
   "source": [
    "## Mostrando interface"
   ]
  },
  {
   "cell_type": "code",
   "execution_count": null,
   "metadata": {},
   "outputs": [],
   "source": [
    "display(original_image_widget)\n",
    "\n",
    "display(widgets.HBox([\n",
    "    process_btn,\n",
    "    stop_btn\n",
    "]))\n",
    "\n",
    "display(marked_image_widget)\n",
    "\n",
    "display(infos_json_widget)\n",
    "\n",
    "display(prob_widget)"
   ]
  }
 ],
 "metadata": {
  "kernelspec": {
   "display_name": "PI",
   "language": "python",
   "name": "python3"
  },
  "language_info": {
   "codemirror_mode": {
    "name": "ipython",
    "version": 3
   },
   "file_extension": ".py",
   "mimetype": "text/x-python",
   "name": "python",
   "nbconvert_exporter": "python",
   "pygments_lexer": "ipython3",
   "version": "3.8.16"
  },
  "orig_nbformat": 4
 },
 "nbformat": 4,
 "nbformat_minor": 2
}
